{
 "cells": [
  {
   "cell_type": "markdown",
   "id": "0d805b32",
   "metadata": {},
   "source": [
    "Chat GPT based summaries:\n",
    "Initially Chat GPT was not creating very good summaries, but through an RLHF-type approach I was able to help it make better summaries."
   ]
  },
  {
   "cell_type": "code",
   "execution_count": 2,
   "id": "4801b70f",
   "metadata": {},
   "outputs": [
    {
     "name": "stdout",
     "output_type": "stream",
     "text": [
      "Requirement already satisfied: bottleneck in c:\\users\\ianre\\anaconda3\\lib\\site-packages (1.3.5)\n",
      "Collecting bottleneck\n",
      "  Obtaining dependency information for bottleneck from https://files.pythonhosted.org/packages/76/ab/3e95d162d356c853b7c0c084871900d5bdce5e9ad5479396d9641c2dee99/Bottleneck-1.4.0-cp311-cp311-win_amd64.whl.metadata\n",
      "  Downloading Bottleneck-1.4.0-cp311-cp311-win_amd64.whl.metadata (8.1 kB)\n",
      "Requirement already satisfied: numpy in c:\\users\\ianre\\anaconda3\\lib\\site-packages (from bottleneck) (1.24.3)\n",
      "Downloading Bottleneck-1.4.0-cp311-cp311-win_amd64.whl (111 kB)\n",
      "   ---------------------------------------- 0.0/111.6 kB ? eta -:--:--\n",
      "   ---------------------------------------- 111.6/111.6 kB 6.8 MB/s eta 0:00:00\n",
      "Installing collected packages: bottleneck\n",
      "  Attempting uninstall: bottleneck\n",
      "    Found existing installation: Bottleneck 1.3.5\n",
      "    Uninstalling Bottleneck-1.3.5:\n",
      "      Successfully uninstalled Bottleneck-1.3.5\n",
      "Successfully installed bottleneck-1.4.0\n",
      "Note: you may need to restart the kernel to use updated packages.\n"
     ]
    }
   ],
   "source": [
    "pip install --upgrade bottleneck"
   ]
  },
  {
   "cell_type": "code",
   "execution_count": 1,
   "id": "51e27be9",
   "metadata": {},
   "outputs": [],
   "source": [
    "import pandas as pd\n",
    "\n",
    "articles = pd.read_csv(\"C:/Users/ianre/OneDrive/Documents/Article Summarizer/genetics_articles.csv\")"
   ]
  },
  {
   "cell_type": "code",
   "execution_count": 2,
   "id": "05572833",
   "metadata": {},
   "outputs": [
    {
     "data": {
      "text/html": [
       "<div>\n",
       "<style scoped>\n",
       "    .dataframe tbody tr th:only-of-type {\n",
       "        vertical-align: middle;\n",
       "    }\n",
       "\n",
       "    .dataframe tbody tr th {\n",
       "        vertical-align: top;\n",
       "    }\n",
       "\n",
       "    .dataframe thead th {\n",
       "        text-align: right;\n",
       "    }\n",
       "</style>\n",
       "<table border=\"1\" class=\"dataframe\">\n",
       "  <thead>\n",
       "    <tr style=\"text-align: right;\">\n",
       "      <th></th>\n",
       "      <th>title</th>\n",
       "      <th>content</th>\n",
       "    </tr>\n",
       "  </thead>\n",
       "  <tbody>\n",
       "    <tr>\n",
       "      <th>0</th>\n",
       "      <td>Predicting Myriad Diseases From a Single Drop ...</td>\n",
       "      <td>By Dennis Thompson HealthDay Reporter\\n\\nHealt...</td>\n",
       "    </tr>\n",
       "    <tr>\n",
       "      <th>1</th>\n",
       "      <td>Scientists May Have Stopped a Form of Inherite...</td>\n",
       "      <td>By Ernie Mundell HealthDay Reporter\\n\\nHealthD...</td>\n",
       "    </tr>\n",
       "    <tr>\n",
       "      <th>2</th>\n",
       "      <td>Too Many Breast Cancer Survivors Miss Out on G...</td>\n",
       "      <td>By Dennis Thompson HealthDay Reporter\\n\\nHealt...</td>\n",
       "    </tr>\n",
       "    <tr>\n",
       "      <th>3</th>\n",
       "      <td>Current Gene Screens Miss Many at High Cancer ...</td>\n",
       "      <td>By Ernie Mundell HealthDay Reporter\\n\\nHealthD...</td>\n",
       "    </tr>\n",
       "    <tr>\n",
       "      <th>4</th>\n",
       "      <td>Thinking of a Switch Away from Meat? Your Gene...</td>\n",
       "      <td>By Dennis Thompson HealthDay Reporter\\n\\nHealt...</td>\n",
       "    </tr>\n",
       "  </tbody>\n",
       "</table>\n",
       "</div>"
      ],
      "text/plain": [
       "                                               title  \\\n",
       "0  Predicting Myriad Diseases From a Single Drop ...   \n",
       "1  Scientists May Have Stopped a Form of Inherite...   \n",
       "2  Too Many Breast Cancer Survivors Miss Out on G...   \n",
       "3  Current Gene Screens Miss Many at High Cancer ...   \n",
       "4  Thinking of a Switch Away from Meat? Your Gene...   \n",
       "\n",
       "                                             content  \n",
       "0  By Dennis Thompson HealthDay Reporter\\n\\nHealt...  \n",
       "1  By Ernie Mundell HealthDay Reporter\\n\\nHealthD...  \n",
       "2  By Dennis Thompson HealthDay Reporter\\n\\nHealt...  \n",
       "3  By Ernie Mundell HealthDay Reporter\\n\\nHealthD...  \n",
       "4  By Dennis Thompson HealthDay Reporter\\n\\nHealt...  "
      ]
     },
     "execution_count": 2,
     "metadata": {},
     "output_type": "execute_result"
    }
   ],
   "source": [
    "articles.head()"
   ]
  },
  {
   "cell_type": "code",
   "execution_count": 3,
   "id": "6c7444ee",
   "metadata": {},
   "outputs": [],
   "source": [
    "title=articles[\"title\"]"
   ]
  },
  {
   "cell_type": "code",
   "execution_count": 4,
   "id": "472b356c",
   "metadata": {},
   "outputs": [],
   "source": [
    "#Summaries\n",
    "\n",
    "s = {\n",
    "    'title': title,\n",
    "    'summaries': ['A study published in *Nature Medicine* reveals that analyzing protein \"signatures\" from a single drop of blood could predict the onset of 67 diseases, including cancers and heart failure. The research, involving over 40,000 participants from the UK Biobank study, found these protein markers to be more accurate than traditional tests like cholesterol and blood sugar levels. This method could revolutionize early disease detection and aid in drug development, though further validation across diverse populations is necessary.',\n",
    "                 'A study published on July 21, 2024, in *Genes* details a new DNA test developed to prevent progressive retinal atrophy (PRA) in dogs. This genetic disease, which previously led to blindness in dogs like Shola, an English Shepherd and former mountain rescue dog, can now be avoided through testing. Researchers from the University of Cambridge identified the gene responsible for PRA and created a mouth-swab test for breeders, potentially eliminating the disease from dog populations. This advance not only aids in dog breeding but may also offer insights into similar human eye conditions.',\n",
    "                 'A study published on July 15, 2024, in the *Journal of Clinical Oncology* reveals that many breast cancer patients are not receiving genetic counseling and testing, despite its potential to guide treatment and inform family members of cancer risk. Only 75% of eligible patients received testing post-diagnosis, and just over half of survivors did so during follow-up. The research underscores the need to streamline genetic testing guidelines and highlights that a significant number of patients are not receiving appropriate testing while some are tested unnecessarily.',\n",
    "                 'A study published on July 16, 2024, in *JCO Precision Oncology* reveals that current genetic screening guidelines are failing to identify many individuals at high risk for cancer. Researchers at the Mayo Clinic found that 1.24% of over 44,000 people carried hereditary mutations increasing their risk for cancers like breast, ovarian, or colorectal, with over half unaware of their risk and 40% not meeting standard testing criteria. The findings highlight the need to broaden genetic screening practices, particularly to address biases that affect minority groups and ensure earlier detection and targeted therapies.',\n",
    "                 'A study published on July 15, 2024, in *PLOS Genetics* highlights how genetics influence an individual\\'s response to vegetarian and vegan diets. Researchers found that specific genetic variants can affect calcium, testosterone levels, and kidney function differently than the typical effects of a vegetarian diet. The study, which analyzed data from over 150,000 people, suggests that personalized dietary recommendations based on genetic testing may be necessary for optimal health, as genetics significantly impact how individuals respond to different diets.',\n",
    "                 'A new study published in *Nature Genetics* explores how genetics influence the timing of a girl\\'s first period, finding that genes can indirectly affect puberty onset by accelerating weight gain in childhood. Analyzing the genes of approximately 800,000 women, researchers identified over 1,000 genetic variants associated with puberty, including 600 new ones. The study revealed that certain genetic variants could increase the likelihood of early or late puberty and may inform future interventions for managing puberty timing and associated health risks.',\n",
    "                 'A study published in the *New England Journal of Medicine* has highlighted a genetic variant called the \"Christchurch variant\" that may protect against Alzheimer’s disease. Among 1,200 Colombian family members with the Alzheimer\\'s-causing \"Paisa mutation,\" 28 avoided early onset of the disease due to the presence of the Christchurch variant. This discovery suggests that therapies targeting this genetic pathway could potentially delay or prevent Alzheimer’s, with further research needed to develop effective treatments and understand its broader implications.',\n",
    "                 'A new trial has shown promising results for CRISPR gene-editing therapy in treating sickle cell disease, with all 18 patients in the study successfully avoiding painful events and resolving anemia after treatment. The experimental therapy, known as renizgamglogene autogedtemcel (reni-cel), involves editing patients\\' own stem cells to correct the genetic defect causing the disorder. The findings, presented at the European Hematology Association 2024 Congress, suggest this approach could bring researchers closer to a functional cure for sickle cell disease, though further validation in peer-reviewed journals is needed.',\n",
    "                 'A study of 4,400 cognitively unimpaired individuals has found that having a mother with Alzheimer\\'s disease is associated with higher levels of amyloid protein plaques in the brain, a key indicator of the disease. The research, led by Mass General Brigham and published in JAMA Neurology, indicates that maternal Alzheimer\\'s or early-onset Alzheimer\\'s in a father can increase amyloid levels, suggesting a significant role of maternal inheritance in Alzheimer\\'s risk. These findings highlight the need for targeted prevention efforts, although results may vary across different ethnic groups.',\n",
    "                 'A new study has demonstrated that gene therapy can restore hearing in both ears of children born deaf due to the DFNB9 condition, caused by mutations in the OTOF gene. All five children in the study showed significant improvements in hearing, speech perception, and sound localization. Two children also developed an appreciation for music. The therapy involves injecting a virus carrying a healthy OTOF gene into the inner ears, which has proven effective without serious side effects. This approach, detailed in the June 5 issue of *Nature Medicine*, may eventually be used to address other forms of genetic or non-genetic hearing loss.',\n",
    "                 'Recent research from Britain shows that the immunotherapy drug pembrolizumab (Keytruda) significantly improves outcomes for patients with advanced colon cancer who have a specific genetic profile known as MMR deficient/MSI-High. This profile affects about 10-15% of colon cancer patients. Administering Keytruda before surgery resulted in up to 10 times more patients remaining cancer-free compared to those who did not receive the drug. The study, presented at the American Society of Clinical Oncology meeting, involved 32 patients and found that over half showed no signs of cancer post-surgery, compared to just 4% with chemotherapy alone. Long-term follow-up is needed to confirm the durability of these results.',\n",
    "                 'A new study has identified mutations in the RNU4-2 gene as a major cause of developmental disorders, affecting tens of thousands globally. This gene, which does not produce proteins but plays a crucial role in gene splicing, was previously overlooked due to a focus on protein-coding genes. Researchers discovered its significance by analyzing over 41,000 non-coding genes in people with intellectual disabilities and healthy controls. The finding, published in *Nature Medicine*, is one of the most common single-gene causes of such disorders, highlighting the need to investigate non-coding genes for more accurate diagnoses.',\n",
    "                 'An experimental gene therapy has shown promise in curing genital and oral herpes in lab mice by eliminating up to 90% of the virus. This therapy uses gene-editing molecules and modified delivery viruses to cut the herpes virus\\'s DNA, preventing it from repairing itself and allowing the body to remove the damaged virus. The treatment reduced both facial and genital herpes infections significantly and could offer a safer, more streamlined approach to managing herpes in humans. Clinical trials are planned to further evaluate the therapy\\'s effectiveness and safety.',\n",
    "                 'A groundbreaking gene therapy trial at Cambridge University Hospitals has enabled 18-month-old Opal Sandy, born with auditory neuropathy, to hear for the first time. The therapy delivered a functional OTOF gene into Opal\\'s inner ear using a harmless virus, significantly improving her ability to detect sounds and even speak. This success represents a major advance in treating genetic hearing loss and offers hope for similar treatments in the future. The ongoing global trial aims to further explore the therapy\\'s potential and long-term effects.',\n",
    "                 'A recent study has found that individuals carrying two copies of the APOE4 gene mutation almost inevitably develop brain changes associated with Alzheimer’s disease by age 55. By age 65, over 95% of these individuals show abnormal amyloid protein levels, a hallmark of Alzheimer’s. This discovery highlights the APOE4 mutation as a strong predictor of Alzheimer\\'s and suggests that people with this genetic profile could benefit from targeted preventive strategies and clinical trials.',\n",
    "                 'An early-stage clinical trial has shown that an injectable gene therapy improved vision in some patients with Leber Congenital Amaurosis (LCA), a rare genetic blindness condition. Of 14 participants, 11 experienced measurable improvements in one eye following a single CRISPR-based gene-editing injection. This marked the first use of CRISPR in treating congenital blindness directly in the body, with about 29% of participants showing significant enhancements in visual acuity. Researchers are hopeful that these promising results will lead to broader trials and more effective treatments for inherited retinal disorders.',\n",
    "                 'A recent study found that adopting a healthy lifestyle can significantly counteract the effects of genetic factors that shorten lifespan. Researchers discovered that individuals at high genetic risk for early death could extend their life expectancy by nearly 5.5 years by maintaining a healthy lifestyle by age 40. Conversely, an unhealthy lifestyle is linked to a 78% increased risk of early death, regardless of genetic predisposition. The study emphasizes the critical role of lifestyle choices in mitigating genetic risks and suggests that public health policies promoting healthy living could complement medical care to improve longevity.', \n",
    "                 'Researchers have pinpointed the genetic cause of spinocerebellar ataxia 4 (SCA4), a rare progressive movement disorder. The study, using advanced sequencing technology, identified an extra-long section of the ZFHX3 gene with repetitive DNA that leads to toxic protein buildup in nerve cells. This buildup impairs the cell\\'s ability to recycle proteins, causing symptoms such as muscle weakness, unsteady movements, and loss of sensation. The discovery provides a foundation for developing targeted treatments and offers genetic testing options for affected families, potentially paving the way for therapeutic advances.',\n",
    "                 'Lisa Pisano, who faced end-stage heart and kidney failure, received a groundbreaking treatment combining a mechanical heart pump with a gene-edited pig kidney. This approach marks the first instance of such a dual procedure and only the second gene-edited pig kidney transplant overall. The pig kidney was modified to reduce rejection risk and paired with the pig\\'s thymus gland to further prevent immune response issues. This innovative treatment provides a potential solution to the organ shortage crisis and offers hope for patients who are otherwise ineligible for traditional transplants.',\n",
    "                 'Researchers have identified two genetic variations that significantly increase obesity risk: variants in the BSN (Bassoon) and APBA1 genes. These variants can raise the risk of obesity by up to sixfold and affect roughly 1 in 6,500 adults. Unlike other obesity-related genes, BSN and APBA1 are involved in brain cell signaling rather than appetite regulation pathways, suggesting new mechanisms influencing obesity. Additionally, BSN variants are linked to higher risks of type 2 diabetes and non-alcoholic fatty liver disease.',\n",
    "                 'Researchers have identified a genetic mutation that may protect against Alzheimer’s disease, even in individuals with the high-risk APOE4 gene. This mutation, known as P3S-humanin, leads to increased production of the humanin protein, which appears to clear amyloid beta plaques from the brain and improve cellular function. Found mainly in people of Ashkenazi Jewish descent, this mutation is present in about 12% of centenarians of this group, significantly higher than in the general population. Studies in both humans and lab mice show that the P3S variant of humanin can mitigate some of the Alzheimer’s risk associated with APOE4, potentially guiding future treatments for the disease.',\n",
    "                 'A recent study finds that individuals with a genetic predisposition to stress are significantly more likely to suffer heart attacks during stressful events. Those with high genetic stress scores had a 34% greater risk of heart attack following major stressors, such as the days after Christmas or presidential elections. The risk was over three times higher if these individuals also experienced anxiety or depression. The study suggests that while screening for genetic stress isn’t practical, identifying people with anxiety or depression could help in targeting interventions that reduce both psychological and cardiovascular risks.',\n",
    "                 'For the first time, a genetically edited pig kidney has been successfully transplanted into a living human, Rick Slayman, 62, who was suffering from advanced kidney failure. The procedure, conducted at Massachusetts General Hospital, involved a pig kidney with 69 genetic modifications to reduce rejection risk. Slayman, who has a history of type 2 diabetes and high blood pressure, is recovering well after the four-hour operation. This breakthrough could address the severe organ donor shortage and improve outcomes for patients, especially those from minority communities facing higher rates of kidney disease.',\n",
    "                 'A recent study has identified a gene variant, IL1RN rs419598, that offers protection against severe COVID-19 in men up to age 74. This variant helps reduce inflammation, which can lead to severe illness and death. The study found that men with this gene variant were 80% less likely to die from COVID and less likely to experience severe illness after hospitalization. However, the protective effect does not extend beyond age 74. Researchers obtained blood samples from nearly 2,600 COVID patients, revealing higher levels of inflammation-fighting proteins in those with the gene variant. Further research is planned to explore the potential of IL-1-inhibiting therapies and their role in Long COVID.',\n",
    "                 'New research suggests that genetics play a growing role in determining individual susceptibility to COVID-19 over time, surpassing environmental factors. Initially, shared home environments were more influential in who got infected, but as the pandemic progressed, genetic factors became more significant. By the latter part of the study, genetics accounted for 70% of susceptibility variation and 41% of illness severity, compared to 33% for environmental factors. The study, using data from nearly 13,000 patients, highlights the need for further research to identify specific genetic influences and guide future research and resource allocation.',\n",
    "                 'A recent study has found that a genetic mutation in Labrador retrievers significantly contributes to obesity by causing increased hunger and reduced calorie expenditure. The mutation in the POMC gene affects hunger regulation and energy use, leading to heightened appetite between meals and a 25% decrease in resting energy expenditure. About 25% of Labradors and 66% of flat-coated retrievers carry this mutation. The study highlights the challenges in managing weight for affected dogs and suggests potential parallels for human obesity treatments, as similar genetic pathways are involved. The findings were published in *Science Advances* on March 6, 2024.',\n",
    "                 'A recent study analyzing ancient DNA has revealed that genetic defects such as Down syndrome and Edwards syndrome existed as far back as 4,500 years ago. The analysis of approximately 10,000 ancient human remains from Spain, Bulgaria, Finland, and Greece found six cases of Down syndrome and one of Edwards syndrome. Notably, these infants were buried with care, suggesting they were integrated into their communities despite their conditions. The study utilized a new statistical model to identify autosomal trisomies from ancient DNA, offering insights into how past societies treated individuals with genetic disorders. These findings were published in *Nature Communications* on February 20, 2024.',\n",
    "                 'Recent Canadian research suggests that for women with BRCA1 or BRCA2 gene mutations, a \"risk-reducing\" mastectomy may significantly lower the likelihood of dying from breast cancer. The study, published in the *British Journal of Cancer*, analyzed data from over 1,600 women across nine countries. It found that while mastectomy reduced breast cancer risk by 80% and resulted in only 2 deaths over six years, women who did not undergo the surgery had 100 breast cancer cases and 7 deaths. The findings support the effectiveness of the surgery in reducing mortality risk but emphasize the need for longer-term studies to further refine recommendations.',\n",
    "                 'A new study from the Broad Institute of MIT and Harvard indicates that genetic tests for 10 common diseases are approaching practical use in clinical settings. These tests assess genetic risk for conditions such as breast cancer, diabetes, and heart disease. The study, involving 2,500 participants, has refined these tests for better accuracy, including considerations for diverse genetic ancestries. Ongoing research at 10 academic medical centers will further evaluate the tests\\' effectiveness in predicting disease risk and guiding preventive measures. The findings, published in *Nature Medicine*, aim to enhance personalized preventive medicine.',\n",
    "                 'An experimental gene therapy has successfully restored hearing in five of six Chinese children born deaf due to a rare genetic defect. The therapy uses a modified virus to deliver a healthy version of the otoferlin gene, crucial for sound signal transmission. Conducted at Fudan University in Shanghai, the trial saw significant hearing improvements within six months for the treated children. This study, along with similar successful results from a U.S. trial, marks a major advancement in treating genetic deafness and could signal a new era in hearing loss treatment.']\n",
    "}\n",
    "\n",
    "ground_truth = pd.DataFrame(s)"
   ]
  },
  {
   "cell_type": "code",
   "execution_count": 5,
   "id": "3c09cb1b",
   "metadata": {},
   "outputs": [
    {
     "data": {
      "text/html": [
       "<div>\n",
       "<style scoped>\n",
       "    .dataframe tbody tr th:only-of-type {\n",
       "        vertical-align: middle;\n",
       "    }\n",
       "\n",
       "    .dataframe tbody tr th {\n",
       "        vertical-align: top;\n",
       "    }\n",
       "\n",
       "    .dataframe thead th {\n",
       "        text-align: right;\n",
       "    }\n",
       "</style>\n",
       "<table border=\"1\" class=\"dataframe\">\n",
       "  <thead>\n",
       "    <tr style=\"text-align: right;\">\n",
       "      <th></th>\n",
       "      <th>title</th>\n",
       "      <th>summaries</th>\n",
       "    </tr>\n",
       "  </thead>\n",
       "  <tbody>\n",
       "    <tr>\n",
       "      <th>0</th>\n",
       "      <td>Predicting Myriad Diseases From a Single Drop ...</td>\n",
       "      <td>A study published in *Nature Medicine* reveals...</td>\n",
       "    </tr>\n",
       "    <tr>\n",
       "      <th>1</th>\n",
       "      <td>Scientists May Have Stopped a Form of Inherite...</td>\n",
       "      <td>A study published on July 21, 2024, in *Genes*...</td>\n",
       "    </tr>\n",
       "    <tr>\n",
       "      <th>2</th>\n",
       "      <td>Too Many Breast Cancer Survivors Miss Out on G...</td>\n",
       "      <td>A study published on July 15, 2024, in the *Jo...</td>\n",
       "    </tr>\n",
       "    <tr>\n",
       "      <th>3</th>\n",
       "      <td>Current Gene Screens Miss Many at High Cancer ...</td>\n",
       "      <td>A study published on July 16, 2024, in *JCO Pr...</td>\n",
       "    </tr>\n",
       "    <tr>\n",
       "      <th>4</th>\n",
       "      <td>Thinking of a Switch Away from Meat? Your Gene...</td>\n",
       "      <td>A study published on July 15, 2024, in *PLOS G...</td>\n",
       "    </tr>\n",
       "  </tbody>\n",
       "</table>\n",
       "</div>"
      ],
      "text/plain": [
       "                                               title  \\\n",
       "0  Predicting Myriad Diseases From a Single Drop ...   \n",
       "1  Scientists May Have Stopped a Form of Inherite...   \n",
       "2  Too Many Breast Cancer Survivors Miss Out on G...   \n",
       "3  Current Gene Screens Miss Many at High Cancer ...   \n",
       "4  Thinking of a Switch Away from Meat? Your Gene...   \n",
       "\n",
       "                                           summaries  \n",
       "0  A study published in *Nature Medicine* reveals...  \n",
       "1  A study published on July 21, 2024, in *Genes*...  \n",
       "2  A study published on July 15, 2024, in the *Jo...  \n",
       "3  A study published on July 16, 2024, in *JCO Pr...  \n",
       "4  A study published on July 15, 2024, in *PLOS G...  "
      ]
     },
     "execution_count": 5,
     "metadata": {},
     "output_type": "execute_result"
    }
   ],
   "source": [
    "ground_truth.head()"
   ]
  },
  {
   "cell_type": "code",
   "execution_count": 6,
   "id": "36819a6c",
   "metadata": {},
   "outputs": [],
   "source": [
    "%matplotlib inline\n",
    "import numpy as np\n",
    "import seaborn as sns\n",
    "import matplotlib.pylab as plt\n",
    "\n",
    "import spacy\n",
    "import pandas as pd\n",
    "import os\n",
    "import re,string\n",
    "from nltk.corpus import stopwords\n",
    "from nltk.stem import PorterStemmer\n",
    "\n",
    "from sklearn.feature_extraction.text import TfidfVectorizer\n",
    "\n",
    "import nltk\n",
    "from nltk.tokenize import word_tokenize\n",
    "from nltk.corpus import stopwords\n",
    "from nltk.stem.porter import PorterStemmer\n",
    "from nltk.tokenize import RegexpTokenizer\n",
    "from nltk.stem.wordnet import WordNetLemmatizer\n",
    "from nltk import ngrams, FreqDist"
   ]
  },
  {
   "cell_type": "code",
   "execution_count": 18,
   "id": "51a56307",
   "metadata": {},
   "outputs": [],
   "source": [
    "# Pre-process dataset to apply Lemmatization\n",
    "#Thought I would end up needing this, but with the auto-tokenizers for each model I ended up not needing it\n",
    "\n",
    "def apply_lemmatization(in_text):\n",
    "    # Lemmatization\n",
    "    lem = WordNetLemmatizer()\n",
    "    word_list = nltk.word_tokenize(in_text)\n",
    "    output = ' '.join([lem.lemmatize(w) for w in word_list])\n",
    "    return output\n",
    "\n",
    "# Remove stop words\n",
    "def remove_stop_words(in_text):\n",
    "    stop_words = set(stopwords.words('english')) \n",
    "    word_tokens = word_tokenize(in_text)  \n",
    "    filtered_sentence = [w for w in word_tokens if not w in stop_words] \n",
    "    filtered_sentence = [] \n",
    "    for w in word_tokens: \n",
    "        if w not in stop_words: \n",
    "            filtered_sentence.append(w) \n",
    "\n",
    "    return filtered_sentence\n",
    "\n",
    "\n",
    "def clean_doc(doc): \n",
    "    #split document into individual words\n",
    "    doc = ' '.join(remove_stop_words(doc))\n",
    "    doc = apply_lemmatization(doc)\n",
    "\n",
    "    tokens=doc.split()\n",
    "    re_punc = re.compile('[%s]' % re.escape(string.punctuation))\n",
    "    # remove punctuation from each word\n",
    "    tokens = [re_punc.sub('', w) for w in tokens]\n",
    "    # remove remaining tokens that are not alphabetic\n",
    "    tokens = [word for word in tokens if word.isalpha()]\n",
    "    # filter out short tokens\n",
    "    tokens = [word for word in tokens if len(word) > 4]\n",
    "    #lowercase all words\n",
    "    tokens = [word.lower() for word in tokens]\n",
    "    \n",
    "    return tokens"
   ]
  },
  {
   "cell_type": "code",
   "execution_count": 20,
   "id": "83b2eccd",
   "metadata": {},
   "outputs": [
    {
     "name": "stdout",
     "output_type": "stream",
     "text": [
      "['dennis', 'thompson', 'healthday', 'reporter', 'healthday', 'tuesday', 'healthday', 'single', 'blood', 'might', 'predict', 'onset', 'dozen', 'disease', 'study', 'claim', 'analysis', 'protein', 'signature', 'droplet', 'blood', 'predict', 'disease', 'including', 'blood', 'cancer', 'degenerative', 'nerve', 'disease', 'disease', 'heart', 'failure', 'researcher', 'reported', 'journal', 'nature', 'medicine', 'study', 'researcher', 'analyzed', 'blood', 'protein', 'randomly', 'selected', 'participant', 'ongoing', 'biobank', 'study', 'looking', 'participant', 'electronic', 'health', 'record', 'researcher', 'pinpointed', 'protein', 'closely', 'associated', 'disease', 'these', 'protein', 'signature', 'outperformed', 'standard', 'measure', 'blood', 'count', 'cholesterol', 'level', 'kidney', 'function', 'blood', 'sugar', 'level', 'predict', 'disease', 'researcher', 'report', 'several', 'protein', 'signature', 'performed', 'similar', 'better', 'protein', 'already', 'trialled', 'potential', 'screening', 'prostate', 'specific', 'antigen', 'prostate', 'cancer', 'researcher', 'julia', 'carrasco', 'zanini', 'sanchez', 'postdoctoral', 'researcher', 'precision', 'healthcare', 'university', 'research', 'institute', 'queen', 'university', 'london', 'therefore', 'extremely', 'excited', 'opportunity', 'protein', 'signature', 'earlier', 'detection', 'ultimately', 'improved', 'prognosis', 'disease', 'sanchez', 'added', 'university', 'release', 'simple', 'blood', 'could', 'improve', 'early', 'detection', 'disease', 'might', 'search', 'medicine', 'senior', 'researcher', 'robert', 'scott', 'president', 'human', 'genetics', 'genomics', 'pharmaceutical', 'company', 'challenge', 'development', 'identification', 'patient', 'likely', 'benefit', 'medicine', 'scott', 'protein', 'blood', 'could', 'identify', 'individual', 'across', 'range', 'disease', 'aligns', 'approach', 'deepen', 'understanding', 'human', 'biology', 'disease', 'scott', 'added', 'however', 'researcher', 'finding', 'validated', 'different', 'group', 'people', 'including', 'different', 'ethnic', 'group', 'varying', 'level', 'symptom', 'different', 'disease', 'information', 'cleveland', 'clinic', 'blood', 'disease', 'source', 'queen', 'university', 'london', 'release']\n"
     ]
    }
   ],
   "source": [
    "#Cleaned doc for the original articles, not the summary\n",
    "c = clean_doc(articles.iloc[0,1])\n",
    "print(c)"
   ]
  },
  {
   "cell_type": "code",
   "execution_count": 22,
   "id": "49f52ae8",
   "metadata": {},
   "outputs": [
    {
     "data": {
      "application/vnd.jupyter.widget-view+json": {
       "model_id": "833be28263d54c0f83ea0e3ae5fb6a10",
       "version_major": 2,
       "version_minor": 0
      },
      "text/plain": [
       "VBox(children=(HTML(value='<center> <img\\nsrc=https://huggingface.co/front/assets/huggingface_logo-noborder.sv…"
      ]
     },
     "metadata": {},
     "output_type": "display_data"
    }
   ],
   "source": [
    "#Import Hugging Face models\n",
    "from huggingface_hub import notebook_login\n",
    "\n",
    "notebook_login()"
   ]
  },
  {
   "cell_type": "markdown",
   "id": "d8e041f2",
   "metadata": {},
   "source": [
    "T5-Small"
   ]
  },
  {
   "cell_type": "code",
   "execution_count": 26,
   "id": "6597be92",
   "metadata": {},
   "outputs": [],
   "source": [
    "from transformers import AutoTokenizer, AutoModelForSeq2SeqLM\n",
    "\n",
    "# Use a small model for text summarization\n",
    "model_name1 = \"t5-small\"\n",
    "#Must use a t5-small specific tokenizer here\n",
    "tokenizer = AutoTokenizer.from_pretrained(model_name1)\n",
    "model_t5 = AutoModelForSeq2SeqLM.from_pretrained(model_name1)"
   ]
  },
  {
   "cell_type": "code",
   "execution_count": 41,
   "id": "6b983a45",
   "metadata": {},
   "outputs": [
    {
     "name": "stdout",
     "output_type": "stream",
     "text": [
      "tensor([[  938, 18563, 14653,  1685, 16803,  3750,    49,  1685, 16803,     3,\n",
      "          9968,  3205, 12860,     6,  1718, 12992,   460,  2266,    41, 20718,\n",
      "         16803,  3529,    61,  1636,    71,   712,  2328,    13,  1717,   429,\n",
      "            36,     3,   179,    12,  9689,     8,     3, 26558,    13,     3,\n",
      "         14903,    13,  6716,     6,     3,     9,   126,   810,  3213,     5,\n",
      "         10582,    13,     8,  3619,   105,  6732,     9, 10471,   153,    16,\n",
      "             3,     9,  2328,  1655,    13,  1717,    54,  9689,     3,  3708,\n",
      "          6716,     6,   379,  1717,  1874,     7,     6,    20, 25181,  9077,\n",
      "          6716,     6,  5084,  1994,    11,   842,  3338,     6,  4768,  2196,\n",
      "          1718,  1630,    16,     8,  6378,  7913,  6852,     5,   242,     8,\n",
      "           810,     6,  4768,     3, 16466,     8,  1717, 13167,    13,    72,\n",
      "           145,     3, 20431, 21306,  2639,  3008,    16,     8,  4912,  1270,\n",
      "          3318,  4739,   810,     5,  4878,    44,     8,  3008,    22,  3031,\n",
      "           533,  3187,     6,  4768, 28598,    15,    26,   305,    12,   460,\n",
      "         13167,   167,  4799,  1968,    28,   284,  1994,     5,   506,  3619,\n",
      "           105,  6732,     9, 10471,   153,    91,   883, 10816,   119,  1068,\n",
      "          3830,    24,   261,  3629,   114,  1717,  2358, 12052,     6, 16462,\n",
      "          1425,     6, 11546,  1681,    11,  1717,  2656,  1425,    12,  9689,\n",
      "             8,     3,  3708,  6716,     6,  4768,   934,     5,   105,  8656,\n",
      "            13,    69,  3619,  5483,     7,  3032,  1126,    42,   237,   394,\n",
      "           145, 13167,   641,  3689,  1361,    21,    70,  1055,    38,  7468,\n",
      "          3830,     6,   224,    38, 25567,   806,  1181,   729,    21, 25567,\n",
      "          1874,   642,   243,   991, 18658, 18618, 11274,     9,  3523,  4904,\n",
      "            29,    77,    23, 28736,     6,     3,     9,   442,  7171,    17,\n",
      "          8563, 18658,    28,     8, 28464, 16254,   636,  2200,  2548,    44,\n",
      "          5286,  3790,   636,    13,  1524,     5,   105,  1326,    33,  2459,\n",
      "          2033,  2787,    81,     8,  1645,    24,    69,  3619,  5483,     7,\n",
      "           164,    43,    21,  2283, 10664,    11,  5510,  3798,   813,  6715,\n",
      "             7,   159,    21,   186,  6716,   642, 28736,   974,    16,     3,\n",
      "             9,  3819,  1506,  1576,     5,  3900,     3,     9,   650,  1717,\n",
      "           794,   228,    59,   163,  1172,   778, 10664,    13,  6716,     6,\n",
      "            68,   429,    92,   199,    16,     8,   960,    21,   126, 16766,\n",
      "             6,   243,  2991, 18658,  2715,  4972,     6,  6444,  2753,    11,\n",
      "           819,    13,   936,  6472,     7,    11, 29082,     7,    44,     8,\n",
      "         14106,   349,   350, 10047,     5,   105,   188,   843,  1921,    16,\n",
      "          2672,   606,    19,     8, 10356,    13,  1221,   167,   952,    12,\n",
      "          1656,    45,   126, 16766,   642,  4972,   243,     5, 17379,  1717,\n",
      "          3830,   228,    36,   261,   105,   235,  2862,  1742,    44,   306,\n",
      "          1020,   640,     3,     9,  1148,   620,    13,  6716,     6,    11,\n",
      "          7901,     7,    28,    69,  1295,    12,   169,  5256,    12,  1659,\n",
      "            35,    69,  1705,    13,   936, 15651,    11,  1994,   642,  4972,\n",
      "           974,     5,   611,     6,     8,  4768,   243,    70,  7469,   174,\n",
      "            12,    36, 16742,    26,    16,   315,  1637,    13,   151,     6,\n",
      "           379,  5265,    45,   315, 11655,  1637,    11,    28,     3, 14177,\n",
      "          1425,    13,  3976,    21,   315,  6716,     5,  1537,   251,    37,\n",
      "         13160, 12657,    65,    72,    30,  1717,  3830,    21,  1994,     5,\n",
      "           180,  9131,  4770,    10,  5286,  3790,   636,    13,  1524,     6,\n",
      "          1506,  1576,     6,  1718, 12889,   460,  2266,     1]])\n"
     ]
    }
   ],
   "source": [
    "#Tokenized inputs from t5-small autotokenizer\n",
    "\n",
    "inputs = tokenizer(articles.iloc[0,1], return_tensors=\"pt\", max_length=512, truncation=True)\n",
    "print(inputs[\"input_ids\"])"
   ]
  },
  {
   "cell_type": "code",
   "execution_count": 38,
   "id": "b2ef1e7d",
   "metadata": {},
   "outputs": [],
   "source": [
    "summary_ids = model.generate(inputs[\"input_ids\"], max_length=150, num_beams=10)\n",
    "summary = tokenizer.decode(summary_ids[0], skip_special_tokens=True)"
   ]
  },
  {
   "cell_type": "code",
   "execution_count": 39,
   "id": "fd82abbe",
   "metadata": {},
   "outputs": [
    {
     "name": "stdout",
     "output_type": "stream",
     "text": [
      "the protein “signatures” in a droplet of blood can predict 67 diseases, a new study claims. a single drop of blood might be able to predict the onset of dozens of diseases, a new study claims. analysis of the protein “signatures” in a droplet of blood can predict 67 diseases, including blood cancers, degenerative nerve diseases, lung disease and heart failure. protein blood tests could be used to identify individuals at high risk across a wide range of\n"
     ]
    }
   ],
   "source": [
    "print(summary)"
   ]
  },
  {
   "cell_type": "code",
   "execution_count": 44,
   "id": "cd167ec7",
   "metadata": {},
   "outputs": [
    {
     "name": "stdout",
     "output_type": "stream",
     "text": [
      "30\n"
     ]
    }
   ],
   "source": [
    "print(len(articles))"
   ]
  },
  {
   "cell_type": "code",
   "execution_count": 262,
   "id": "bc3be21f",
   "metadata": {},
   "outputs": [],
   "source": [
    "summaries_t5=[]\n",
    "for i in range(len(articles)):\n",
    "    inputs = tokenizer(articles.iloc[i,1], return_tensors=\"pt\", max_length=512, truncation=True)\n",
    "    summary_ids = model.generate(inputs[\"input_ids\"], max_length=150, num_beams=10, length_penalty=4.0)\n",
    "    summary = tokenizer.decode(summary_ids[0], skip_special_tokens=True)\n",
    "    summaries_t5.append(summary)"
   ]
  },
  {
   "cell_type": "code",
   "execution_count": 450,
   "id": "930b4b9f",
   "metadata": {},
   "outputs": [
    {
     "name": "stdout",
     "output_type": "stream",
     "text": [
      ": Mutations in a single newly identified gene are responsible for developmental disorders affecting tens of thousands of people worldwide. mutations in a single newly identified gene are responsible for developmental disorders affecting tens of thousands of people worldwide. the gene – RNU4-2 – can cause a collection of developmental symptoms that had not previously been tied to a distinct genetic disorder. researchers found it after using a U.K. genetics library to analyze over 41,000 non-coding genes in more than 5,\n"
     ]
    }
   ],
   "source": [
    "print(summaries_t5[11])"
   ]
  },
  {
   "cell_type": "code",
   "execution_count": 55,
   "id": "c2ed1fd8",
   "metadata": {},
   "outputs": [],
   "source": [
    "ground_truth['summaries'] = ground_truth['summaries'].apply(lambda x: x.lower() if isinstance(x, str) else x)"
   ]
  },
  {
   "cell_type": "code",
   "execution_count": 56,
   "id": "a9333eda",
   "metadata": {},
   "outputs": [
    {
     "name": "stdout",
     "output_type": "stream",
     "text": [
      "a study published in *nature medicine* reveals that analyzing protein \"signatures\" from a single drop of blood could predict the onset of 67 diseases, including cancers and heart failure. the research, involving over 40,000 participants from the uk biobank study, found these protein markers to be more accurate than traditional tests like cholesterol and blood sugar levels. this method could revolutionize early disease detection and aid in drug development, though further validation across diverse populations is necessary.\n"
     ]
    }
   ],
   "source": [
    "print(ground_truth.iloc[0,1])"
   ]
  },
  {
   "cell_type": "code",
   "execution_count": 36,
   "id": "6558296f",
   "metadata": {},
   "outputs": [
    {
     "name": "stdout",
     "output_type": "stream",
     "text": [
      "Collecting rouge-score\n",
      "  Downloading rouge_score-0.1.2.tar.gz (17 kB)\n",
      "  Preparing metadata (setup.py): started\n",
      "  Preparing metadata (setup.py): finished with status 'done'\n",
      "Requirement already satisfied: absl-py in c:\\users\\ianre\\anaconda3\\lib\\site-packages (from rouge-score) (2.1.0)\n",
      "Requirement already satisfied: nltk in c:\\users\\ianre\\anaconda3\\lib\\site-packages (from rouge-score) (3.8.1)\n",
      "Requirement already satisfied: numpy in c:\\users\\ianre\\anaconda3\\lib\\site-packages (from rouge-score) (1.24.3)\n",
      "Requirement already satisfied: six>=1.14.0 in c:\\users\\ianre\\anaconda3\\lib\\site-packages (from rouge-score) (1.16.0)\n",
      "Requirement already satisfied: click in c:\\users\\ianre\\anaconda3\\lib\\site-packages (from nltk->rouge-score) (8.0.4)\n",
      "Requirement already satisfied: joblib in c:\\users\\ianre\\anaconda3\\lib\\site-packages (from nltk->rouge-score) (1.2.0)\n",
      "Requirement already satisfied: regex>=2021.8.3 in c:\\users\\ianre\\anaconda3\\lib\\site-packages (from nltk->rouge-score) (2022.7.9)\n",
      "Requirement already satisfied: tqdm in c:\\users\\ianre\\anaconda3\\lib\\site-packages (from nltk->rouge-score) (4.66.4)\n",
      "Requirement already satisfied: colorama in c:\\users\\ianre\\anaconda3\\lib\\site-packages (from click->nltk->rouge-score) (0.4.6)\n",
      "Building wheels for collected packages: rouge-score\n",
      "  Building wheel for rouge-score (setup.py): started\n",
      "  Building wheel for rouge-score (setup.py): finished with status 'done'\n",
      "  Created wheel for rouge-score: filename=rouge_score-0.1.2-py3-none-any.whl size=24972 sha256=f9e835f0672e2a9e9a618db84cb39c653d2963a3ac6748e606536e656f83de1d\n",
      "  Stored in directory: c:\\users\\ianre\\appdata\\local\\pip\\cache\\wheels\\1e\\19\\43\\8a442dc83660ca25e163e1bd1f89919284ab0d0c1475475148\n",
      "Successfully built rouge-score\n",
      "Installing collected packages: rouge-score\n",
      "Successfully installed rouge-score-0.1.2\n",
      "Note: you may need to restart the kernel to use updated packages.\n"
     ]
    }
   ],
   "source": [
    "pip install rouge-score"
   ]
  },
  {
   "cell_type": "code",
   "execution_count": 264,
   "id": "adb1fede",
   "metadata": {},
   "outputs": [
    {
     "name": "stdout",
     "output_type": "stream",
     "text": [
      "ROUGE-1: Score(precision=0.5070422535211268, recall=0.3829787234042553, fmeasure=0.4363636363636364)\n",
      "ROUGE-2: Score(precision=0.15714285714285714, recall=0.11827956989247312, fmeasure=0.13496932515337423)\n",
      "ROUGE-L: Score(precision=0.23943661971830985, recall=0.18085106382978725, fmeasure=0.20606060606060608)\n"
     ]
    }
   ],
   "source": [
    "from rouge_score import rouge_scorer\n",
    "# Initialize the ROUGE scorer\n",
    "scorer_r1 = rouge_scorer.RougeScorer(['rouge1', 'rouge2', 'rougeL'], use_stemmer=True)\n",
    "\n",
    "# Calculate ROUGE scores\n",
    "def rougescore(g, s):\n",
    "    rouge1=[]\n",
    "    rouge2=[]\n",
    "    rougel=[]\n",
    "    for i in range(len(g)):\n",
    "        scores = scorer.score(g.iloc[i,1], s[i])\n",
    "        rouge1.append(scores['rouge1'])\n",
    "        rouge2.append(scores['rouge2'])\n",
    "        rougel.append(scores['rougeL'])\n",
    "    return rouge1,rouge2,rougel\n",
    "\n",
    "r1, r2, rl = rougescore(ground_truth, summaries_t5)\n",
    "# Print the ROUGE scores\n",
    "print(\"ROUGE-1:\", r1[1])\n",
    "print(\"ROUGE-2:\", r2[1])\n",
    "print(\"ROUGE-L:\", rl[1])"
   ]
  },
  {
   "cell_type": "code",
   "execution_count": 265,
   "id": "e3c9123b",
   "metadata": {},
   "outputs": [
    {
     "data": {
      "text/plain": [
       "0.4230769230769231"
      ]
     },
     "execution_count": 265,
     "metadata": {},
     "output_type": "execute_result"
    }
   ],
   "source": [
    "r1[0].precision"
   ]
  },
  {
   "cell_type": "code",
   "execution_count": 445,
   "id": "bf4c3372",
   "metadata": {},
   "outputs": [
    {
     "data": {
      "text/plain": [
       "'the sex of the study participant did not seem to matter when it came to the relationship between amyloid buildup and parental histories. genetics can play a role in a person\\'s odds for Alzheimer\\'s disease, and new research suggests differences in that risk are based on which parent had the illness. in a study of 4,400 people still \"cognitively unimpaired,\" there was higher buildup of amyloid protein plaques in the brain (a hallmark of Alzheimer\\'s) if'"
      ]
     },
     "execution_count": 445,
     "metadata": {},
     "output_type": "execute_result"
    }
   ],
   "source": [
    "summaries_t5[8]"
   ]
  },
  {
   "cell_type": "code",
   "execution_count": 247,
   "id": "98e701c6",
   "metadata": {},
   "outputs": [
    {
     "name": "stdout",
     "output_type": "stream",
     "text": [
      "0.4827559484366668\n"
     ]
    }
   ],
   "source": [
    "rouge1_precision = [r1[i].precision for i in range(30)]\n",
    "average_precision = np.mean(rouge1_precision)\n",
    "rouge1_precision.append(average_precision)\n",
    "print(average_precision)"
   ]
  },
  {
   "cell_type": "code",
   "execution_count": 268,
   "id": "6ab3279e",
   "metadata": {},
   "outputs": [
    {
     "name": "stdout",
     "output_type": "stream",
     "text": [
      "0.4230769230769231\n",
      "0.4230769230769231\n"
     ]
    }
   ],
   "source": [
    "print(r1[0].precision)\n",
    "print(rouge1_precision[0])"
   ]
  },
  {
   "cell_type": "code",
   "execution_count": 269,
   "id": "64635113",
   "metadata": {},
   "outputs": [
    {
     "name": "stdout",
     "output_type": "stream",
     "text": [
      "0.3820771666019258\n"
     ]
    }
   ],
   "source": [
    "rouge1_recall = [r1[i].recall for i in range(30)]\n",
    "average_recall_r1 = np.mean(rouge1_recall)\n",
    "rouge1_recall.append(average_recall_r1)\n",
    "print(average_recall_r1)"
   ]
  },
  {
   "cell_type": "code",
   "execution_count": 370,
   "id": "a53f642e",
   "metadata": {},
   "outputs": [
    {
     "name": "stdout",
     "output_type": "stream",
     "text": [
      "0.4175316932436563\n"
     ]
    }
   ],
   "source": [
    "#F1 score\n",
    "rouge1_f1 = [r1[i].fmeasure for i in range(30)]\n",
    "average_f1 = np.mean(rouge1_f1)\n",
    "rouge1_f1.append(average_f1)\n",
    "print(average_f1)"
   ]
  },
  {
   "cell_type": "code",
   "execution_count": 270,
   "id": "43d91761",
   "metadata": {},
   "outputs": [
    {
     "name": "stdout",
     "output_type": "stream",
     "text": [
      "0.16150540067668123\n"
     ]
    }
   ],
   "source": [
    "rouge2_precision = [r2[i].precision for i in range(30)]\n",
    "average_precision_r2 = np.mean(rouge2_precision)\n",
    "rouge2_precision.append(average_precision_r2)\n",
    "print(average_precision_r2)"
   ]
  },
  {
   "cell_type": "code",
   "execution_count": 271,
   "id": "60a52fd4",
   "metadata": {},
   "outputs": [
    {
     "name": "stdout",
     "output_type": "stream",
     "text": [
      "0.13178645793081536\n"
     ]
    }
   ],
   "source": [
    "rouge2_recall = [r2[i].recall for i in range(30)]\n",
    "average_recall_r2 = np.mean(rouge2_recall)\n",
    "rouge2_recall.append(average_recall_r2)\n",
    "print(average_recall_r2)"
   ]
  },
  {
   "cell_type": "code",
   "execution_count": 371,
   "id": "0010e5fd",
   "metadata": {},
   "outputs": [
    {
     "name": "stdout",
     "output_type": "stream",
     "text": [
      "0.14451703093146687\n"
     ]
    }
   ],
   "source": [
    "#F1 score\n",
    "rouge2_f1 = [r2[i].fmeasure for i in range(30)]\n",
    "average_f1 = np.mean(rouge2_f1)\n",
    "rouge2_f1.append(average_f1)\n",
    "print(average_f1)"
   ]
  },
  {
   "cell_type": "code",
   "execution_count": 272,
   "id": "fe4ed1b2",
   "metadata": {},
   "outputs": [
    {
     "name": "stdout",
     "output_type": "stream",
     "text": [
      "0.27167410766431693\n"
     ]
    }
   ],
   "source": [
    "rougel_precision = [rl[i].precision for i in range(30)]\n",
    "average_precision_rl = np.mean(rougel_precision)\n",
    "rougel_precision.append(average_precision_rl)\n",
    "print(average_precision_rl)"
   ]
  },
  {
   "cell_type": "code",
   "execution_count": 273,
   "id": "df38fbb5",
   "metadata": {},
   "outputs": [
    {
     "name": "stdout",
     "output_type": "stream",
     "text": [
      "0.22475683603531932\n"
     ]
    }
   ],
   "source": [
    "rougel_recall = [rl[i].recall for i in range(30)]\n",
    "average_recall_rl = np.mean(rougel_recall)\n",
    "rougel_recall.append(average_recall_rl)\n",
    "print(average_recall_rl)"
   ]
  },
  {
   "cell_type": "code",
   "execution_count": 372,
   "id": "bf8de6c2",
   "metadata": {},
   "outputs": [
    {
     "name": "stdout",
     "output_type": "stream",
     "text": [
      "0.24502603986512783\n"
     ]
    }
   ],
   "source": [
    "#F1 score\n",
    "rougel_f1 = [rl[i].fmeasure for i in range(30)]\n",
    "average_f1 = np.mean(rougel_f1)\n",
    "rougel_f1.append(average_f1)\n",
    "print(average_f1)"
   ]
  },
  {
   "cell_type": "markdown",
   "id": "b51c84a3",
   "metadata": {},
   "source": [
    "Result Table"
   ]
  },
  {
   "cell_type": "code",
   "execution_count": 453,
   "id": "0331eb48",
   "metadata": {},
   "outputs": [],
   "source": [
    "table = {\n",
    "    \"Model\": [\"Article 1\", \"Article 2\", \"Article 3\", \"Article 4\", \"Article 5\",\n",
    "              \"Article 6\", \"Article 7\", \"Article 8\", \"Article 9\", \"Article 10\",\n",
    "              \"Article 11\", \"Article 12\", \"Article 13\", \"Article 14\", \"Article 15\",\n",
    "             \"Article 16\", \"Article 17\", \"Article 18\", \"Article 19\", \"Article 20\",\n",
    "              \"Article 21\", \"Article 22\", \"Article 23\", \"Article 24\", \"Article 25\",\n",
    "              \"Article 26\", \"Article 27\", \"Article 28\", \"Article 29\", \"Article 30\",\"Average\"],\n",
    "    \"Rouge1 Precision\": rouge1_precision,\n",
    "    \"Rouge1 Recall\": rouge1_recall,\n",
    "    \"Rouge1 F1\": rouge1_f1,\n",
    "    \"Rouge2 Precision\":rouge2_precision,\n",
    "    \"Rouge2 Recall\": rouge2_recall,\n",
    "    \"Rouge2 F1\": rouge2_f1,\n",
    "    \"RougeL Precision\": rougel_precision,\n",
    "    \"RougeL Recall\": rougel_recall,\n",
    "    \"RougeL F1\": rougel_f1,\n",
    "    \n",
    "}\n"
   ]
  },
  {
   "cell_type": "code",
   "execution_count": 454,
   "id": "a467bf9f",
   "metadata": {},
   "outputs": [
    {
     "name": "stdout",
     "output_type": "stream",
     "text": [
      "         Model  Rouge1 Precision  Rouge1 Recall  Rouge1 F1  Rouge2 Precision  \\\n",
      "0    Article 1          0.423077       0.423077   0.423077          0.155844   \n",
      "1    Article 2          0.507042       0.382979   0.436364          0.157143   \n",
      "2    Article 3          0.482143       0.367816   0.395062          0.108108   \n",
      "3    Article 4          0.357143       0.265957   0.299401          0.013889   \n",
      "4    Article 5          0.388060       0.358025   0.355828          0.098765   \n",
      "5    Article 6          0.513158       0.464286   0.487500          0.146667   \n",
      "6    Article 7          0.468354       0.445783   0.456790          0.179487   \n",
      "7    Article 8          0.543478       0.311111   0.354430          0.208955   \n",
      "8    Article 9          0.397590       0.451613   0.485549          0.215190   \n",
      "9   Article 10          0.641509       0.378641   0.453488          0.205882   \n",
      "10  Article 11          0.655172       0.375000   0.461538          0.304348   \n",
      "11  Article 12          0.518987       0.424242   0.464088          0.197531   \n",
      "12  Article 13          0.582090       0.494505   0.529412          0.192308   \n",
      "13  Article 14          0.457831       0.431818   0.444444          0.109756   \n",
      "14  Article 15          0.295775       0.276316   0.285714          0.114286   \n",
      "15  Article 16          0.518519       0.307692   0.321839          0.097561   \n",
      "16  Article 17          0.434783       0.375000   0.409091          0.189873   \n",
      "17  Article 18          0.373134       0.359551   0.385542          0.118421   \n",
      "18  Article 19          0.440000       0.354839   0.400000          0.154930   \n",
      "19  Article 20          0.453125       0.456790   0.471338          0.160000   \n",
      "20  Article 21          0.583333       0.357798   0.445714          0.169231   \n",
      "21  Article 22          0.411765       0.372340   0.386740          0.162791   \n",
      "22  Article 23          0.491803       0.391304   0.426036          0.157895   \n",
      "23  Article 24          0.531646       0.368421   0.435233          0.217949   \n",
      "24  Article 25          0.357143       0.265957   0.304878          0.130435   \n",
      "25  Article 26          0.557377       0.393939   0.440678          0.168831   \n",
      "26  Article 27          0.500000       0.424528   0.463918          0.264368   \n",
      "27  Article 28          0.591837       0.390476   0.436170          0.195122   \n",
      "28  Article 29          0.544118       0.440860   0.468571          0.148148   \n",
      "29  Article 30          0.462687       0.351648   0.397516          0.101449   \n",
      "30     Average          0.482756       0.382077   0.417532          0.161505   \n",
      "\n",
      "    Rouge2 Recall  Rouge2 F1  RougeL Precision  RougeL Recall  RougeL F1  \n",
      "0        0.155844   0.155844          0.282051       0.282051   0.282051  \n",
      "1        0.118280   0.134969          0.239437       0.180851   0.206061  \n",
      "2        0.093023   0.100000          0.226667       0.195402   0.209877  \n",
      "3        0.010753   0.012121          0.246575       0.191489   0.215569  \n",
      "4        0.100000   0.099379          0.256098       0.259259   0.257669  \n",
      "5        0.132530   0.139241          0.263158       0.238095   0.250000  \n",
      "6        0.170732   0.175000          0.291139       0.277108   0.283951  \n",
      "7        0.157303   0.179487          0.264706       0.200000   0.227848  \n",
      "8        0.184783   0.198830          0.237500       0.204301   0.219653  \n",
      "9        0.137255   0.164706          0.318841       0.213592   0.255814  \n",
      "10       0.189189   0.233333          0.314286       0.196429   0.241758  \n",
      "11       0.163265   0.178771          0.317073       0.262626   0.287293  \n",
      "12       0.166667   0.178571          0.316456       0.274725   0.294118  \n",
      "13       0.103448   0.106509          0.228916       0.215909   0.222222  \n",
      "14       0.106667   0.110345          0.211268       0.197368   0.204082  \n",
      "15       0.088889   0.093023          0.168675       0.153846   0.160920  \n",
      "16       0.157895   0.172414          0.262500       0.218750   0.238636  \n",
      "17       0.102273   0.109756          0.285714       0.247191   0.265060  \n",
      "18       0.119565   0.134969          0.263889       0.204301   0.230303  \n",
      "19       0.150000   0.154839          0.315789       0.296296   0.305732  \n",
      "20       0.101852   0.127168          0.272727       0.165138   0.205714  \n",
      "21       0.150538   0.156425          0.275862       0.255319   0.265193  \n",
      "22       0.131868   0.143713          0.324675       0.271739   0.295858  \n",
      "23       0.150442   0.178010          0.354430       0.245614   0.290155  \n",
      "24       0.096774   0.111111          0.214286       0.159574   0.182927  \n",
      "25       0.132653   0.148571          0.307692       0.242424   0.271186  \n",
      "26       0.219048   0.239583          0.238636       0.198113   0.216495  \n",
      "27       0.153846   0.172043          0.289157       0.228571   0.255319  \n",
      "28       0.130435   0.138728          0.304878       0.268817   0.285714  \n",
      "29       0.077778   0.088050          0.257143       0.197802   0.223602  \n",
      "30       0.131786   0.144517          0.271674       0.224757   0.245026  \n"
     ]
    }
   ],
   "source": [
    "df = pd.DataFrame(table)\n",
    "\n",
    "# Display the DataFrame\n",
    "print(df)"
   ]
  },
  {
   "cell_type": "code",
   "execution_count": 455,
   "id": "b6093b00",
   "metadata": {
    "scrolled": false
   },
   "outputs": [
    {
     "data": {
      "text/html": [
       "<table border=\"1\" class=\"dataframe table table-striped table-bordered\">\n",
       "  <thead>\n",
       "    <tr style=\"text-align: center;\">\n",
       "      <th style=\"min-width: 100px;\">Model</th>\n",
       "      <th style=\"min-width: 100px;\">Rouge1 Precision</th>\n",
       "      <th style=\"min-width: 100px;\">Rouge1 Recall</th>\n",
       "      <th style=\"min-width: 100px;\">Rouge1 F1</th>\n",
       "      <th style=\"min-width: 100px;\">Rouge2 Precision</th>\n",
       "      <th style=\"min-width: 100px;\">Rouge2 Recall</th>\n",
       "      <th style=\"min-width: 100px;\">Rouge2 F1</th>\n",
       "      <th style=\"min-width: 100px;\">RougeL Precision</th>\n",
       "      <th style=\"min-width: 100px;\">RougeL Recall</th>\n",
       "      <th style=\"min-width: 100px;\">RougeL F1</th>\n",
       "    </tr>\n",
       "  </thead>\n",
       "  <tbody>\n",
       "    <tr>\n",
       "      <td style=\"font-size: 10px;\">Article 1</td>\n",
       "      <td style=\"font-size: 10px;\">0.423077</td>\n",
       "      <td style=\"font-size: 10px;\">0.423077</td>\n",
       "      <td style=\"font-size: 10px;\">0.423077</td>\n",
       "      <td style=\"font-size: 10px;\">0.155844</td>\n",
       "      <td style=\"font-size: 10px;\">0.155844</td>\n",
       "      <td style=\"font-size: 10px;\">0.155844</td>\n",
       "      <td style=\"font-size: 10px;\">0.282051</td>\n",
       "      <td style=\"font-size: 10px;\">0.282051</td>\n",
       "      <td style=\"font-size: 10px;\">0.282051</td>\n",
       "    </tr>\n",
       "    <tr>\n",
       "      <td style=\"font-size: 10px;\">Article 2</td>\n",
       "      <td style=\"font-size: 10px;\">0.507042</td>\n",
       "      <td style=\"font-size: 10px;\">0.382979</td>\n",
       "      <td style=\"font-size: 10px;\">0.436364</td>\n",
       "      <td style=\"font-size: 10px;\">0.157143</td>\n",
       "      <td style=\"font-size: 10px;\">0.118280</td>\n",
       "      <td style=\"font-size: 10px;\">0.134969</td>\n",
       "      <td style=\"font-size: 10px;\">0.239437</td>\n",
       "      <td style=\"font-size: 10px;\">0.180851</td>\n",
       "      <td style=\"font-size: 10px;\">0.206061</td>\n",
       "    </tr>\n",
       "    <tr>\n",
       "      <td style=\"font-size: 10px;\">Article 3</td>\n",
       "      <td style=\"font-size: 10px;\">0.482143</td>\n",
       "      <td style=\"font-size: 10px;\">0.367816</td>\n",
       "      <td style=\"font-size: 10px;\">0.395062</td>\n",
       "      <td style=\"font-size: 10px;\">0.108108</td>\n",
       "      <td style=\"font-size: 10px;\">0.093023</td>\n",
       "      <td style=\"font-size: 10px;\">0.100000</td>\n",
       "      <td style=\"font-size: 10px;\">0.226667</td>\n",
       "      <td style=\"font-size: 10px;\">0.195402</td>\n",
       "      <td style=\"font-size: 10px;\">0.209877</td>\n",
       "    </tr>\n",
       "    <tr>\n",
       "      <td style=\"font-size: 10px;\">Article 4</td>\n",
       "      <td style=\"font-size: 10px;\">0.357143</td>\n",
       "      <td style=\"font-size: 10px;\">0.265957</td>\n",
       "      <td style=\"font-size: 10px;\">0.299401</td>\n",
       "      <td style=\"font-size: 10px;\">0.013889</td>\n",
       "      <td style=\"font-size: 10px;\">0.010753</td>\n",
       "      <td style=\"font-size: 10px;\">0.012121</td>\n",
       "      <td style=\"font-size: 10px;\">0.246575</td>\n",
       "      <td style=\"font-size: 10px;\">0.191489</td>\n",
       "      <td style=\"font-size: 10px;\">0.215569</td>\n",
       "    </tr>\n",
       "    <tr>\n",
       "      <td style=\"font-size: 10px;\">Article 5</td>\n",
       "      <td style=\"font-size: 10px;\">0.388060</td>\n",
       "      <td style=\"font-size: 10px;\">0.358025</td>\n",
       "      <td style=\"font-size: 10px;\">0.355828</td>\n",
       "      <td style=\"font-size: 10px;\">0.098765</td>\n",
       "      <td style=\"font-size: 10px;\">0.100000</td>\n",
       "      <td style=\"font-size: 10px;\">0.099379</td>\n",
       "      <td style=\"font-size: 10px;\">0.256098</td>\n",
       "      <td style=\"font-size: 10px;\">0.259259</td>\n",
       "      <td style=\"font-size: 10px;\">0.257669</td>\n",
       "    </tr>\n",
       "    <tr>\n",
       "      <td style=\"font-size: 10px;\">Article 6</td>\n",
       "      <td style=\"font-size: 10px;\">0.513158</td>\n",
       "      <td style=\"font-size: 10px;\">0.464286</td>\n",
       "      <td style=\"font-size: 10px;\">0.487500</td>\n",
       "      <td style=\"font-size: 10px;\">0.146667</td>\n",
       "      <td style=\"font-size: 10px;\">0.132530</td>\n",
       "      <td style=\"font-size: 10px;\">0.139241</td>\n",
       "      <td style=\"font-size: 10px;\">0.263158</td>\n",
       "      <td style=\"font-size: 10px;\">0.238095</td>\n",
       "      <td style=\"font-size: 10px;\">0.250000</td>\n",
       "    </tr>\n",
       "    <tr>\n",
       "      <td style=\"font-size: 10px;\">Article 7</td>\n",
       "      <td style=\"font-size: 10px;\">0.468354</td>\n",
       "      <td style=\"font-size: 10px;\">0.445783</td>\n",
       "      <td style=\"font-size: 10px;\">0.456790</td>\n",
       "      <td style=\"font-size: 10px;\">0.179487</td>\n",
       "      <td style=\"font-size: 10px;\">0.170732</td>\n",
       "      <td style=\"font-size: 10px;\">0.175000</td>\n",
       "      <td style=\"font-size: 10px;\">0.291139</td>\n",
       "      <td style=\"font-size: 10px;\">0.277108</td>\n",
       "      <td style=\"font-size: 10px;\">0.283951</td>\n",
       "    </tr>\n",
       "    <tr>\n",
       "      <td style=\"font-size: 10px;\">Article 8</td>\n",
       "      <td style=\"font-size: 10px;\">0.543478</td>\n",
       "      <td style=\"font-size: 10px;\">0.311111</td>\n",
       "      <td style=\"font-size: 10px;\">0.354430</td>\n",
       "      <td style=\"font-size: 10px;\">0.208955</td>\n",
       "      <td style=\"font-size: 10px;\">0.157303</td>\n",
       "      <td style=\"font-size: 10px;\">0.179487</td>\n",
       "      <td style=\"font-size: 10px;\">0.264706</td>\n",
       "      <td style=\"font-size: 10px;\">0.200000</td>\n",
       "      <td style=\"font-size: 10px;\">0.227848</td>\n",
       "    </tr>\n",
       "    <tr>\n",
       "      <td style=\"font-size: 10px;\">Article 9</td>\n",
       "      <td style=\"font-size: 10px;\">0.397590</td>\n",
       "      <td style=\"font-size: 10px;\">0.451613</td>\n",
       "      <td style=\"font-size: 10px;\">0.485549</td>\n",
       "      <td style=\"font-size: 10px;\">0.215190</td>\n",
       "      <td style=\"font-size: 10px;\">0.184783</td>\n",
       "      <td style=\"font-size: 10px;\">0.198830</td>\n",
       "      <td style=\"font-size: 10px;\">0.237500</td>\n",
       "      <td style=\"font-size: 10px;\">0.204301</td>\n",
       "      <td style=\"font-size: 10px;\">0.219653</td>\n",
       "    </tr>\n",
       "    <tr>\n",
       "      <td style=\"font-size: 10px;\">Article 10</td>\n",
       "      <td style=\"font-size: 10px;\">0.641509</td>\n",
       "      <td style=\"font-size: 10px;\">0.378641</td>\n",
       "      <td style=\"font-size: 10px;\">0.453488</td>\n",
       "      <td style=\"font-size: 10px;\">0.205882</td>\n",
       "      <td style=\"font-size: 10px;\">0.137255</td>\n",
       "      <td style=\"font-size: 10px;\">0.164706</td>\n",
       "      <td style=\"font-size: 10px;\">0.318841</td>\n",
       "      <td style=\"font-size: 10px;\">0.213592</td>\n",
       "      <td style=\"font-size: 10px;\">0.255814</td>\n",
       "    </tr>\n",
       "    <tr>\n",
       "      <td style=\"font-size: 10px;\">Article 11</td>\n",
       "      <td style=\"font-size: 10px;\">0.655172</td>\n",
       "      <td style=\"font-size: 10px;\">0.375000</td>\n",
       "      <td style=\"font-size: 10px;\">0.461538</td>\n",
       "      <td style=\"font-size: 10px;\">0.304348</td>\n",
       "      <td style=\"font-size: 10px;\">0.189189</td>\n",
       "      <td style=\"font-size: 10px;\">0.233333</td>\n",
       "      <td style=\"font-size: 10px;\">0.314286</td>\n",
       "      <td style=\"font-size: 10px;\">0.196429</td>\n",
       "      <td style=\"font-size: 10px;\">0.241758</td>\n",
       "    </tr>\n",
       "    <tr>\n",
       "      <td style=\"font-size: 10px;\">Article 12</td>\n",
       "      <td style=\"font-size: 10px;\">0.518987</td>\n",
       "      <td style=\"font-size: 10px;\">0.424242</td>\n",
       "      <td style=\"font-size: 10px;\">0.464088</td>\n",
       "      <td style=\"font-size: 10px;\">0.197531</td>\n",
       "      <td style=\"font-size: 10px;\">0.163265</td>\n",
       "      <td style=\"font-size: 10px;\">0.178771</td>\n",
       "      <td style=\"font-size: 10px;\">0.317073</td>\n",
       "      <td style=\"font-size: 10px;\">0.262626</td>\n",
       "      <td style=\"font-size: 10px;\">0.287293</td>\n",
       "    </tr>\n",
       "    <tr>\n",
       "      <td style=\"font-size: 10px;\">Article 13</td>\n",
       "      <td style=\"font-size: 10px;\">0.582090</td>\n",
       "      <td style=\"font-size: 10px;\">0.494505</td>\n",
       "      <td style=\"font-size: 10px;\">0.529412</td>\n",
       "      <td style=\"font-size: 10px;\">0.192308</td>\n",
       "      <td style=\"font-size: 10px;\">0.166667</td>\n",
       "      <td style=\"font-size: 10px;\">0.178571</td>\n",
       "      <td style=\"font-size: 10px;\">0.316456</td>\n",
       "      <td style=\"font-size: 10px;\">0.274725</td>\n",
       "      <td style=\"font-size: 10px;\">0.294118</td>\n",
       "    </tr>\n",
       "    <tr>\n",
       "      <td style=\"font-size: 10px;\">Article 14</td>\n",
       "      <td style=\"font-size: 10px;\">0.457831</td>\n",
       "      <td style=\"font-size: 10px;\">0.431818</td>\n",
       "      <td style=\"font-size: 10px;\">0.444444</td>\n",
       "      <td style=\"font-size: 10px;\">0.109756</td>\n",
       "      <td style=\"font-size: 10px;\">0.103448</td>\n",
       "      <td style=\"font-size: 10px;\">0.106509</td>\n",
       "      <td style=\"font-size: 10px;\">0.228916</td>\n",
       "      <td style=\"font-size: 10px;\">0.215909</td>\n",
       "      <td style=\"font-size: 10px;\">0.222222</td>\n",
       "    </tr>\n",
       "    <tr>\n",
       "      <td style=\"font-size: 10px;\">Article 15</td>\n",
       "      <td style=\"font-size: 10px;\">0.295775</td>\n",
       "      <td style=\"font-size: 10px;\">0.276316</td>\n",
       "      <td style=\"font-size: 10px;\">0.285714</td>\n",
       "      <td style=\"font-size: 10px;\">0.114286</td>\n",
       "      <td style=\"font-size: 10px;\">0.106667</td>\n",
       "      <td style=\"font-size: 10px;\">0.110345</td>\n",
       "      <td style=\"font-size: 10px;\">0.211268</td>\n",
       "      <td style=\"font-size: 10px;\">0.197368</td>\n",
       "      <td style=\"font-size: 10px;\">0.204082</td>\n",
       "    </tr>\n",
       "    <tr>\n",
       "      <td style=\"font-size: 10px;\">Article 16</td>\n",
       "      <td style=\"font-size: 10px;\">0.518519</td>\n",
       "      <td style=\"font-size: 10px;\">0.307692</td>\n",
       "      <td style=\"font-size: 10px;\">0.321839</td>\n",
       "      <td style=\"font-size: 10px;\">0.097561</td>\n",
       "      <td style=\"font-size: 10px;\">0.088889</td>\n",
       "      <td style=\"font-size: 10px;\">0.093023</td>\n",
       "      <td style=\"font-size: 10px;\">0.168675</td>\n",
       "      <td style=\"font-size: 10px;\">0.153846</td>\n",
       "      <td style=\"font-size: 10px;\">0.160920</td>\n",
       "    </tr>\n",
       "    <tr>\n",
       "      <td style=\"font-size: 10px;\">Article 17</td>\n",
       "      <td style=\"font-size: 10px;\">0.434783</td>\n",
       "      <td style=\"font-size: 10px;\">0.375000</td>\n",
       "      <td style=\"font-size: 10px;\">0.409091</td>\n",
       "      <td style=\"font-size: 10px;\">0.189873</td>\n",
       "      <td style=\"font-size: 10px;\">0.157895</td>\n",
       "      <td style=\"font-size: 10px;\">0.172414</td>\n",
       "      <td style=\"font-size: 10px;\">0.262500</td>\n",
       "      <td style=\"font-size: 10px;\">0.218750</td>\n",
       "      <td style=\"font-size: 10px;\">0.238636</td>\n",
       "    </tr>\n",
       "    <tr>\n",
       "      <td style=\"font-size: 10px;\">Article 18</td>\n",
       "      <td style=\"font-size: 10px;\">0.373134</td>\n",
       "      <td style=\"font-size: 10px;\">0.359551</td>\n",
       "      <td style=\"font-size: 10px;\">0.385542</td>\n",
       "      <td style=\"font-size: 10px;\">0.118421</td>\n",
       "      <td style=\"font-size: 10px;\">0.102273</td>\n",
       "      <td style=\"font-size: 10px;\">0.109756</td>\n",
       "      <td style=\"font-size: 10px;\">0.285714</td>\n",
       "      <td style=\"font-size: 10px;\">0.247191</td>\n",
       "      <td style=\"font-size: 10px;\">0.265060</td>\n",
       "    </tr>\n",
       "    <tr>\n",
       "      <td style=\"font-size: 10px;\">Article 19</td>\n",
       "      <td style=\"font-size: 10px;\">0.440000</td>\n",
       "      <td style=\"font-size: 10px;\">0.354839</td>\n",
       "      <td style=\"font-size: 10px;\">0.400000</td>\n",
       "      <td style=\"font-size: 10px;\">0.154930</td>\n",
       "      <td style=\"font-size: 10px;\">0.119565</td>\n",
       "      <td style=\"font-size: 10px;\">0.134969</td>\n",
       "      <td style=\"font-size: 10px;\">0.263889</td>\n",
       "      <td style=\"font-size: 10px;\">0.204301</td>\n",
       "      <td style=\"font-size: 10px;\">0.230303</td>\n",
       "    </tr>\n",
       "    <tr>\n",
       "      <td style=\"font-size: 10px;\">Article 20</td>\n",
       "      <td style=\"font-size: 10px;\">0.453125</td>\n",
       "      <td style=\"font-size: 10px;\">0.456790</td>\n",
       "      <td style=\"font-size: 10px;\">0.471338</td>\n",
       "      <td style=\"font-size: 10px;\">0.160000</td>\n",
       "      <td style=\"font-size: 10px;\">0.150000</td>\n",
       "      <td style=\"font-size: 10px;\">0.154839</td>\n",
       "      <td style=\"font-size: 10px;\">0.315789</td>\n",
       "      <td style=\"font-size: 10px;\">0.296296</td>\n",
       "      <td style=\"font-size: 10px;\">0.305732</td>\n",
       "    </tr>\n",
       "    <tr>\n",
       "      <td style=\"font-size: 10px;\">Article 21</td>\n",
       "      <td style=\"font-size: 10px;\">0.583333</td>\n",
       "      <td style=\"font-size: 10px;\">0.357798</td>\n",
       "      <td style=\"font-size: 10px;\">0.445714</td>\n",
       "      <td style=\"font-size: 10px;\">0.169231</td>\n",
       "      <td style=\"font-size: 10px;\">0.101852</td>\n",
       "      <td style=\"font-size: 10px;\">0.127168</td>\n",
       "      <td style=\"font-size: 10px;\">0.272727</td>\n",
       "      <td style=\"font-size: 10px;\">0.165138</td>\n",
       "      <td style=\"font-size: 10px;\">0.205714</td>\n",
       "    </tr>\n",
       "    <tr>\n",
       "      <td style=\"font-size: 10px;\">Article 22</td>\n",
       "      <td style=\"font-size: 10px;\">0.411765</td>\n",
       "      <td style=\"font-size: 10px;\">0.372340</td>\n",
       "      <td style=\"font-size: 10px;\">0.386740</td>\n",
       "      <td style=\"font-size: 10px;\">0.162791</td>\n",
       "      <td style=\"font-size: 10px;\">0.150538</td>\n",
       "      <td style=\"font-size: 10px;\">0.156425</td>\n",
       "      <td style=\"font-size: 10px;\">0.275862</td>\n",
       "      <td style=\"font-size: 10px;\">0.255319</td>\n",
       "      <td style=\"font-size: 10px;\">0.265193</td>\n",
       "    </tr>\n",
       "    <tr>\n",
       "      <td style=\"font-size: 10px;\">Article 23</td>\n",
       "      <td style=\"font-size: 10px;\">0.491803</td>\n",
       "      <td style=\"font-size: 10px;\">0.391304</td>\n",
       "      <td style=\"font-size: 10px;\">0.426036</td>\n",
       "      <td style=\"font-size: 10px;\">0.157895</td>\n",
       "      <td style=\"font-size: 10px;\">0.131868</td>\n",
       "      <td style=\"font-size: 10px;\">0.143713</td>\n",
       "      <td style=\"font-size: 10px;\">0.324675</td>\n",
       "      <td style=\"font-size: 10px;\">0.271739</td>\n",
       "      <td style=\"font-size: 10px;\">0.295858</td>\n",
       "    </tr>\n",
       "    <tr>\n",
       "      <td style=\"font-size: 10px;\">Article 24</td>\n",
       "      <td style=\"font-size: 10px;\">0.531646</td>\n",
       "      <td style=\"font-size: 10px;\">0.368421</td>\n",
       "      <td style=\"font-size: 10px;\">0.435233</td>\n",
       "      <td style=\"font-size: 10px;\">0.217949</td>\n",
       "      <td style=\"font-size: 10px;\">0.150442</td>\n",
       "      <td style=\"font-size: 10px;\">0.178010</td>\n",
       "      <td style=\"font-size: 10px;\">0.354430</td>\n",
       "      <td style=\"font-size: 10px;\">0.245614</td>\n",
       "      <td style=\"font-size: 10px;\">0.290155</td>\n",
       "    </tr>\n",
       "    <tr>\n",
       "      <td style=\"font-size: 10px;\">Article 25</td>\n",
       "      <td style=\"font-size: 10px;\">0.357143</td>\n",
       "      <td style=\"font-size: 10px;\">0.265957</td>\n",
       "      <td style=\"font-size: 10px;\">0.304878</td>\n",
       "      <td style=\"font-size: 10px;\">0.130435</td>\n",
       "      <td style=\"font-size: 10px;\">0.096774</td>\n",
       "      <td style=\"font-size: 10px;\">0.111111</td>\n",
       "      <td style=\"font-size: 10px;\">0.214286</td>\n",
       "      <td style=\"font-size: 10px;\">0.159574</td>\n",
       "      <td style=\"font-size: 10px;\">0.182927</td>\n",
       "    </tr>\n",
       "    <tr>\n",
       "      <td style=\"font-size: 10px;\">Article 26</td>\n",
       "      <td style=\"font-size: 10px;\">0.557377</td>\n",
       "      <td style=\"font-size: 10px;\">0.393939</td>\n",
       "      <td style=\"font-size: 10px;\">0.440678</td>\n",
       "      <td style=\"font-size: 10px;\">0.168831</td>\n",
       "      <td style=\"font-size: 10px;\">0.132653</td>\n",
       "      <td style=\"font-size: 10px;\">0.148571</td>\n",
       "      <td style=\"font-size: 10px;\">0.307692</td>\n",
       "      <td style=\"font-size: 10px;\">0.242424</td>\n",
       "      <td style=\"font-size: 10px;\">0.271186</td>\n",
       "    </tr>\n",
       "    <tr>\n",
       "      <td style=\"font-size: 10px;\">Article 27</td>\n",
       "      <td style=\"font-size: 10px;\">0.500000</td>\n",
       "      <td style=\"font-size: 10px;\">0.424528</td>\n",
       "      <td style=\"font-size: 10px;\">0.463918</td>\n",
       "      <td style=\"font-size: 10px;\">0.264368</td>\n",
       "      <td style=\"font-size: 10px;\">0.219048</td>\n",
       "      <td style=\"font-size: 10px;\">0.239583</td>\n",
       "      <td style=\"font-size: 10px;\">0.238636</td>\n",
       "      <td style=\"font-size: 10px;\">0.198113</td>\n",
       "      <td style=\"font-size: 10px;\">0.216495</td>\n",
       "    </tr>\n",
       "    <tr>\n",
       "      <td style=\"font-size: 10px;\">Article 28</td>\n",
       "      <td style=\"font-size: 10px;\">0.591837</td>\n",
       "      <td style=\"font-size: 10px;\">0.390476</td>\n",
       "      <td style=\"font-size: 10px;\">0.436170</td>\n",
       "      <td style=\"font-size: 10px;\">0.195122</td>\n",
       "      <td style=\"font-size: 10px;\">0.153846</td>\n",
       "      <td style=\"font-size: 10px;\">0.172043</td>\n",
       "      <td style=\"font-size: 10px;\">0.289157</td>\n",
       "      <td style=\"font-size: 10px;\">0.228571</td>\n",
       "      <td style=\"font-size: 10px;\">0.255319</td>\n",
       "    </tr>\n",
       "    <tr>\n",
       "      <td style=\"font-size: 10px;\">Article 29</td>\n",
       "      <td style=\"font-size: 10px;\">0.544118</td>\n",
       "      <td style=\"font-size: 10px;\">0.440860</td>\n",
       "      <td style=\"font-size: 10px;\">0.468571</td>\n",
       "      <td style=\"font-size: 10px;\">0.148148</td>\n",
       "      <td style=\"font-size: 10px;\">0.130435</td>\n",
       "      <td style=\"font-size: 10px;\">0.138728</td>\n",
       "      <td style=\"font-size: 10px;\">0.304878</td>\n",
       "      <td style=\"font-size: 10px;\">0.268817</td>\n",
       "      <td style=\"font-size: 10px;\">0.285714</td>\n",
       "    </tr>\n",
       "    <tr>\n",
       "      <td style=\"font-size: 10px;\">Article 30</td>\n",
       "      <td style=\"font-size: 10px;\">0.462687</td>\n",
       "      <td style=\"font-size: 10px;\">0.351648</td>\n",
       "      <td style=\"font-size: 10px;\">0.397516</td>\n",
       "      <td style=\"font-size: 10px;\">0.101449</td>\n",
       "      <td style=\"font-size: 10px;\">0.077778</td>\n",
       "      <td style=\"font-size: 10px;\">0.088050</td>\n",
       "      <td style=\"font-size: 10px;\">0.257143</td>\n",
       "      <td style=\"font-size: 10px;\">0.197802</td>\n",
       "      <td style=\"font-size: 10px;\">0.223602</td>\n",
       "    </tr>\n",
       "    <tr>\n",
       "      <td style=\"font-size: 10px;\">Average</td>\n",
       "      <td style=\"font-size: 10px;\">0.482756</td>\n",
       "      <td style=\"font-size: 10px;\">0.382077</td>\n",
       "      <td style=\"font-size: 10px;\">0.417532</td>\n",
       "      <td style=\"font-size: 10px;\">0.161505</td>\n",
       "      <td style=\"font-size: 10px;\">0.131786</td>\n",
       "      <td style=\"font-size: 10px;\">0.144517</td>\n",
       "      <td style=\"font-size: 10px;\">0.271674</td>\n",
       "      <td style=\"font-size: 10px;\">0.224757</td>\n",
       "      <td style=\"font-size: 10px;\">0.245026</td>\n",
       "    </tr>\n",
       "  </tbody>\n",
       "</table>"
      ],
      "text/plain": [
       "<IPython.core.display.HTML object>"
      ]
     },
     "execution_count": 455,
     "metadata": {},
     "output_type": "execute_result"
    }
   ],
   "source": [
    "from IPython.display import HTML\n",
    "\n",
    "# Convert DataFrame to HTML with smaller font size\n",
    "html_table = df.to_html(index=False, classes='table table-striped table-bordered', col_space=100, justify='center')\n",
    "\n",
    "# Apply CSS to the HTML table to set font size\n",
    "html_table = html_table.replace('<th>', '<th style=\"font-size: 10px;\">')\n",
    "html_table = html_table.replace('<td>', '<td style=\"font-size: 10px;\">')\n",
    "\n",
    "# Display the HTML table\n",
    "HTML(html_table)"
   ]
  },
  {
   "cell_type": "markdown",
   "id": "7223cc29",
   "metadata": {},
   "source": [
    "Pegasus X-Sum Model"
   ]
  },
  {
   "cell_type": "code",
   "execution_count": 71,
   "id": "ee831833",
   "metadata": {},
   "outputs": [
    {
     "data": {
      "application/vnd.jupyter.widget-view+json": {
       "model_id": "5a6d1cc47de3489ea20cb85063846ae9",
       "version_major": 2,
       "version_minor": 0
      },
      "text/plain": [
       "tokenizer_config.json:   0%|          | 0.00/87.0 [00:00<?, ?B/s]"
      ]
     },
     "metadata": {},
     "output_type": "display_data"
    },
    {
     "name": "stderr",
     "output_type": "stream",
     "text": [
      "C:\\Users\\ianre\\anaconda3\\Lib\\site-packages\\huggingface_hub\\file_download.py:159: UserWarning: `huggingface_hub` cache-system uses symlinks by default to efficiently store duplicated files but your machine does not support them in C:\\Users\\ianre\\.cache\\huggingface\\hub\\models--google--pegasus-xsum. Caching files will still work but in a degraded version that might require more space on your disk. This warning can be disabled by setting the `HF_HUB_DISABLE_SYMLINKS_WARNING` environment variable. For more details, see https://huggingface.co/docs/huggingface_hub/how-to-cache#limitations.\n",
      "To support symlinks on Windows, you either need to activate Developer Mode or to run Python as an administrator. In order to see activate developer mode, see this article: https://docs.microsoft.com/en-us/windows/apps/get-started/enable-your-device-for-development\n",
      "  warnings.warn(message)\n"
     ]
    },
    {
     "data": {
      "application/vnd.jupyter.widget-view+json": {
       "model_id": "19548a380690449d80ae75995c8f3ba2",
       "version_major": 2,
       "version_minor": 0
      },
      "text/plain": [
       "spiece.model:   0%|          | 0.00/1.91M [00:00<?, ?B/s]"
      ]
     },
     "metadata": {},
     "output_type": "display_data"
    },
    {
     "data": {
      "application/vnd.jupyter.widget-view+json": {
       "model_id": "9e3a02072aa5493587e9d3b109d7e06a",
       "version_major": 2,
       "version_minor": 0
      },
      "text/plain": [
       "special_tokens_map.json:   0%|          | 0.00/65.0 [00:00<?, ?B/s]"
      ]
     },
     "metadata": {},
     "output_type": "display_data"
    },
    {
     "data": {
      "application/vnd.jupyter.widget-view+json": {
       "model_id": "8902839630db4c9991ee4371baa5d4a7",
       "version_major": 2,
       "version_minor": 0
      },
      "text/plain": [
       "tokenizer.json:   0%|          | 0.00/3.52M [00:00<?, ?B/s]"
      ]
     },
     "metadata": {},
     "output_type": "display_data"
    },
    {
     "data": {
      "application/vnd.jupyter.widget-view+json": {
       "model_id": "24fe27915c1142ca9a54affdb1070270",
       "version_major": 2,
       "version_minor": 0
      },
      "text/plain": [
       "config.json:   0%|          | 0.00/1.39k [00:00<?, ?B/s]"
      ]
     },
     "metadata": {},
     "output_type": "display_data"
    },
    {
     "data": {
      "application/vnd.jupyter.widget-view+json": {
       "model_id": "ad5519a9ea504784a3879e682358cd4a",
       "version_major": 2,
       "version_minor": 0
      },
      "text/plain": [
       "pytorch_model.bin:   0%|          | 0.00/2.28G [00:00<?, ?B/s]"
      ]
     },
     "metadata": {},
     "output_type": "display_data"
    },
    {
     "name": "stderr",
     "output_type": "stream",
     "text": [
      "Some weights of PegasusForConditionalGeneration were not initialized from the model checkpoint at google/pegasus-xsum and are newly initialized: ['model.decoder.embed_positions.weight', 'model.encoder.embed_positions.weight']\n",
      "You should probably TRAIN this model on a down-stream task to be able to use it for predictions and inference.\n"
     ]
    },
    {
     "data": {
      "application/vnd.jupyter.widget-view+json": {
       "model_id": "d47cbce4abd546ee87595e30b49e9266",
       "version_major": 2,
       "version_minor": 0
      },
      "text/plain": [
       "generation_config.json:   0%|          | 0.00/259 [00:00<?, ?B/s]"
      ]
     },
     "metadata": {},
     "output_type": "display_data"
    }
   ],
   "source": [
    "from transformers import PegasusTokenizer, PegasusForConditionalGeneration\n",
    "\n",
    "# Load Pegasus tokenizer and model\n",
    "tokenizer_peg = PegasusTokenizer.from_pretrained(\"google/pegasus-xsum\")\n",
    "model_peg = PegasusForConditionalGeneration.from_pretrained(\"google/pegasus-xsum\")"
   ]
  },
  {
   "cell_type": "code",
   "execution_count": 414,
   "id": "7542849d",
   "metadata": {},
   "outputs": [],
   "source": [
    "#I should have recorded all of the combinations of parameters that I used, but I changed the min_length, num_beams and length_penalty\n",
    "#as well as alternating early_stopping between true and false\n",
    "#This Pegasus model is good for concise summaries, and I tried to make them longer, but increasing the length ended up with repeat \n",
    "#sentences as I demonstrate in my report\n",
    "\n",
    "summaries_peg=[]\n",
    "for i in range(len(articles)):\n",
    "    inputs = tokenizer_peg(articles.iloc[i,1], return_tensors=\"pt\", max_length=512, truncation=True)\n",
    "    summary_ids = model_peg.generate(inputs[\"input_ids\"], max_length=150, min_length=50, num_beams=4, length_penalty=2.0, early_stopping=True)\n",
    "    summary = tokenizer_peg.decode(summary_ids[0], skip_special_tokens=True)\n",
    "    summaries_peg.append(summary)"
   ]
  },
  {
   "cell_type": "code",
   "execution_count": 415,
   "id": "1e88a614",
   "metadata": {},
   "outputs": [
    {
     "name": "stdout",
     "output_type": "stream",
     "text": [
      "People who have an Alzheimer's-affected mother may be at higher risk than those who have an Alzheimer's-affected father, according to a new study from the University of Massachusetts General Hospital in Boston, and Brigham and Women's Hospital in Boston.\n"
     ]
    }
   ],
   "source": [
    "print(summaries_peg[8])"
   ]
  },
  {
   "cell_type": "code",
   "execution_count": 416,
   "id": "82a79eb2",
   "metadata": {},
   "outputs": [
    {
     "name": "stdout",
     "output_type": "stream",
     "text": [
      "ROUGE-1: Score(precision=0.3617021276595745, recall=0.18085106382978725, fmeasure=0.24113475177304966)\n",
      "ROUGE-2: Score(precision=0.10869565217391304, recall=0.053763440860215055, fmeasure=0.07194244604316548)\n",
      "ROUGE-L: Score(precision=0.19148936170212766, recall=0.09574468085106383, fmeasure=0.1276595744680851)\n"
     ]
    }
   ],
   "source": [
    "r1p, r2p, rlp = rougescore(ground_truth, summaries_peg)\n",
    "# Print the ROUGE scores\n",
    "print(\"ROUGE-1:\", r1p[1])\n",
    "print(\"ROUGE-2:\", r2p[1])\n",
    "print(\"ROUGE-L:\", rlp[1])"
   ]
  },
  {
   "cell_type": "code",
   "execution_count": 417,
   "id": "b0fa6a43",
   "metadata": {},
   "outputs": [
    {
     "name": "stdout",
     "output_type": "stream",
     "text": [
      "0.46593786767772055\n"
     ]
    }
   ],
   "source": [
    "rouge1_precision_p = [r1p[i].precision for i in range(30)]\n",
    "average_precision = np.mean(rouge1_precision_p)\n",
    "rouge1_precision_p.append(average_precision)\n",
    "print(average_precision)"
   ]
  },
  {
   "cell_type": "code",
   "execution_count": 418,
   "id": "b581afe7",
   "metadata": {},
   "outputs": [
    {
     "name": "stdout",
     "output_type": "stream",
     "text": [
      "0.25443439138624585\n"
     ]
    }
   ],
   "source": [
    "rouge1_recall_p = [r1p[i].recall for i in range(30)]\n",
    "average_recall = np.mean(rouge1_recall_p)\n",
    "rouge1_recall_p.append(average_recall)\n",
    "print(average_recall)"
   ]
  },
  {
   "cell_type": "code",
   "execution_count": 419,
   "id": "9dfc0372",
   "metadata": {},
   "outputs": [
    {
     "name": "stdout",
     "output_type": "stream",
     "text": [
      "0.325349072723111\n"
     ]
    }
   ],
   "source": [
    "#F1 score\n",
    "rouge1_f1_p = [r1p[i].fmeasure for i in range(30)]\n",
    "average_f1 = np.mean(rouge1_f1_p)\n",
    "rouge1_f1_p.append(average_f1)\n",
    "print(average_f1)"
   ]
  },
  {
   "cell_type": "code",
   "execution_count": 420,
   "id": "2130d7ac",
   "metadata": {},
   "outputs": [
    {
     "name": "stdout",
     "output_type": "stream",
     "text": [
      "0.1321239746722002\n"
     ]
    }
   ],
   "source": [
    "rouge2_precision_p = [r2p[i].precision for i in range(30)]\n",
    "average_precision = np.mean(rouge2_precision_p)\n",
    "rouge2_precision_p.append(average_precision)\n",
    "print(average_precision)"
   ]
  },
  {
   "cell_type": "code",
   "execution_count": 421,
   "id": "0ba883e3",
   "metadata": {},
   "outputs": [
    {
     "name": "stdout",
     "output_type": "stream",
     "text": [
      "0.07224442554393747\n"
     ]
    }
   ],
   "source": [
    "rouge2_recall_p = [r2p[i].recall for i in range(30)]\n",
    "average_recall = np.mean(rouge2_recall_p)\n",
    "rouge2_recall_p.append(average_recall)\n",
    "print(average_recall)"
   ]
  },
  {
   "cell_type": "code",
   "execution_count": 422,
   "id": "03882dc8",
   "metadata": {},
   "outputs": [
    {
     "name": "stdout",
     "output_type": "stream",
     "text": [
      "0.09208044873356627\n"
     ]
    }
   ],
   "source": [
    "#F1 score\n",
    "rouge2_f1_p = [r2p[i].fmeasure for i in range(30)]\n",
    "average_f1 = np.mean(rouge2_f1_p)\n",
    "rouge2_f1_p.append(average_f1)\n",
    "print(average_f1)"
   ]
  },
  {
   "cell_type": "code",
   "execution_count": 423,
   "id": "faaefec2",
   "metadata": {},
   "outputs": [
    {
     "name": "stdout",
     "output_type": "stream",
     "text": [
      "0.25733015135957565\n"
     ]
    }
   ],
   "source": [
    "rougel_precision_p = [rlp[i].precision for i in range(30)]\n",
    "average_precision = np.mean(rougel_precision_p)\n",
    "rougel_precision_p.append(average_precision)\n",
    "print(average_precision)"
   ]
  },
  {
   "cell_type": "code",
   "execution_count": 424,
   "id": "b843a6b5",
   "metadata": {},
   "outputs": [
    {
     "name": "stdout",
     "output_type": "stream",
     "text": [
      "0.14131541809554854\n"
     ]
    }
   ],
   "source": [
    "rougel_recall_p = [rlp[i].recall for i in range(30)]\n",
    "average_recall = np.mean(rougel_recall_p)\n",
    "rougel_recall_p.append(average_recall)\n",
    "print(average_recall)"
   ]
  },
  {
   "cell_type": "code",
   "execution_count": 425,
   "id": "a4193b22",
   "metadata": {},
   "outputs": [
    {
     "name": "stdout",
     "output_type": "stream",
     "text": [
      "0.18016581759936484\n"
     ]
    }
   ],
   "source": [
    "#F1 score\n",
    "rougel_f1_p = [rlp[i].fmeasure for i in range(30)]\n",
    "average_f1 = np.mean(rougel_f1_p)\n",
    "rougel_f1_p.append(average_f1)\n",
    "print(average_f1)"
   ]
  },
  {
   "cell_type": "code",
   "execution_count": 426,
   "id": "9994df69",
   "metadata": {},
   "outputs": [],
   "source": [
    "#Create table with results from Pegasus transformer\n",
    "table_p = {\n",
    "    \"Model\": [\"Article 1\", \"Article 2\", \"Article 3\", \"Article 4\", \"Article 5\",\n",
    "              \"Article 6\", \"Article 7\", \"Article 8\", \"Article 9\", \"Article 10\",\n",
    "              \"Article 11\", \"Article 12\", \"Article 13\", \"Article 14\", \"Article 15\",\n",
    "             \"Article 16\", \"Article 17\", \"Article 18\", \"Article 19\", \"Article 20\",\n",
    "              \"Article 21\", \"Article 22\", \"Article 23\", \"Article 24\", \"Article 25\",\n",
    "              \"Article 26\", \"Article 27\", \"Article 28\", \"Article 29\", \"Article 30\",\"Average\"],\n",
    "    \"Rouge1 Precision\": rouge1_precision_p,\n",
    "    \"Rouge1 Recall\": rouge1_recall_p,\n",
    "    \"Rouge1 F1\": rouge1_f1_p,\n",
    "    \"Rouge2 Precision\":rouge2_precision_p,\n",
    "    \"Rouge2 Recall\": rouge2_recall_p,\n",
    "    \"Rouge2 F1\": rouge2_f1_p,\n",
    "    \"RougeL Precision\": rougel_precision_p,\n",
    "    \"RougeL Recall\": rougel_recall_p,\n",
    "    \"RougeL F1\": rougel_f1_p,\n",
    "}\n"
   ]
  },
  {
   "cell_type": "code",
   "execution_count": 427,
   "id": "00d9fbda",
   "metadata": {},
   "outputs": [
    {
     "name": "stdout",
     "output_type": "stream",
     "text": [
      "         Model  Rouge1 Precision  Rouge1 Recall  Rouge1 F1  Rouge2 Precision  \\\n",
      "0    Article 1          0.488372       0.269231   0.347107          0.142857   \n",
      "1    Article 2          0.361702       0.180851   0.241135          0.108696   \n",
      "2    Article 3          0.422222       0.218391   0.287879          0.090909   \n",
      "3    Article 4          0.553191       0.276596   0.368794          0.130435   \n",
      "4    Article 5          0.428571       0.222222   0.292683          0.073171   \n",
      "5    Article 6          0.404255       0.226190   0.290076          0.043478   \n",
      "6    Article 7          0.510638       0.289157   0.369231          0.086957   \n",
      "7    Article 8          0.500000       0.255556   0.338235          0.222222   \n",
      "8    Article 9          0.454545       0.215054   0.291971          0.069767   \n",
      "9   Article 10          0.391304       0.174757   0.241611          0.088889   \n",
      "10  Article 11          0.428571       0.241071   0.308571          0.112903   \n",
      "11  Article 12          0.581395       0.252525   0.352113          0.142857   \n",
      "12  Article 13          0.369565       0.186813   0.248175          0.111111   \n",
      "13  Article 14          0.535714       0.340909   0.416667          0.218182   \n",
      "14  Article 15          0.411765       0.368421   0.388889          0.194030   \n",
      "15  Article 16          0.511111       0.252747   0.338235          0.204545   \n",
      "16  Article 17          0.490566       0.270833   0.348993          0.192308   \n",
      "17  Article 18          0.444444       0.224719   0.298507          0.090909   \n",
      "18  Article 19          0.439024       0.193548   0.268657          0.175000   \n",
      "19  Article 20          0.231884       0.197531   0.213333          0.044118   \n",
      "20  Article 21          0.543478       0.229358   0.322581          0.111111   \n",
      "21  Article 22          0.523810       0.468085   0.494382          0.216867   \n",
      "22  Article 23          0.410256       0.173913   0.244275          0.105263   \n",
      "23  Article 24          0.377551       0.324561   0.349057          0.082474   \n",
      "24  Article 25          0.338710       0.223404   0.269231          0.016393   \n",
      "25  Article 26          0.541667       0.262626   0.353741          0.106383   \n",
      "26  Article 27          0.555556       0.283019   0.375000          0.113208   \n",
      "27  Article 28          0.648148       0.333333   0.440252          0.226415   \n",
      "28  Article 29          0.657895       0.268817   0.381679          0.351351   \n",
      "29  Article 30          0.422222       0.208791   0.279412          0.090909   \n",
      "30     Average          0.465938       0.254434   0.325349          0.132124   \n",
      "\n",
      "    Rouge2 Recall  Rouge2 F1  RougeL Precision  RougeL Recall  RougeL F1  \n",
      "0        0.077922   0.100840          0.302326       0.166667   0.214876  \n",
      "1        0.053763   0.071942          0.191489       0.095745   0.127660  \n",
      "2        0.046512   0.061538          0.244444       0.126437   0.166667  \n",
      "3        0.064516   0.086331          0.276596       0.138298   0.184397  \n",
      "4        0.037500   0.049587          0.214286       0.111111   0.146341  \n",
      "5        0.024096   0.031008          0.212766       0.119048   0.152672  \n",
      "6        0.048780   0.062500          0.191489       0.108434   0.138462  \n",
      "7        0.112360   0.149254          0.217391       0.111111   0.147059  \n",
      "8        0.032609   0.044444          0.250000       0.118280   0.160584  \n",
      "9        0.039216   0.054422          0.217391       0.097087   0.134228  \n",
      "10       0.063063   0.080925          0.190476       0.107143   0.137143  \n",
      "11       0.061224   0.085714          0.279070       0.121212   0.169014  \n",
      "12       0.055556   0.074074          0.217391       0.109890   0.145985  \n",
      "13       0.137931   0.169014          0.267857       0.170455   0.208333  \n",
      "14       0.173333   0.183099          0.294118       0.263158   0.277778  \n",
      "15       0.100000   0.134328          0.355556       0.175824   0.235294  \n",
      "16       0.105263   0.136054          0.264151       0.145833   0.187919  \n",
      "17       0.045455   0.060606          0.311111       0.157303   0.208955  \n",
      "18       0.076087   0.106061          0.292683       0.129032   0.179104  \n",
      "19       0.037500   0.040541          0.173913       0.148148   0.160000  \n",
      "20       0.046296   0.065359          0.304348       0.128440   0.180645  \n",
      "21       0.193548   0.204545          0.273810       0.244681   0.258427  \n",
      "22       0.043956   0.062016          0.307692       0.130435   0.183206  \n",
      "23       0.070796   0.076190          0.224490       0.192982   0.207547  \n",
      "24       0.010753   0.012987          0.177419       0.117021   0.141026  \n",
      "25       0.051020   0.068966          0.333333       0.161616   0.217687  \n",
      "26       0.057143   0.075949          0.222222       0.113208   0.150000  \n",
      "27       0.115385   0.152866          0.351852       0.180952   0.238994  \n",
      "28       0.141304   0.201550          0.315789       0.129032   0.183206  \n",
      "29       0.044444   0.059701          0.244444       0.120879   0.161765  \n",
      "30       0.072244   0.092080          0.257330       0.141315   0.180166  \n"
     ]
    }
   ],
   "source": [
    "df_p = pd.DataFrame(table_p)\n",
    "\n",
    "# Display the DataFrame\n",
    "print(df_p)"
   ]
  },
  {
   "cell_type": "code",
   "execution_count": 428,
   "id": "8514fa69",
   "metadata": {},
   "outputs": [
    {
     "data": {
      "text/html": [
       "<table border=\"1\" class=\"dataframe table table-striped table-bordered\">\n",
       "  <thead>\n",
       "    <tr style=\"text-align: center;\">\n",
       "      <th style=\"min-width: 100px;\">Model</th>\n",
       "      <th style=\"min-width: 100px;\">Rouge1 Precision</th>\n",
       "      <th style=\"min-width: 100px;\">Rouge1 Recall</th>\n",
       "      <th style=\"min-width: 100px;\">Rouge1 F1</th>\n",
       "      <th style=\"min-width: 100px;\">Rouge2 Precision</th>\n",
       "      <th style=\"min-width: 100px;\">Rouge2 Recall</th>\n",
       "      <th style=\"min-width: 100px;\">Rouge2 F1</th>\n",
       "      <th style=\"min-width: 100px;\">RougeL Precision</th>\n",
       "      <th style=\"min-width: 100px;\">RougeL Recall</th>\n",
       "      <th style=\"min-width: 100px;\">RougeL F1</th>\n",
       "    </tr>\n",
       "  </thead>\n",
       "  <tbody>\n",
       "    <tr>\n",
       "      <td style=\"font-size: 10px;\">Article 1</td>\n",
       "      <td style=\"font-size: 10px;\">0.488372</td>\n",
       "      <td style=\"font-size: 10px;\">0.269231</td>\n",
       "      <td style=\"font-size: 10px;\">0.347107</td>\n",
       "      <td style=\"font-size: 10px;\">0.142857</td>\n",
       "      <td style=\"font-size: 10px;\">0.077922</td>\n",
       "      <td style=\"font-size: 10px;\">0.100840</td>\n",
       "      <td style=\"font-size: 10px;\">0.302326</td>\n",
       "      <td style=\"font-size: 10px;\">0.166667</td>\n",
       "      <td style=\"font-size: 10px;\">0.214876</td>\n",
       "    </tr>\n",
       "    <tr>\n",
       "      <td style=\"font-size: 10px;\">Article 2</td>\n",
       "      <td style=\"font-size: 10px;\">0.361702</td>\n",
       "      <td style=\"font-size: 10px;\">0.180851</td>\n",
       "      <td style=\"font-size: 10px;\">0.241135</td>\n",
       "      <td style=\"font-size: 10px;\">0.108696</td>\n",
       "      <td style=\"font-size: 10px;\">0.053763</td>\n",
       "      <td style=\"font-size: 10px;\">0.071942</td>\n",
       "      <td style=\"font-size: 10px;\">0.191489</td>\n",
       "      <td style=\"font-size: 10px;\">0.095745</td>\n",
       "      <td style=\"font-size: 10px;\">0.127660</td>\n",
       "    </tr>\n",
       "    <tr>\n",
       "      <td style=\"font-size: 10px;\">Article 3</td>\n",
       "      <td style=\"font-size: 10px;\">0.422222</td>\n",
       "      <td style=\"font-size: 10px;\">0.218391</td>\n",
       "      <td style=\"font-size: 10px;\">0.287879</td>\n",
       "      <td style=\"font-size: 10px;\">0.090909</td>\n",
       "      <td style=\"font-size: 10px;\">0.046512</td>\n",
       "      <td style=\"font-size: 10px;\">0.061538</td>\n",
       "      <td style=\"font-size: 10px;\">0.244444</td>\n",
       "      <td style=\"font-size: 10px;\">0.126437</td>\n",
       "      <td style=\"font-size: 10px;\">0.166667</td>\n",
       "    </tr>\n",
       "    <tr>\n",
       "      <td style=\"font-size: 10px;\">Article 4</td>\n",
       "      <td style=\"font-size: 10px;\">0.553191</td>\n",
       "      <td style=\"font-size: 10px;\">0.276596</td>\n",
       "      <td style=\"font-size: 10px;\">0.368794</td>\n",
       "      <td style=\"font-size: 10px;\">0.130435</td>\n",
       "      <td style=\"font-size: 10px;\">0.064516</td>\n",
       "      <td style=\"font-size: 10px;\">0.086331</td>\n",
       "      <td style=\"font-size: 10px;\">0.276596</td>\n",
       "      <td style=\"font-size: 10px;\">0.138298</td>\n",
       "      <td style=\"font-size: 10px;\">0.184397</td>\n",
       "    </tr>\n",
       "    <tr>\n",
       "      <td style=\"font-size: 10px;\">Article 5</td>\n",
       "      <td style=\"font-size: 10px;\">0.428571</td>\n",
       "      <td style=\"font-size: 10px;\">0.222222</td>\n",
       "      <td style=\"font-size: 10px;\">0.292683</td>\n",
       "      <td style=\"font-size: 10px;\">0.073171</td>\n",
       "      <td style=\"font-size: 10px;\">0.037500</td>\n",
       "      <td style=\"font-size: 10px;\">0.049587</td>\n",
       "      <td style=\"font-size: 10px;\">0.214286</td>\n",
       "      <td style=\"font-size: 10px;\">0.111111</td>\n",
       "      <td style=\"font-size: 10px;\">0.146341</td>\n",
       "    </tr>\n",
       "    <tr>\n",
       "      <td style=\"font-size: 10px;\">Article 6</td>\n",
       "      <td style=\"font-size: 10px;\">0.404255</td>\n",
       "      <td style=\"font-size: 10px;\">0.226190</td>\n",
       "      <td style=\"font-size: 10px;\">0.290076</td>\n",
       "      <td style=\"font-size: 10px;\">0.043478</td>\n",
       "      <td style=\"font-size: 10px;\">0.024096</td>\n",
       "      <td style=\"font-size: 10px;\">0.031008</td>\n",
       "      <td style=\"font-size: 10px;\">0.212766</td>\n",
       "      <td style=\"font-size: 10px;\">0.119048</td>\n",
       "      <td style=\"font-size: 10px;\">0.152672</td>\n",
       "    </tr>\n",
       "    <tr>\n",
       "      <td style=\"font-size: 10px;\">Article 7</td>\n",
       "      <td style=\"font-size: 10px;\">0.510638</td>\n",
       "      <td style=\"font-size: 10px;\">0.289157</td>\n",
       "      <td style=\"font-size: 10px;\">0.369231</td>\n",
       "      <td style=\"font-size: 10px;\">0.086957</td>\n",
       "      <td style=\"font-size: 10px;\">0.048780</td>\n",
       "      <td style=\"font-size: 10px;\">0.062500</td>\n",
       "      <td style=\"font-size: 10px;\">0.191489</td>\n",
       "      <td style=\"font-size: 10px;\">0.108434</td>\n",
       "      <td style=\"font-size: 10px;\">0.138462</td>\n",
       "    </tr>\n",
       "    <tr>\n",
       "      <td style=\"font-size: 10px;\">Article 8</td>\n",
       "      <td style=\"font-size: 10px;\">0.500000</td>\n",
       "      <td style=\"font-size: 10px;\">0.255556</td>\n",
       "      <td style=\"font-size: 10px;\">0.338235</td>\n",
       "      <td style=\"font-size: 10px;\">0.222222</td>\n",
       "      <td style=\"font-size: 10px;\">0.112360</td>\n",
       "      <td style=\"font-size: 10px;\">0.149254</td>\n",
       "      <td style=\"font-size: 10px;\">0.217391</td>\n",
       "      <td style=\"font-size: 10px;\">0.111111</td>\n",
       "      <td style=\"font-size: 10px;\">0.147059</td>\n",
       "    </tr>\n",
       "    <tr>\n",
       "      <td style=\"font-size: 10px;\">Article 9</td>\n",
       "      <td style=\"font-size: 10px;\">0.454545</td>\n",
       "      <td style=\"font-size: 10px;\">0.215054</td>\n",
       "      <td style=\"font-size: 10px;\">0.291971</td>\n",
       "      <td style=\"font-size: 10px;\">0.069767</td>\n",
       "      <td style=\"font-size: 10px;\">0.032609</td>\n",
       "      <td style=\"font-size: 10px;\">0.044444</td>\n",
       "      <td style=\"font-size: 10px;\">0.250000</td>\n",
       "      <td style=\"font-size: 10px;\">0.118280</td>\n",
       "      <td style=\"font-size: 10px;\">0.160584</td>\n",
       "    </tr>\n",
       "    <tr>\n",
       "      <td style=\"font-size: 10px;\">Article 10</td>\n",
       "      <td style=\"font-size: 10px;\">0.391304</td>\n",
       "      <td style=\"font-size: 10px;\">0.174757</td>\n",
       "      <td style=\"font-size: 10px;\">0.241611</td>\n",
       "      <td style=\"font-size: 10px;\">0.088889</td>\n",
       "      <td style=\"font-size: 10px;\">0.039216</td>\n",
       "      <td style=\"font-size: 10px;\">0.054422</td>\n",
       "      <td style=\"font-size: 10px;\">0.217391</td>\n",
       "      <td style=\"font-size: 10px;\">0.097087</td>\n",
       "      <td style=\"font-size: 10px;\">0.134228</td>\n",
       "    </tr>\n",
       "    <tr>\n",
       "      <td style=\"font-size: 10px;\">Article 11</td>\n",
       "      <td style=\"font-size: 10px;\">0.428571</td>\n",
       "      <td style=\"font-size: 10px;\">0.241071</td>\n",
       "      <td style=\"font-size: 10px;\">0.308571</td>\n",
       "      <td style=\"font-size: 10px;\">0.112903</td>\n",
       "      <td style=\"font-size: 10px;\">0.063063</td>\n",
       "      <td style=\"font-size: 10px;\">0.080925</td>\n",
       "      <td style=\"font-size: 10px;\">0.190476</td>\n",
       "      <td style=\"font-size: 10px;\">0.107143</td>\n",
       "      <td style=\"font-size: 10px;\">0.137143</td>\n",
       "    </tr>\n",
       "    <tr>\n",
       "      <td style=\"font-size: 10px;\">Article 12</td>\n",
       "      <td style=\"font-size: 10px;\">0.581395</td>\n",
       "      <td style=\"font-size: 10px;\">0.252525</td>\n",
       "      <td style=\"font-size: 10px;\">0.352113</td>\n",
       "      <td style=\"font-size: 10px;\">0.142857</td>\n",
       "      <td style=\"font-size: 10px;\">0.061224</td>\n",
       "      <td style=\"font-size: 10px;\">0.085714</td>\n",
       "      <td style=\"font-size: 10px;\">0.279070</td>\n",
       "      <td style=\"font-size: 10px;\">0.121212</td>\n",
       "      <td style=\"font-size: 10px;\">0.169014</td>\n",
       "    </tr>\n",
       "    <tr>\n",
       "      <td style=\"font-size: 10px;\">Article 13</td>\n",
       "      <td style=\"font-size: 10px;\">0.369565</td>\n",
       "      <td style=\"font-size: 10px;\">0.186813</td>\n",
       "      <td style=\"font-size: 10px;\">0.248175</td>\n",
       "      <td style=\"font-size: 10px;\">0.111111</td>\n",
       "      <td style=\"font-size: 10px;\">0.055556</td>\n",
       "      <td style=\"font-size: 10px;\">0.074074</td>\n",
       "      <td style=\"font-size: 10px;\">0.217391</td>\n",
       "      <td style=\"font-size: 10px;\">0.109890</td>\n",
       "      <td style=\"font-size: 10px;\">0.145985</td>\n",
       "    </tr>\n",
       "    <tr>\n",
       "      <td style=\"font-size: 10px;\">Article 14</td>\n",
       "      <td style=\"font-size: 10px;\">0.535714</td>\n",
       "      <td style=\"font-size: 10px;\">0.340909</td>\n",
       "      <td style=\"font-size: 10px;\">0.416667</td>\n",
       "      <td style=\"font-size: 10px;\">0.218182</td>\n",
       "      <td style=\"font-size: 10px;\">0.137931</td>\n",
       "      <td style=\"font-size: 10px;\">0.169014</td>\n",
       "      <td style=\"font-size: 10px;\">0.267857</td>\n",
       "      <td style=\"font-size: 10px;\">0.170455</td>\n",
       "      <td style=\"font-size: 10px;\">0.208333</td>\n",
       "    </tr>\n",
       "    <tr>\n",
       "      <td style=\"font-size: 10px;\">Article 15</td>\n",
       "      <td style=\"font-size: 10px;\">0.411765</td>\n",
       "      <td style=\"font-size: 10px;\">0.368421</td>\n",
       "      <td style=\"font-size: 10px;\">0.388889</td>\n",
       "      <td style=\"font-size: 10px;\">0.194030</td>\n",
       "      <td style=\"font-size: 10px;\">0.173333</td>\n",
       "      <td style=\"font-size: 10px;\">0.183099</td>\n",
       "      <td style=\"font-size: 10px;\">0.294118</td>\n",
       "      <td style=\"font-size: 10px;\">0.263158</td>\n",
       "      <td style=\"font-size: 10px;\">0.277778</td>\n",
       "    </tr>\n",
       "    <tr>\n",
       "      <td style=\"font-size: 10px;\">Article 16</td>\n",
       "      <td style=\"font-size: 10px;\">0.511111</td>\n",
       "      <td style=\"font-size: 10px;\">0.252747</td>\n",
       "      <td style=\"font-size: 10px;\">0.338235</td>\n",
       "      <td style=\"font-size: 10px;\">0.204545</td>\n",
       "      <td style=\"font-size: 10px;\">0.100000</td>\n",
       "      <td style=\"font-size: 10px;\">0.134328</td>\n",
       "      <td style=\"font-size: 10px;\">0.355556</td>\n",
       "      <td style=\"font-size: 10px;\">0.175824</td>\n",
       "      <td style=\"font-size: 10px;\">0.235294</td>\n",
       "    </tr>\n",
       "    <tr>\n",
       "      <td style=\"font-size: 10px;\">Article 17</td>\n",
       "      <td style=\"font-size: 10px;\">0.490566</td>\n",
       "      <td style=\"font-size: 10px;\">0.270833</td>\n",
       "      <td style=\"font-size: 10px;\">0.348993</td>\n",
       "      <td style=\"font-size: 10px;\">0.192308</td>\n",
       "      <td style=\"font-size: 10px;\">0.105263</td>\n",
       "      <td style=\"font-size: 10px;\">0.136054</td>\n",
       "      <td style=\"font-size: 10px;\">0.264151</td>\n",
       "      <td style=\"font-size: 10px;\">0.145833</td>\n",
       "      <td style=\"font-size: 10px;\">0.187919</td>\n",
       "    </tr>\n",
       "    <tr>\n",
       "      <td style=\"font-size: 10px;\">Article 18</td>\n",
       "      <td style=\"font-size: 10px;\">0.444444</td>\n",
       "      <td style=\"font-size: 10px;\">0.224719</td>\n",
       "      <td style=\"font-size: 10px;\">0.298507</td>\n",
       "      <td style=\"font-size: 10px;\">0.090909</td>\n",
       "      <td style=\"font-size: 10px;\">0.045455</td>\n",
       "      <td style=\"font-size: 10px;\">0.060606</td>\n",
       "      <td style=\"font-size: 10px;\">0.311111</td>\n",
       "      <td style=\"font-size: 10px;\">0.157303</td>\n",
       "      <td style=\"font-size: 10px;\">0.208955</td>\n",
       "    </tr>\n",
       "    <tr>\n",
       "      <td style=\"font-size: 10px;\">Article 19</td>\n",
       "      <td style=\"font-size: 10px;\">0.439024</td>\n",
       "      <td style=\"font-size: 10px;\">0.193548</td>\n",
       "      <td style=\"font-size: 10px;\">0.268657</td>\n",
       "      <td style=\"font-size: 10px;\">0.175000</td>\n",
       "      <td style=\"font-size: 10px;\">0.076087</td>\n",
       "      <td style=\"font-size: 10px;\">0.106061</td>\n",
       "      <td style=\"font-size: 10px;\">0.292683</td>\n",
       "      <td style=\"font-size: 10px;\">0.129032</td>\n",
       "      <td style=\"font-size: 10px;\">0.179104</td>\n",
       "    </tr>\n",
       "    <tr>\n",
       "      <td style=\"font-size: 10px;\">Article 20</td>\n",
       "      <td style=\"font-size: 10px;\">0.231884</td>\n",
       "      <td style=\"font-size: 10px;\">0.197531</td>\n",
       "      <td style=\"font-size: 10px;\">0.213333</td>\n",
       "      <td style=\"font-size: 10px;\">0.044118</td>\n",
       "      <td style=\"font-size: 10px;\">0.037500</td>\n",
       "      <td style=\"font-size: 10px;\">0.040541</td>\n",
       "      <td style=\"font-size: 10px;\">0.173913</td>\n",
       "      <td style=\"font-size: 10px;\">0.148148</td>\n",
       "      <td style=\"font-size: 10px;\">0.160000</td>\n",
       "    </tr>\n",
       "    <tr>\n",
       "      <td style=\"font-size: 10px;\">Article 21</td>\n",
       "      <td style=\"font-size: 10px;\">0.543478</td>\n",
       "      <td style=\"font-size: 10px;\">0.229358</td>\n",
       "      <td style=\"font-size: 10px;\">0.322581</td>\n",
       "      <td style=\"font-size: 10px;\">0.111111</td>\n",
       "      <td style=\"font-size: 10px;\">0.046296</td>\n",
       "      <td style=\"font-size: 10px;\">0.065359</td>\n",
       "      <td style=\"font-size: 10px;\">0.304348</td>\n",
       "      <td style=\"font-size: 10px;\">0.128440</td>\n",
       "      <td style=\"font-size: 10px;\">0.180645</td>\n",
       "    </tr>\n",
       "    <tr>\n",
       "      <td style=\"font-size: 10px;\">Article 22</td>\n",
       "      <td style=\"font-size: 10px;\">0.523810</td>\n",
       "      <td style=\"font-size: 10px;\">0.468085</td>\n",
       "      <td style=\"font-size: 10px;\">0.494382</td>\n",
       "      <td style=\"font-size: 10px;\">0.216867</td>\n",
       "      <td style=\"font-size: 10px;\">0.193548</td>\n",
       "      <td style=\"font-size: 10px;\">0.204545</td>\n",
       "      <td style=\"font-size: 10px;\">0.273810</td>\n",
       "      <td style=\"font-size: 10px;\">0.244681</td>\n",
       "      <td style=\"font-size: 10px;\">0.258427</td>\n",
       "    </tr>\n",
       "    <tr>\n",
       "      <td style=\"font-size: 10px;\">Article 23</td>\n",
       "      <td style=\"font-size: 10px;\">0.410256</td>\n",
       "      <td style=\"font-size: 10px;\">0.173913</td>\n",
       "      <td style=\"font-size: 10px;\">0.244275</td>\n",
       "      <td style=\"font-size: 10px;\">0.105263</td>\n",
       "      <td style=\"font-size: 10px;\">0.043956</td>\n",
       "      <td style=\"font-size: 10px;\">0.062016</td>\n",
       "      <td style=\"font-size: 10px;\">0.307692</td>\n",
       "      <td style=\"font-size: 10px;\">0.130435</td>\n",
       "      <td style=\"font-size: 10px;\">0.183206</td>\n",
       "    </tr>\n",
       "    <tr>\n",
       "      <td style=\"font-size: 10px;\">Article 24</td>\n",
       "      <td style=\"font-size: 10px;\">0.377551</td>\n",
       "      <td style=\"font-size: 10px;\">0.324561</td>\n",
       "      <td style=\"font-size: 10px;\">0.349057</td>\n",
       "      <td style=\"font-size: 10px;\">0.082474</td>\n",
       "      <td style=\"font-size: 10px;\">0.070796</td>\n",
       "      <td style=\"font-size: 10px;\">0.076190</td>\n",
       "      <td style=\"font-size: 10px;\">0.224490</td>\n",
       "      <td style=\"font-size: 10px;\">0.192982</td>\n",
       "      <td style=\"font-size: 10px;\">0.207547</td>\n",
       "    </tr>\n",
       "    <tr>\n",
       "      <td style=\"font-size: 10px;\">Article 25</td>\n",
       "      <td style=\"font-size: 10px;\">0.338710</td>\n",
       "      <td style=\"font-size: 10px;\">0.223404</td>\n",
       "      <td style=\"font-size: 10px;\">0.269231</td>\n",
       "      <td style=\"font-size: 10px;\">0.016393</td>\n",
       "      <td style=\"font-size: 10px;\">0.010753</td>\n",
       "      <td style=\"font-size: 10px;\">0.012987</td>\n",
       "      <td style=\"font-size: 10px;\">0.177419</td>\n",
       "      <td style=\"font-size: 10px;\">0.117021</td>\n",
       "      <td style=\"font-size: 10px;\">0.141026</td>\n",
       "    </tr>\n",
       "    <tr>\n",
       "      <td style=\"font-size: 10px;\">Article 26</td>\n",
       "      <td style=\"font-size: 10px;\">0.541667</td>\n",
       "      <td style=\"font-size: 10px;\">0.262626</td>\n",
       "      <td style=\"font-size: 10px;\">0.353741</td>\n",
       "      <td style=\"font-size: 10px;\">0.106383</td>\n",
       "      <td style=\"font-size: 10px;\">0.051020</td>\n",
       "      <td style=\"font-size: 10px;\">0.068966</td>\n",
       "      <td style=\"font-size: 10px;\">0.333333</td>\n",
       "      <td style=\"font-size: 10px;\">0.161616</td>\n",
       "      <td style=\"font-size: 10px;\">0.217687</td>\n",
       "    </tr>\n",
       "    <tr>\n",
       "      <td style=\"font-size: 10px;\">Article 27</td>\n",
       "      <td style=\"font-size: 10px;\">0.555556</td>\n",
       "      <td style=\"font-size: 10px;\">0.283019</td>\n",
       "      <td style=\"font-size: 10px;\">0.375000</td>\n",
       "      <td style=\"font-size: 10px;\">0.113208</td>\n",
       "      <td style=\"font-size: 10px;\">0.057143</td>\n",
       "      <td style=\"font-size: 10px;\">0.075949</td>\n",
       "      <td style=\"font-size: 10px;\">0.222222</td>\n",
       "      <td style=\"font-size: 10px;\">0.113208</td>\n",
       "      <td style=\"font-size: 10px;\">0.150000</td>\n",
       "    </tr>\n",
       "    <tr>\n",
       "      <td style=\"font-size: 10px;\">Article 28</td>\n",
       "      <td style=\"font-size: 10px;\">0.648148</td>\n",
       "      <td style=\"font-size: 10px;\">0.333333</td>\n",
       "      <td style=\"font-size: 10px;\">0.440252</td>\n",
       "      <td style=\"font-size: 10px;\">0.226415</td>\n",
       "      <td style=\"font-size: 10px;\">0.115385</td>\n",
       "      <td style=\"font-size: 10px;\">0.152866</td>\n",
       "      <td style=\"font-size: 10px;\">0.351852</td>\n",
       "      <td style=\"font-size: 10px;\">0.180952</td>\n",
       "      <td style=\"font-size: 10px;\">0.238994</td>\n",
       "    </tr>\n",
       "    <tr>\n",
       "      <td style=\"font-size: 10px;\">Article 29</td>\n",
       "      <td style=\"font-size: 10px;\">0.657895</td>\n",
       "      <td style=\"font-size: 10px;\">0.268817</td>\n",
       "      <td style=\"font-size: 10px;\">0.381679</td>\n",
       "      <td style=\"font-size: 10px;\">0.351351</td>\n",
       "      <td style=\"font-size: 10px;\">0.141304</td>\n",
       "      <td style=\"font-size: 10px;\">0.201550</td>\n",
       "      <td style=\"font-size: 10px;\">0.315789</td>\n",
       "      <td style=\"font-size: 10px;\">0.129032</td>\n",
       "      <td style=\"font-size: 10px;\">0.183206</td>\n",
       "    </tr>\n",
       "    <tr>\n",
       "      <td style=\"font-size: 10px;\">Article 30</td>\n",
       "      <td style=\"font-size: 10px;\">0.422222</td>\n",
       "      <td style=\"font-size: 10px;\">0.208791</td>\n",
       "      <td style=\"font-size: 10px;\">0.279412</td>\n",
       "      <td style=\"font-size: 10px;\">0.090909</td>\n",
       "      <td style=\"font-size: 10px;\">0.044444</td>\n",
       "      <td style=\"font-size: 10px;\">0.059701</td>\n",
       "      <td style=\"font-size: 10px;\">0.244444</td>\n",
       "      <td style=\"font-size: 10px;\">0.120879</td>\n",
       "      <td style=\"font-size: 10px;\">0.161765</td>\n",
       "    </tr>\n",
       "    <tr>\n",
       "      <td style=\"font-size: 10px;\">Average</td>\n",
       "      <td style=\"font-size: 10px;\">0.465938</td>\n",
       "      <td style=\"font-size: 10px;\">0.254434</td>\n",
       "      <td style=\"font-size: 10px;\">0.325349</td>\n",
       "      <td style=\"font-size: 10px;\">0.132124</td>\n",
       "      <td style=\"font-size: 10px;\">0.072244</td>\n",
       "      <td style=\"font-size: 10px;\">0.092080</td>\n",
       "      <td style=\"font-size: 10px;\">0.257330</td>\n",
       "      <td style=\"font-size: 10px;\">0.141315</td>\n",
       "      <td style=\"font-size: 10px;\">0.180166</td>\n",
       "    </tr>\n",
       "  </tbody>\n",
       "</table>"
      ],
      "text/plain": [
       "<IPython.core.display.HTML object>"
      ]
     },
     "execution_count": 428,
     "metadata": {},
     "output_type": "execute_result"
    }
   ],
   "source": [
    "# Convert DataFrame to HTML with smaller font size\n",
    "html_table_p = df_p.to_html(index=False, classes='table table-striped table-bordered', col_space=100, justify='center')\n",
    "\n",
    "# Apply CSS to the HTML table to set font size\n",
    "html_table_p = html_table_p.replace('<th>', '<th style=\"font-size: 10px;\">')\n",
    "html_table_p = html_table_p.replace('<td>', '<td style=\"font-size: 10px;\">')\n",
    "\n",
    "# Display the HTML table\n",
    "HTML(html_table_p)"
   ]
  },
  {
   "cell_type": "code",
   "execution_count": 429,
   "id": "5bd2b60a",
   "metadata": {},
   "outputs": [
    {
     "name": "stdout",
     "output_type": "stream",
     "text": [
      "Average number of words for Pegasus: 45, Average number of words for t5: 66, Average number of words for ground truth: 90\n"
     ]
    }
   ],
   "source": [
    "#Average length comparison\n",
    "num_words = len(ground_truth.iloc[0,1].split())\n",
    "avg_pegasus_length=0\n",
    "avg_t5=0\n",
    "avg_ground=0\n",
    "for i in range(30):\n",
    "    avg_pegasus = len(summaries_peg[i].split())\n",
    "    avg_t5 = len(summaries_t5[i].split())\n",
    "    avg_ground = len(ground_truth.iloc[i,1].split())\n",
    "print(f'Average number of words for Pegasus: {avg_pegasus}, Average number of words for t5: {avg_t5}, Average number of words for ground truth: {avg_ground}')"
   ]
  },
  {
   "cell_type": "markdown",
   "id": "f7584422",
   "metadata": {},
   "source": [
    "Pegasus Large"
   ]
  },
  {
   "cell_type": "code",
   "execution_count": 319,
   "id": "937c24bd",
   "metadata": {},
   "outputs": [
    {
     "data": {
      "application/vnd.jupyter.widget-view+json": {
       "model_id": "010ce414009b47bbafb1b1165ddd7153",
       "version_major": 2,
       "version_minor": 0
      },
      "text/plain": [
       "tokenizer_config.json:   0%|          | 0.00/88.0 [00:00<?, ?B/s]"
      ]
     },
     "metadata": {},
     "output_type": "display_data"
    },
    {
     "name": "stderr",
     "output_type": "stream",
     "text": [
      "C:\\Users\\ianre\\anaconda3\\Lib\\site-packages\\huggingface_hub\\file_download.py:159: UserWarning: `huggingface_hub` cache-system uses symlinks by default to efficiently store duplicated files but your machine does not support them in C:\\Users\\ianre\\.cache\\huggingface\\hub\\models--google--pegasus-large. Caching files will still work but in a degraded version that might require more space on your disk. This warning can be disabled by setting the `HF_HUB_DISABLE_SYMLINKS_WARNING` environment variable. For more details, see https://huggingface.co/docs/huggingface_hub/how-to-cache#limitations.\n",
      "To support symlinks on Windows, you either need to activate Developer Mode or to run Python as an administrator. In order to see activate developer mode, see this article: https://docs.microsoft.com/en-us/windows/apps/get-started/enable-your-device-for-development\n",
      "  warnings.warn(message)\n"
     ]
    },
    {
     "data": {
      "application/vnd.jupyter.widget-view+json": {
       "model_id": "852db178f1a448d4bf311fc928feb8eb",
       "version_major": 2,
       "version_minor": 0
      },
      "text/plain": [
       "spiece.model:   0%|          | 0.00/1.91M [00:00<?, ?B/s]"
      ]
     },
     "metadata": {},
     "output_type": "display_data"
    },
    {
     "data": {
      "application/vnd.jupyter.widget-view+json": {
       "model_id": "408ae06f594b4fb98ad4676e958e611d",
       "version_major": 2,
       "version_minor": 0
      },
      "text/plain": [
       "special_tokens_map.json:   0%|          | 0.00/65.0 [00:00<?, ?B/s]"
      ]
     },
     "metadata": {},
     "output_type": "display_data"
    },
    {
     "data": {
      "application/vnd.jupyter.widget-view+json": {
       "model_id": "28af06f9958c4efba5ab6746c3492e3c",
       "version_major": 2,
       "version_minor": 0
      },
      "text/plain": [
       "config.json:   0%|          | 0.00/3.09k [00:00<?, ?B/s]"
      ]
     },
     "metadata": {},
     "output_type": "display_data"
    },
    {
     "data": {
      "application/vnd.jupyter.widget-view+json": {
       "model_id": "d96ba653a8ed4385a4986c312c89bcf6",
       "version_major": 2,
       "version_minor": 0
      },
      "text/plain": [
       "pytorch_model.bin:   0%|          | 0.00/2.28G [00:00<?, ?B/s]"
      ]
     },
     "metadata": {},
     "output_type": "display_data"
    },
    {
     "name": "stderr",
     "output_type": "stream",
     "text": [
      "Some weights of PegasusForConditionalGeneration were not initialized from the model checkpoint at google/pegasus-large and are newly initialized: ['model.decoder.embed_positions.weight', 'model.encoder.embed_positions.weight']\n",
      "You should probably TRAIN this model on a down-stream task to be able to use it for predictions and inference.\n"
     ]
    },
    {
     "data": {
      "application/vnd.jupyter.widget-view+json": {
       "model_id": "d52a210c038b4a2ca75e802ee35cdfe5",
       "version_major": 2,
       "version_minor": 0
      },
      "text/plain": [
       "generation_config.json:   0%|          | 0.00/260 [00:00<?, ?B/s]"
      ]
     },
     "metadata": {},
     "output_type": "display_data"
    }
   ],
   "source": [
    "from transformers import PegasusTokenizer, PegasusForConditionalGeneration\n",
    "\n",
    "# Load pre-trained Pegasus-large model and tokenizer\n",
    "model_large = \"google/pegasus-large\"\n",
    "tokenizer_large = PegasusTokenizer.from_pretrained(model_large)\n",
    "model_large = PegasusForConditionalGeneration.from_pretrained(model_large)"
   ]
  },
  {
   "cell_type": "code",
   "execution_count": 430,
   "id": "3425558c",
   "metadata": {},
   "outputs": [],
   "source": [
    "summaries_large=[]\n",
    "for i in range(len(articles)):\n",
    "    inputs = tokenizer_large(articles.iloc[i,1], return_tensors=\"pt\", max_length=512, truncation=True)\n",
    "    summary_ids = model_large.generate(inputs[\"input_ids\"], max_length=150, min_length=40, length_penalty=2.0, num_beams=4, early_stopping=True)\n",
    "    summary = tokenizer_large.decode(summary_ids[0], skip_special_tokens=True)\n",
    "    summaries_large.append(summary)"
   ]
  },
  {
   "cell_type": "code",
   "execution_count": 431,
   "id": "30eec82a",
   "metadata": {},
   "outputs": [
    {
     "name": "stdout",
     "output_type": "stream",
     "text": [
      "In a study of 4,400 people still \"cognitively unimpaired,\" there was higher buildup of amyloid protein plaques in the brain (a hallmark of Alzheimer's) if either the person's mother, or both parents, had Alzheimer's, compared to folks where Alzheimer's had only struck the father. However, there was a correlation between the accumulation of brain plaques and having had a mother whose Alzheimer's symptoms began at any age, or having a father whose symptoms began relatively early, the team reported.\n"
     ]
    }
   ],
   "source": [
    "print(summaries_large[8])"
   ]
  },
  {
   "cell_type": "code",
   "execution_count": 432,
   "id": "94b3a2d4",
   "metadata": {},
   "outputs": [
    {
     "name": "stdout",
     "output_type": "stream",
     "text": [
      "ROUGE-1: Score(precision=0.4125, recall=0.35106382978723405, fmeasure=0.3793103448275862)\n",
      "ROUGE-2: Score(precision=0.10126582278481013, recall=0.08602150537634409, fmeasure=0.09302325581395347)\n",
      "ROUGE-L: Score(precision=0.1875, recall=0.1595744680851064, fmeasure=0.1724137931034483)\n"
     ]
    }
   ],
   "source": [
    "r1l, r2l, rll = rougescore(ground_truth, summaries_large)\n",
    "# Print the ROUGE scores\n",
    "print(\"ROUGE-1:\", r1l[1])\n",
    "print(\"ROUGE-2:\", r2l[1])\n",
    "print(\"ROUGE-L:\", rll[1])"
   ]
  },
  {
   "cell_type": "code",
   "execution_count": 433,
   "id": "89f28a72",
   "metadata": {},
   "outputs": [
    {
     "name": "stdout",
     "output_type": "stream",
     "text": [
      "0.44172361060923687\n"
     ]
    }
   ],
   "source": [
    "rouge1_precision_l = [r1l[i].precision for i in range(30)]\n",
    "average_precision = np.mean(rouge1_precision_l)\n",
    "rouge1_precision_l.append(average_precision)\n",
    "print(average_precision)"
   ]
  },
  {
   "cell_type": "code",
   "execution_count": 434,
   "id": "2079aac6",
   "metadata": {},
   "outputs": [
    {
     "name": "stdout",
     "output_type": "stream",
     "text": [
      "0.3788625419527566\n"
     ]
    }
   ],
   "source": [
    "rouge1_recall_l = [r1l[i].recall for i in range(30)]\n",
    "average_recall = np.mean(rouge1_recall_l)\n",
    "rouge1_recall_l.append(average_recall)\n",
    "print(average_recall)"
   ]
  },
  {
   "cell_type": "code",
   "execution_count": 435,
   "id": "4a15372e",
   "metadata": {},
   "outputs": [
    {
     "name": "stdout",
     "output_type": "stream",
     "text": [
      "0.4034268989589471\n"
     ]
    }
   ],
   "source": [
    "#F1 score\n",
    "rouge1_f1_l = [r1l[i].fmeasure for i in range(30)]\n",
    "average_f1 = np.mean(rouge1_f1_l)\n",
    "rouge1_f1_l.append(average_f1)\n",
    "print(average_f1)"
   ]
  },
  {
   "cell_type": "code",
   "execution_count": 436,
   "id": "1bab9552",
   "metadata": {},
   "outputs": [
    {
     "name": "stdout",
     "output_type": "stream",
     "text": [
      "0.14753975835755498\n"
     ]
    }
   ],
   "source": [
    "rouge2_precision_l = [r2l[i].precision for i in range(30)]\n",
    "average_precision = np.mean(rouge2_precision_l)\n",
    "rouge2_precision_l.append(average_precision)\n",
    "print(average_precision)"
   ]
  },
  {
   "cell_type": "code",
   "execution_count": 437,
   "id": "35b4421b",
   "metadata": {},
   "outputs": [
    {
     "name": "stdout",
     "output_type": "stream",
     "text": [
      "0.12179862647989621\n"
     ]
    }
   ],
   "source": [
    "rouge2_recall_l = [r2l[i].recall for i in range(30)]\n",
    "average_recall = np.mean(rouge2_recall_l)\n",
    "rouge2_recall_l.append(average_recall)\n",
    "print(average_recall)"
   ]
  },
  {
   "cell_type": "code",
   "execution_count": 438,
   "id": "1f0d6396",
   "metadata": {},
   "outputs": [
    {
     "name": "stdout",
     "output_type": "stream",
     "text": [
      "0.13188053369438757\n"
     ]
    }
   ],
   "source": [
    "#F1 score\n",
    "rouge2_f1_l = [r2l[i].fmeasure for i in range(30)]\n",
    "average_f1 = np.mean(rouge2_f1_l)\n",
    "rouge2_f1_l.append(average_f1)\n",
    "print(average_f1)"
   ]
  },
  {
   "cell_type": "code",
   "execution_count": 439,
   "id": "8422cafc",
   "metadata": {},
   "outputs": [
    {
     "name": "stdout",
     "output_type": "stream",
     "text": [
      "0.2483920002640125\n"
     ]
    }
   ],
   "source": [
    "rougel_precision_l = [rll[i].precision for i in range(30)]\n",
    "average_precision = np.mean(rougel_precision_l)\n",
    "rougel_precision_l.append(average_precision)\n",
    "print(average_precision)"
   ]
  },
  {
   "cell_type": "code",
   "execution_count": 440,
   "id": "04d10840",
   "metadata": {},
   "outputs": [
    {
     "name": "stdout",
     "output_type": "stream",
     "text": [
      "0.21048351582789956\n"
     ]
    }
   ],
   "source": [
    "rougel_recall_l = [rll[i].recall for i in range(30)]\n",
    "average_recall = np.mean(rougel_recall_l)\n",
    "rougel_recall_l.append(average_recall)\n",
    "print(average_recall)"
   ]
  },
  {
   "cell_type": "code",
   "execution_count": 441,
   "id": "8e177507",
   "metadata": {},
   "outputs": [
    {
     "name": "stdout",
     "output_type": "stream",
     "text": [
      "0.22533027828242602\n"
     ]
    }
   ],
   "source": [
    "#F1 score\n",
    "rougel_f1_l = [rll[i].fmeasure for i in range(30)]\n",
    "average_f1 = np.mean(rougel_f1_l)\n",
    "rougel_f1_l.append(average_f1)\n",
    "print(average_f1)"
   ]
  },
  {
   "cell_type": "code",
   "execution_count": 442,
   "id": "340789a5",
   "metadata": {},
   "outputs": [],
   "source": [
    "#Create table with results from Pegasus Large transformer\n",
    "table_l = {\n",
    "    \"Model\": [\"Article 1\", \"Article 2\", \"Article 3\", \"Article 4\", \"Article 5\",\n",
    "              \"Article 6\", \"Article 7\", \"Article 8\", \"Article 9\", \"Article 10\",\n",
    "              \"Article 11\", \"Article 12\", \"Article 13\", \"Article 14\", \"Article 15\",\n",
    "             \"Article 16\", \"Article 17\", \"Article 18\", \"Article 19\", \"Article 20\",\n",
    "              \"Article 21\", \"Article 22\", \"Article 23\", \"Article 24\", \"Article 25\",\n",
    "              \"Article 26\", \"Article 27\", \"Article 28\", \"Article 29\", \"Article 30\",\"Average\"],\n",
    "    \"Rouge1 Precision\": rouge1_precision_l,\n",
    "    \"Rouge1 Recall\": rouge1_recall_l,\n",
    "    \"Rouge1 F1\": rouge1_f1_l,\n",
    "    \"Rouge2 Precision\":rouge2_precision_l,\n",
    "    \"Rouge2 Recall\": rouge2_recall_l,\n",
    "    \"Rouge2 F1\": rouge2_f1_l,\n",
    "    \"RougeL Precision\": rougel_precision_l,\n",
    "    \"RougeL Recall\": rougel_recall_l,\n",
    "    \"RougeL F1\": rougel_f1_l\n",
    "}\n"
   ]
  },
  {
   "cell_type": "code",
   "execution_count": 443,
   "id": "96595a5d",
   "metadata": {},
   "outputs": [
    {
     "name": "stdout",
     "output_type": "stream",
     "text": [
      "         Model  Rouge1 Precision  Rouge1 Recall  Rouge1 F1  Rouge2 Precision  \\\n",
      "0    Article 1          0.407895       0.397436   0.402597          0.093333   \n",
      "1    Article 2          0.412500       0.351064   0.379310          0.101266   \n",
      "2    Article 3          0.356322       0.356322   0.356322          0.081395   \n",
      "3    Article 4          0.454545       0.372340   0.409357          0.092105   \n",
      "4    Article 5          0.453125       0.358025   0.400000          0.063492   \n",
      "5    Article 6          0.273810       0.273810   0.273810          0.024096   \n",
      "6    Article 7          0.548387       0.409639   0.468966          0.295082   \n",
      "7    Article 8          0.458333       0.366667   0.407407          0.140845   \n",
      "8    Article 9          0.458824       0.419355   0.438202          0.238095   \n",
      "9   Article 10          0.523364       0.543689   0.533333          0.160377   \n",
      "10  Article 11          0.586667       0.392857   0.470588          0.310811   \n",
      "11  Article 12          0.344538       0.414141   0.376147          0.101695   \n",
      "12  Article 13          0.407767       0.461538   0.432990          0.078431   \n",
      "13  Article 14          0.285714       0.295455   0.290503          0.044444   \n",
      "14  Article 15          0.380952       0.421053   0.400000          0.192771   \n",
      "15  Article 16          0.514706       0.384615   0.440252          0.194030   \n",
      "16  Article 17          0.631579       0.375000   0.470588          0.375000   \n",
      "17  Article 18          0.500000       0.426966   0.460606          0.213333   \n",
      "18  Article 19          0.500000       0.408602   0.449704          0.200000   \n",
      "19  Article 20          0.479452       0.432099   0.454545          0.152778   \n",
      "20  Article 21          0.522388       0.321101   0.397727          0.136364   \n",
      "21  Article 22          0.442105       0.446809   0.444444          0.180851   \n",
      "22  Article 23          0.352941       0.391304   0.371134          0.039604   \n",
      "23  Article 24          0.485437       0.438596   0.460829          0.147059   \n",
      "24  Article 25          0.323529       0.351064   0.336735          0.069307   \n",
      "25  Article 26          0.322917       0.313131   0.317949          0.073684   \n",
      "26  Article 27          0.285714       0.283019   0.284360          0.076923   \n",
      "27  Article 28          0.576923       0.285714   0.382166          0.196078   \n",
      "28  Article 29          0.420290       0.311828   0.358025          0.102941   \n",
      "29  Article 30          0.540984       0.362637   0.434211          0.250000   \n",
      "30     Average          0.441724       0.378863   0.403427          0.147540   \n",
      "\n",
      "    Rouge2 Recall  Rouge2 F1  RougeL Precision  RougeL Recall  RougeL F1  \n",
      "0        0.090909   0.092105          0.263158       0.256410   0.259740  \n",
      "1        0.086022   0.093023          0.187500       0.159574   0.172414  \n",
      "2        0.081395   0.081395          0.206897       0.206897   0.206897  \n",
      "3        0.075269   0.082840          0.246753       0.202128   0.222222  \n",
      "4        0.050000   0.055944          0.203125       0.160494   0.179310  \n",
      "5        0.024096   0.024096          0.130952       0.130952   0.130952  \n",
      "6        0.219512   0.251748          0.306452       0.228916   0.262069  \n",
      "7        0.112360   0.125000          0.180556       0.144444   0.160494  \n",
      "8        0.217391   0.227273          0.329412       0.301075   0.314607  \n",
      "9        0.166667   0.163462          0.186916       0.194175   0.190476  \n",
      "10       0.207207   0.248649          0.386667       0.258929   0.310160  \n",
      "11       0.122449   0.111111          0.151261       0.181818   0.165138  \n",
      "12       0.088889   0.083333          0.203883       0.230769   0.216495  \n",
      "13       0.045977   0.045198          0.120879       0.125000   0.122905  \n",
      "14       0.213333   0.202532          0.250000       0.276316   0.262500  \n",
      "15       0.144444   0.165605          0.323529       0.241758   0.276730  \n",
      "16       0.221053   0.278146          0.438596       0.260417   0.326797  \n",
      "17       0.181818   0.196319          0.315789       0.269663   0.290909  \n",
      "18       0.163043   0.179641          0.342105       0.279570   0.307692  \n",
      "19       0.137500   0.144737          0.246575       0.222222   0.233766  \n",
      "20       0.083333   0.103448          0.268657       0.165138   0.204545  \n",
      "21       0.182796   0.181818          0.315789       0.319149   0.317460  \n",
      "22       0.043956   0.041667          0.166667       0.184783   0.175258  \n",
      "23       0.132743   0.139535          0.271845       0.245614   0.258065  \n",
      "24       0.075269   0.072165          0.186275       0.202128   0.193878  \n",
      "25       0.071429   0.072539          0.135417       0.131313   0.133333  \n",
      "26       0.076190   0.076555          0.161905       0.160377   0.161137  \n",
      "27       0.096154   0.129032          0.346154       0.171429   0.229299  \n",
      "28       0.076087   0.087500          0.217391       0.161290   0.185185  \n",
      "29       0.166667   0.200000          0.360656       0.241758   0.289474  \n",
      "30       0.121799   0.131881          0.248392       0.210484   0.225330  \n"
     ]
    }
   ],
   "source": [
    "df_l = pd.DataFrame(table_l)\n",
    "\n",
    "# Display the DataFrame\n",
    "print(df_l)"
   ]
  },
  {
   "cell_type": "code",
   "execution_count": 444,
   "id": "702f444a",
   "metadata": {},
   "outputs": [
    {
     "data": {
      "text/html": [
       "<table border=\"1\" class=\"dataframe table table-striped table-bordered\">\n",
       "  <thead>\n",
       "    <tr style=\"text-align: center;\">\n",
       "      <th style=\"min-width: 100px;\">Model</th>\n",
       "      <th style=\"min-width: 100px;\">Rouge1 Precision</th>\n",
       "      <th style=\"min-width: 100px;\">Rouge1 Recall</th>\n",
       "      <th style=\"min-width: 100px;\">Rouge1 F1</th>\n",
       "      <th style=\"min-width: 100px;\">Rouge2 Precision</th>\n",
       "      <th style=\"min-width: 100px;\">Rouge2 Recall</th>\n",
       "      <th style=\"min-width: 100px;\">Rouge2 F1</th>\n",
       "      <th style=\"min-width: 100px;\">RougeL Precision</th>\n",
       "      <th style=\"min-width: 100px;\">RougeL Recall</th>\n",
       "      <th style=\"min-width: 100px;\">RougeL F1</th>\n",
       "    </tr>\n",
       "  </thead>\n",
       "  <tbody>\n",
       "    <tr>\n",
       "      <td style=\"font-size: 10px;\">Article 1</td>\n",
       "      <td style=\"font-size: 10px;\">0.407895</td>\n",
       "      <td style=\"font-size: 10px;\">0.397436</td>\n",
       "      <td style=\"font-size: 10px;\">0.402597</td>\n",
       "      <td style=\"font-size: 10px;\">0.093333</td>\n",
       "      <td style=\"font-size: 10px;\">0.090909</td>\n",
       "      <td style=\"font-size: 10px;\">0.092105</td>\n",
       "      <td style=\"font-size: 10px;\">0.263158</td>\n",
       "      <td style=\"font-size: 10px;\">0.256410</td>\n",
       "      <td style=\"font-size: 10px;\">0.259740</td>\n",
       "    </tr>\n",
       "    <tr>\n",
       "      <td style=\"font-size: 10px;\">Article 2</td>\n",
       "      <td style=\"font-size: 10px;\">0.412500</td>\n",
       "      <td style=\"font-size: 10px;\">0.351064</td>\n",
       "      <td style=\"font-size: 10px;\">0.379310</td>\n",
       "      <td style=\"font-size: 10px;\">0.101266</td>\n",
       "      <td style=\"font-size: 10px;\">0.086022</td>\n",
       "      <td style=\"font-size: 10px;\">0.093023</td>\n",
       "      <td style=\"font-size: 10px;\">0.187500</td>\n",
       "      <td style=\"font-size: 10px;\">0.159574</td>\n",
       "      <td style=\"font-size: 10px;\">0.172414</td>\n",
       "    </tr>\n",
       "    <tr>\n",
       "      <td style=\"font-size: 10px;\">Article 3</td>\n",
       "      <td style=\"font-size: 10px;\">0.356322</td>\n",
       "      <td style=\"font-size: 10px;\">0.356322</td>\n",
       "      <td style=\"font-size: 10px;\">0.356322</td>\n",
       "      <td style=\"font-size: 10px;\">0.081395</td>\n",
       "      <td style=\"font-size: 10px;\">0.081395</td>\n",
       "      <td style=\"font-size: 10px;\">0.081395</td>\n",
       "      <td style=\"font-size: 10px;\">0.206897</td>\n",
       "      <td style=\"font-size: 10px;\">0.206897</td>\n",
       "      <td style=\"font-size: 10px;\">0.206897</td>\n",
       "    </tr>\n",
       "    <tr>\n",
       "      <td style=\"font-size: 10px;\">Article 4</td>\n",
       "      <td style=\"font-size: 10px;\">0.454545</td>\n",
       "      <td style=\"font-size: 10px;\">0.372340</td>\n",
       "      <td style=\"font-size: 10px;\">0.409357</td>\n",
       "      <td style=\"font-size: 10px;\">0.092105</td>\n",
       "      <td style=\"font-size: 10px;\">0.075269</td>\n",
       "      <td style=\"font-size: 10px;\">0.082840</td>\n",
       "      <td style=\"font-size: 10px;\">0.246753</td>\n",
       "      <td style=\"font-size: 10px;\">0.202128</td>\n",
       "      <td style=\"font-size: 10px;\">0.222222</td>\n",
       "    </tr>\n",
       "    <tr>\n",
       "      <td style=\"font-size: 10px;\">Article 5</td>\n",
       "      <td style=\"font-size: 10px;\">0.453125</td>\n",
       "      <td style=\"font-size: 10px;\">0.358025</td>\n",
       "      <td style=\"font-size: 10px;\">0.400000</td>\n",
       "      <td style=\"font-size: 10px;\">0.063492</td>\n",
       "      <td style=\"font-size: 10px;\">0.050000</td>\n",
       "      <td style=\"font-size: 10px;\">0.055944</td>\n",
       "      <td style=\"font-size: 10px;\">0.203125</td>\n",
       "      <td style=\"font-size: 10px;\">0.160494</td>\n",
       "      <td style=\"font-size: 10px;\">0.179310</td>\n",
       "    </tr>\n",
       "    <tr>\n",
       "      <td style=\"font-size: 10px;\">Article 6</td>\n",
       "      <td style=\"font-size: 10px;\">0.273810</td>\n",
       "      <td style=\"font-size: 10px;\">0.273810</td>\n",
       "      <td style=\"font-size: 10px;\">0.273810</td>\n",
       "      <td style=\"font-size: 10px;\">0.024096</td>\n",
       "      <td style=\"font-size: 10px;\">0.024096</td>\n",
       "      <td style=\"font-size: 10px;\">0.024096</td>\n",
       "      <td style=\"font-size: 10px;\">0.130952</td>\n",
       "      <td style=\"font-size: 10px;\">0.130952</td>\n",
       "      <td style=\"font-size: 10px;\">0.130952</td>\n",
       "    </tr>\n",
       "    <tr>\n",
       "      <td style=\"font-size: 10px;\">Article 7</td>\n",
       "      <td style=\"font-size: 10px;\">0.548387</td>\n",
       "      <td style=\"font-size: 10px;\">0.409639</td>\n",
       "      <td style=\"font-size: 10px;\">0.468966</td>\n",
       "      <td style=\"font-size: 10px;\">0.295082</td>\n",
       "      <td style=\"font-size: 10px;\">0.219512</td>\n",
       "      <td style=\"font-size: 10px;\">0.251748</td>\n",
       "      <td style=\"font-size: 10px;\">0.306452</td>\n",
       "      <td style=\"font-size: 10px;\">0.228916</td>\n",
       "      <td style=\"font-size: 10px;\">0.262069</td>\n",
       "    </tr>\n",
       "    <tr>\n",
       "      <td style=\"font-size: 10px;\">Article 8</td>\n",
       "      <td style=\"font-size: 10px;\">0.458333</td>\n",
       "      <td style=\"font-size: 10px;\">0.366667</td>\n",
       "      <td style=\"font-size: 10px;\">0.407407</td>\n",
       "      <td style=\"font-size: 10px;\">0.140845</td>\n",
       "      <td style=\"font-size: 10px;\">0.112360</td>\n",
       "      <td style=\"font-size: 10px;\">0.125000</td>\n",
       "      <td style=\"font-size: 10px;\">0.180556</td>\n",
       "      <td style=\"font-size: 10px;\">0.144444</td>\n",
       "      <td style=\"font-size: 10px;\">0.160494</td>\n",
       "    </tr>\n",
       "    <tr>\n",
       "      <td style=\"font-size: 10px;\">Article 9</td>\n",
       "      <td style=\"font-size: 10px;\">0.458824</td>\n",
       "      <td style=\"font-size: 10px;\">0.419355</td>\n",
       "      <td style=\"font-size: 10px;\">0.438202</td>\n",
       "      <td style=\"font-size: 10px;\">0.238095</td>\n",
       "      <td style=\"font-size: 10px;\">0.217391</td>\n",
       "      <td style=\"font-size: 10px;\">0.227273</td>\n",
       "      <td style=\"font-size: 10px;\">0.329412</td>\n",
       "      <td style=\"font-size: 10px;\">0.301075</td>\n",
       "      <td style=\"font-size: 10px;\">0.314607</td>\n",
       "    </tr>\n",
       "    <tr>\n",
       "      <td style=\"font-size: 10px;\">Article 10</td>\n",
       "      <td style=\"font-size: 10px;\">0.523364</td>\n",
       "      <td style=\"font-size: 10px;\">0.543689</td>\n",
       "      <td style=\"font-size: 10px;\">0.533333</td>\n",
       "      <td style=\"font-size: 10px;\">0.160377</td>\n",
       "      <td style=\"font-size: 10px;\">0.166667</td>\n",
       "      <td style=\"font-size: 10px;\">0.163462</td>\n",
       "      <td style=\"font-size: 10px;\">0.186916</td>\n",
       "      <td style=\"font-size: 10px;\">0.194175</td>\n",
       "      <td style=\"font-size: 10px;\">0.190476</td>\n",
       "    </tr>\n",
       "    <tr>\n",
       "      <td style=\"font-size: 10px;\">Article 11</td>\n",
       "      <td style=\"font-size: 10px;\">0.586667</td>\n",
       "      <td style=\"font-size: 10px;\">0.392857</td>\n",
       "      <td style=\"font-size: 10px;\">0.470588</td>\n",
       "      <td style=\"font-size: 10px;\">0.310811</td>\n",
       "      <td style=\"font-size: 10px;\">0.207207</td>\n",
       "      <td style=\"font-size: 10px;\">0.248649</td>\n",
       "      <td style=\"font-size: 10px;\">0.386667</td>\n",
       "      <td style=\"font-size: 10px;\">0.258929</td>\n",
       "      <td style=\"font-size: 10px;\">0.310160</td>\n",
       "    </tr>\n",
       "    <tr>\n",
       "      <td style=\"font-size: 10px;\">Article 12</td>\n",
       "      <td style=\"font-size: 10px;\">0.344538</td>\n",
       "      <td style=\"font-size: 10px;\">0.414141</td>\n",
       "      <td style=\"font-size: 10px;\">0.376147</td>\n",
       "      <td style=\"font-size: 10px;\">0.101695</td>\n",
       "      <td style=\"font-size: 10px;\">0.122449</td>\n",
       "      <td style=\"font-size: 10px;\">0.111111</td>\n",
       "      <td style=\"font-size: 10px;\">0.151261</td>\n",
       "      <td style=\"font-size: 10px;\">0.181818</td>\n",
       "      <td style=\"font-size: 10px;\">0.165138</td>\n",
       "    </tr>\n",
       "    <tr>\n",
       "      <td style=\"font-size: 10px;\">Article 13</td>\n",
       "      <td style=\"font-size: 10px;\">0.407767</td>\n",
       "      <td style=\"font-size: 10px;\">0.461538</td>\n",
       "      <td style=\"font-size: 10px;\">0.432990</td>\n",
       "      <td style=\"font-size: 10px;\">0.078431</td>\n",
       "      <td style=\"font-size: 10px;\">0.088889</td>\n",
       "      <td style=\"font-size: 10px;\">0.083333</td>\n",
       "      <td style=\"font-size: 10px;\">0.203883</td>\n",
       "      <td style=\"font-size: 10px;\">0.230769</td>\n",
       "      <td style=\"font-size: 10px;\">0.216495</td>\n",
       "    </tr>\n",
       "    <tr>\n",
       "      <td style=\"font-size: 10px;\">Article 14</td>\n",
       "      <td style=\"font-size: 10px;\">0.285714</td>\n",
       "      <td style=\"font-size: 10px;\">0.295455</td>\n",
       "      <td style=\"font-size: 10px;\">0.290503</td>\n",
       "      <td style=\"font-size: 10px;\">0.044444</td>\n",
       "      <td style=\"font-size: 10px;\">0.045977</td>\n",
       "      <td style=\"font-size: 10px;\">0.045198</td>\n",
       "      <td style=\"font-size: 10px;\">0.120879</td>\n",
       "      <td style=\"font-size: 10px;\">0.125000</td>\n",
       "      <td style=\"font-size: 10px;\">0.122905</td>\n",
       "    </tr>\n",
       "    <tr>\n",
       "      <td style=\"font-size: 10px;\">Article 15</td>\n",
       "      <td style=\"font-size: 10px;\">0.380952</td>\n",
       "      <td style=\"font-size: 10px;\">0.421053</td>\n",
       "      <td style=\"font-size: 10px;\">0.400000</td>\n",
       "      <td style=\"font-size: 10px;\">0.192771</td>\n",
       "      <td style=\"font-size: 10px;\">0.213333</td>\n",
       "      <td style=\"font-size: 10px;\">0.202532</td>\n",
       "      <td style=\"font-size: 10px;\">0.250000</td>\n",
       "      <td style=\"font-size: 10px;\">0.276316</td>\n",
       "      <td style=\"font-size: 10px;\">0.262500</td>\n",
       "    </tr>\n",
       "    <tr>\n",
       "      <td style=\"font-size: 10px;\">Article 16</td>\n",
       "      <td style=\"font-size: 10px;\">0.514706</td>\n",
       "      <td style=\"font-size: 10px;\">0.384615</td>\n",
       "      <td style=\"font-size: 10px;\">0.440252</td>\n",
       "      <td style=\"font-size: 10px;\">0.194030</td>\n",
       "      <td style=\"font-size: 10px;\">0.144444</td>\n",
       "      <td style=\"font-size: 10px;\">0.165605</td>\n",
       "      <td style=\"font-size: 10px;\">0.323529</td>\n",
       "      <td style=\"font-size: 10px;\">0.241758</td>\n",
       "      <td style=\"font-size: 10px;\">0.276730</td>\n",
       "    </tr>\n",
       "    <tr>\n",
       "      <td style=\"font-size: 10px;\">Article 17</td>\n",
       "      <td style=\"font-size: 10px;\">0.631579</td>\n",
       "      <td style=\"font-size: 10px;\">0.375000</td>\n",
       "      <td style=\"font-size: 10px;\">0.470588</td>\n",
       "      <td style=\"font-size: 10px;\">0.375000</td>\n",
       "      <td style=\"font-size: 10px;\">0.221053</td>\n",
       "      <td style=\"font-size: 10px;\">0.278146</td>\n",
       "      <td style=\"font-size: 10px;\">0.438596</td>\n",
       "      <td style=\"font-size: 10px;\">0.260417</td>\n",
       "      <td style=\"font-size: 10px;\">0.326797</td>\n",
       "    </tr>\n",
       "    <tr>\n",
       "      <td style=\"font-size: 10px;\">Article 18</td>\n",
       "      <td style=\"font-size: 10px;\">0.500000</td>\n",
       "      <td style=\"font-size: 10px;\">0.426966</td>\n",
       "      <td style=\"font-size: 10px;\">0.460606</td>\n",
       "      <td style=\"font-size: 10px;\">0.213333</td>\n",
       "      <td style=\"font-size: 10px;\">0.181818</td>\n",
       "      <td style=\"font-size: 10px;\">0.196319</td>\n",
       "      <td style=\"font-size: 10px;\">0.315789</td>\n",
       "      <td style=\"font-size: 10px;\">0.269663</td>\n",
       "      <td style=\"font-size: 10px;\">0.290909</td>\n",
       "    </tr>\n",
       "    <tr>\n",
       "      <td style=\"font-size: 10px;\">Article 19</td>\n",
       "      <td style=\"font-size: 10px;\">0.500000</td>\n",
       "      <td style=\"font-size: 10px;\">0.408602</td>\n",
       "      <td style=\"font-size: 10px;\">0.449704</td>\n",
       "      <td style=\"font-size: 10px;\">0.200000</td>\n",
       "      <td style=\"font-size: 10px;\">0.163043</td>\n",
       "      <td style=\"font-size: 10px;\">0.179641</td>\n",
       "      <td style=\"font-size: 10px;\">0.342105</td>\n",
       "      <td style=\"font-size: 10px;\">0.279570</td>\n",
       "      <td style=\"font-size: 10px;\">0.307692</td>\n",
       "    </tr>\n",
       "    <tr>\n",
       "      <td style=\"font-size: 10px;\">Article 20</td>\n",
       "      <td style=\"font-size: 10px;\">0.479452</td>\n",
       "      <td style=\"font-size: 10px;\">0.432099</td>\n",
       "      <td style=\"font-size: 10px;\">0.454545</td>\n",
       "      <td style=\"font-size: 10px;\">0.152778</td>\n",
       "      <td style=\"font-size: 10px;\">0.137500</td>\n",
       "      <td style=\"font-size: 10px;\">0.144737</td>\n",
       "      <td style=\"font-size: 10px;\">0.246575</td>\n",
       "      <td style=\"font-size: 10px;\">0.222222</td>\n",
       "      <td style=\"font-size: 10px;\">0.233766</td>\n",
       "    </tr>\n",
       "    <tr>\n",
       "      <td style=\"font-size: 10px;\">Article 21</td>\n",
       "      <td style=\"font-size: 10px;\">0.522388</td>\n",
       "      <td style=\"font-size: 10px;\">0.321101</td>\n",
       "      <td style=\"font-size: 10px;\">0.397727</td>\n",
       "      <td style=\"font-size: 10px;\">0.136364</td>\n",
       "      <td style=\"font-size: 10px;\">0.083333</td>\n",
       "      <td style=\"font-size: 10px;\">0.103448</td>\n",
       "      <td style=\"font-size: 10px;\">0.268657</td>\n",
       "      <td style=\"font-size: 10px;\">0.165138</td>\n",
       "      <td style=\"font-size: 10px;\">0.204545</td>\n",
       "    </tr>\n",
       "    <tr>\n",
       "      <td style=\"font-size: 10px;\">Article 22</td>\n",
       "      <td style=\"font-size: 10px;\">0.442105</td>\n",
       "      <td style=\"font-size: 10px;\">0.446809</td>\n",
       "      <td style=\"font-size: 10px;\">0.444444</td>\n",
       "      <td style=\"font-size: 10px;\">0.180851</td>\n",
       "      <td style=\"font-size: 10px;\">0.182796</td>\n",
       "      <td style=\"font-size: 10px;\">0.181818</td>\n",
       "      <td style=\"font-size: 10px;\">0.315789</td>\n",
       "      <td style=\"font-size: 10px;\">0.319149</td>\n",
       "      <td style=\"font-size: 10px;\">0.317460</td>\n",
       "    </tr>\n",
       "    <tr>\n",
       "      <td style=\"font-size: 10px;\">Article 23</td>\n",
       "      <td style=\"font-size: 10px;\">0.352941</td>\n",
       "      <td style=\"font-size: 10px;\">0.391304</td>\n",
       "      <td style=\"font-size: 10px;\">0.371134</td>\n",
       "      <td style=\"font-size: 10px;\">0.039604</td>\n",
       "      <td style=\"font-size: 10px;\">0.043956</td>\n",
       "      <td style=\"font-size: 10px;\">0.041667</td>\n",
       "      <td style=\"font-size: 10px;\">0.166667</td>\n",
       "      <td style=\"font-size: 10px;\">0.184783</td>\n",
       "      <td style=\"font-size: 10px;\">0.175258</td>\n",
       "    </tr>\n",
       "    <tr>\n",
       "      <td style=\"font-size: 10px;\">Article 24</td>\n",
       "      <td style=\"font-size: 10px;\">0.485437</td>\n",
       "      <td style=\"font-size: 10px;\">0.438596</td>\n",
       "      <td style=\"font-size: 10px;\">0.460829</td>\n",
       "      <td style=\"font-size: 10px;\">0.147059</td>\n",
       "      <td style=\"font-size: 10px;\">0.132743</td>\n",
       "      <td style=\"font-size: 10px;\">0.139535</td>\n",
       "      <td style=\"font-size: 10px;\">0.271845</td>\n",
       "      <td style=\"font-size: 10px;\">0.245614</td>\n",
       "      <td style=\"font-size: 10px;\">0.258065</td>\n",
       "    </tr>\n",
       "    <tr>\n",
       "      <td style=\"font-size: 10px;\">Article 25</td>\n",
       "      <td style=\"font-size: 10px;\">0.323529</td>\n",
       "      <td style=\"font-size: 10px;\">0.351064</td>\n",
       "      <td style=\"font-size: 10px;\">0.336735</td>\n",
       "      <td style=\"font-size: 10px;\">0.069307</td>\n",
       "      <td style=\"font-size: 10px;\">0.075269</td>\n",
       "      <td style=\"font-size: 10px;\">0.072165</td>\n",
       "      <td style=\"font-size: 10px;\">0.186275</td>\n",
       "      <td style=\"font-size: 10px;\">0.202128</td>\n",
       "      <td style=\"font-size: 10px;\">0.193878</td>\n",
       "    </tr>\n",
       "    <tr>\n",
       "      <td style=\"font-size: 10px;\">Article 26</td>\n",
       "      <td style=\"font-size: 10px;\">0.322917</td>\n",
       "      <td style=\"font-size: 10px;\">0.313131</td>\n",
       "      <td style=\"font-size: 10px;\">0.317949</td>\n",
       "      <td style=\"font-size: 10px;\">0.073684</td>\n",
       "      <td style=\"font-size: 10px;\">0.071429</td>\n",
       "      <td style=\"font-size: 10px;\">0.072539</td>\n",
       "      <td style=\"font-size: 10px;\">0.135417</td>\n",
       "      <td style=\"font-size: 10px;\">0.131313</td>\n",
       "      <td style=\"font-size: 10px;\">0.133333</td>\n",
       "    </tr>\n",
       "    <tr>\n",
       "      <td style=\"font-size: 10px;\">Article 27</td>\n",
       "      <td style=\"font-size: 10px;\">0.285714</td>\n",
       "      <td style=\"font-size: 10px;\">0.283019</td>\n",
       "      <td style=\"font-size: 10px;\">0.284360</td>\n",
       "      <td style=\"font-size: 10px;\">0.076923</td>\n",
       "      <td style=\"font-size: 10px;\">0.076190</td>\n",
       "      <td style=\"font-size: 10px;\">0.076555</td>\n",
       "      <td style=\"font-size: 10px;\">0.161905</td>\n",
       "      <td style=\"font-size: 10px;\">0.160377</td>\n",
       "      <td style=\"font-size: 10px;\">0.161137</td>\n",
       "    </tr>\n",
       "    <tr>\n",
       "      <td style=\"font-size: 10px;\">Article 28</td>\n",
       "      <td style=\"font-size: 10px;\">0.576923</td>\n",
       "      <td style=\"font-size: 10px;\">0.285714</td>\n",
       "      <td style=\"font-size: 10px;\">0.382166</td>\n",
       "      <td style=\"font-size: 10px;\">0.196078</td>\n",
       "      <td style=\"font-size: 10px;\">0.096154</td>\n",
       "      <td style=\"font-size: 10px;\">0.129032</td>\n",
       "      <td style=\"font-size: 10px;\">0.346154</td>\n",
       "      <td style=\"font-size: 10px;\">0.171429</td>\n",
       "      <td style=\"font-size: 10px;\">0.229299</td>\n",
       "    </tr>\n",
       "    <tr>\n",
       "      <td style=\"font-size: 10px;\">Article 29</td>\n",
       "      <td style=\"font-size: 10px;\">0.420290</td>\n",
       "      <td style=\"font-size: 10px;\">0.311828</td>\n",
       "      <td style=\"font-size: 10px;\">0.358025</td>\n",
       "      <td style=\"font-size: 10px;\">0.102941</td>\n",
       "      <td style=\"font-size: 10px;\">0.076087</td>\n",
       "      <td style=\"font-size: 10px;\">0.087500</td>\n",
       "      <td style=\"font-size: 10px;\">0.217391</td>\n",
       "      <td style=\"font-size: 10px;\">0.161290</td>\n",
       "      <td style=\"font-size: 10px;\">0.185185</td>\n",
       "    </tr>\n",
       "    <tr>\n",
       "      <td style=\"font-size: 10px;\">Article 30</td>\n",
       "      <td style=\"font-size: 10px;\">0.540984</td>\n",
       "      <td style=\"font-size: 10px;\">0.362637</td>\n",
       "      <td style=\"font-size: 10px;\">0.434211</td>\n",
       "      <td style=\"font-size: 10px;\">0.250000</td>\n",
       "      <td style=\"font-size: 10px;\">0.166667</td>\n",
       "      <td style=\"font-size: 10px;\">0.200000</td>\n",
       "      <td style=\"font-size: 10px;\">0.360656</td>\n",
       "      <td style=\"font-size: 10px;\">0.241758</td>\n",
       "      <td style=\"font-size: 10px;\">0.289474</td>\n",
       "    </tr>\n",
       "    <tr>\n",
       "      <td style=\"font-size: 10px;\">Average</td>\n",
       "      <td style=\"font-size: 10px;\">0.441724</td>\n",
       "      <td style=\"font-size: 10px;\">0.378863</td>\n",
       "      <td style=\"font-size: 10px;\">0.403427</td>\n",
       "      <td style=\"font-size: 10px;\">0.147540</td>\n",
       "      <td style=\"font-size: 10px;\">0.121799</td>\n",
       "      <td style=\"font-size: 10px;\">0.131881</td>\n",
       "      <td style=\"font-size: 10px;\">0.248392</td>\n",
       "      <td style=\"font-size: 10px;\">0.210484</td>\n",
       "      <td style=\"font-size: 10px;\">0.225330</td>\n",
       "    </tr>\n",
       "  </tbody>\n",
       "</table>"
      ],
      "text/plain": [
       "<IPython.core.display.HTML object>"
      ]
     },
     "execution_count": 444,
     "metadata": {},
     "output_type": "execute_result"
    }
   ],
   "source": [
    "# Convert DataFrame to HTML with smaller font size\n",
    "html_table_l = df_l.to_html(index=False, classes='table table-striped table-bordered', col_space=100, justify='center')\n",
    "\n",
    "# Apply CSS to the HTML table to set font size\n",
    "html_table_l = html_table_l.replace('<th>', '<th style=\"font-size: 10px;\">')\n",
    "html_table_l = html_table_l.replace('<td>', '<td style=\"font-size: 10px;\">')\n",
    "\n",
    "# Display the HTML table\n",
    "HTML(html_table_l)"
   ]
  },
  {
   "cell_type": "markdown",
   "id": "09e27e16",
   "metadata": {},
   "source": [
    "Pegasus CNN Daily Mail"
   ]
  },
  {
   "cell_type": "code",
   "execution_count": 332,
   "id": "56f6ee4d",
   "metadata": {},
   "outputs": [
    {
     "data": {
      "application/vnd.jupyter.widget-view+json": {
       "model_id": "80e26c3344c94b49b0c92d4361412969",
       "version_major": 2,
       "version_minor": 0
      },
      "text/plain": [
       "tokenizer_config.json:   0%|          | 0.00/88.0 [00:00<?, ?B/s]"
      ]
     },
     "metadata": {},
     "output_type": "display_data"
    },
    {
     "name": "stderr",
     "output_type": "stream",
     "text": [
      "C:\\Users\\ianre\\anaconda3\\Lib\\site-packages\\huggingface_hub\\file_download.py:159: UserWarning: `huggingface_hub` cache-system uses symlinks by default to efficiently store duplicated files but your machine does not support them in C:\\Users\\ianre\\.cache\\huggingface\\hub\\models--google--pegasus-cnn_dailymail. Caching files will still work but in a degraded version that might require more space on your disk. This warning can be disabled by setting the `HF_HUB_DISABLE_SYMLINKS_WARNING` environment variable. For more details, see https://huggingface.co/docs/huggingface_hub/how-to-cache#limitations.\n",
      "To support symlinks on Windows, you either need to activate Developer Mode or to run Python as an administrator. In order to see activate developer mode, see this article: https://docs.microsoft.com/en-us/windows/apps/get-started/enable-your-device-for-development\n",
      "  warnings.warn(message)\n"
     ]
    },
    {
     "data": {
      "application/vnd.jupyter.widget-view+json": {
       "model_id": "7a53fcef88594214a9794c4ea01049c3",
       "version_major": 2,
       "version_minor": 0
      },
      "text/plain": [
       "spiece.model:   0%|          | 0.00/1.91M [00:00<?, ?B/s]"
      ]
     },
     "metadata": {},
     "output_type": "display_data"
    },
    {
     "data": {
      "application/vnd.jupyter.widget-view+json": {
       "model_id": "038dd9bb978a4c16aabf2573a111fc09",
       "version_major": 2,
       "version_minor": 0
      },
      "text/plain": [
       "special_tokens_map.json:   0%|          | 0.00/65.0 [00:00<?, ?B/s]"
      ]
     },
     "metadata": {},
     "output_type": "display_data"
    },
    {
     "data": {
      "application/vnd.jupyter.widget-view+json": {
       "model_id": "ce9c1d10c8704934bee007ca76b7b62a",
       "version_major": 2,
       "version_minor": 0
      },
      "text/plain": [
       "config.json:   0%|          | 0.00/1.12k [00:00<?, ?B/s]"
      ]
     },
     "metadata": {},
     "output_type": "display_data"
    },
    {
     "data": {
      "application/vnd.jupyter.widget-view+json": {
       "model_id": "8f53a309676c4383a1d510af0451aa7f",
       "version_major": 2,
       "version_minor": 0
      },
      "text/plain": [
       "pytorch_model.bin:   0%|          | 0.00/2.28G [00:00<?, ?B/s]"
      ]
     },
     "metadata": {},
     "output_type": "display_data"
    },
    {
     "name": "stderr",
     "output_type": "stream",
     "text": [
      "Some weights of PegasusForConditionalGeneration were not initialized from the model checkpoint at google/pegasus-cnn_dailymail and are newly initialized: ['model.decoder.embed_positions.weight', 'model.encoder.embed_positions.weight']\n",
      "You should probably TRAIN this model on a down-stream task to be able to use it for predictions and inference.\n"
     ]
    },
    {
     "data": {
      "application/vnd.jupyter.widget-view+json": {
       "model_id": "c722d05713cb4a0190cb6c62901306f6",
       "version_major": 2,
       "version_minor": 0
      },
      "text/plain": [
       "generation_config.json:   0%|          | 0.00/280 [00:00<?, ?B/s]"
      ]
     },
     "metadata": {},
     "output_type": "display_data"
    }
   ],
   "source": [
    "from transformers import PegasusTokenizer, PegasusForConditionalGeneration\n",
    "\n",
    "# Load pre-trained Pegasus-CNN/DailyMail model and tokenizer\n",
    "model_name_c = \"google/pegasus-cnn_dailymail\"\n",
    "tokenizer_c = PegasusTokenizer.from_pretrained(model_name_c)\n",
    "model_c = PegasusForConditionalGeneration.from_pretrained(model_name_c)"
   ]
  },
  {
   "cell_type": "code",
   "execution_count": 487,
   "id": "bef59a52",
   "metadata": {},
   "outputs": [],
   "source": [
    "summaries_cnn=[]\n",
    "for i in range(len(articles)):\n",
    "    inputs = tokenizer_c(articles.iloc[i,1], return_tensors=\"pt\", max_length=512, truncation=True)\n",
    "    summary_ids = model_c.generate(inputs[\"input_ids\"], max_length=150, min_length=70, length_penalty=3.0, num_beams=4)\n",
    "    summary = tokenizer_c.decode(summary_ids[0], skip_special_tokens=True)\n",
    "    summaries_cnn.append(summary)"
   ]
  },
  {
   "cell_type": "code",
   "execution_count": 488,
   "id": "d34b9572",
   "metadata": {},
   "outputs": [
    {
     "name": "stdout",
     "output_type": "stream",
     "text": [
      "People with an Alzheimer's-affected mother may therefore be at special risk, researchers say.<n>Maternal inheritance of Alzheimer's disease may be an important factor in identifying asymptomatic individuals for ongoing and future prevention trials.<n>The study was based on data from a clinical trial focused on Alzheimer's prevention.<n>The sex of the study participant did not seem to matter when it came to the relationship between amyloid buildup and parental histories.\n"
     ]
    }
   ],
   "source": [
    "print(summaries_cnn[8])"
   ]
  },
  {
   "cell_type": "code",
   "execution_count": 489,
   "id": "4c3cd77a",
   "metadata": {},
   "outputs": [
    {
     "name": "stdout",
     "output_type": "stream",
     "text": [
      "ROUGE-1: Score(precision=0.5079365079365079, recall=0.3404255319148936, fmeasure=0.4076433121019108)\n",
      "ROUGE-2: Score(precision=0.11290322580645161, recall=0.07526881720430108, fmeasure=0.0903225806451613)\n",
      "ROUGE-L: Score(precision=0.25396825396825395, recall=0.1702127659574468, fmeasure=0.2038216560509554)\n"
     ]
    }
   ],
   "source": [
    "r1c, r2c, rlc = rougescore(ground_truth, summaries_cnn)\n",
    "# Print the ROUGE scores\n",
    "print(\"ROUGE-1:\", r1c[1])\n",
    "print(\"ROUGE-2:\", r2c[1])\n",
    "print(\"ROUGE-L:\", rlc[1])"
   ]
  },
  {
   "cell_type": "code",
   "execution_count": 490,
   "id": "7f3fce09",
   "metadata": {},
   "outputs": [
    {
     "name": "stdout",
     "output_type": "stream",
     "text": [
      "0.4773919678722853\n"
     ]
    }
   ],
   "source": [
    "rouge1_precision_c = [r1c[i].precision for i in range(30)]\n",
    "average_precision = np.mean(rouge1_precision_c)\n",
    "rouge1_precision_c.append(average_precision)\n",
    "print(average_precision)"
   ]
  },
  {
   "cell_type": "code",
   "execution_count": 491,
   "id": "56998f11",
   "metadata": {},
   "outputs": [
    {
     "name": "stdout",
     "output_type": "stream",
     "text": [
      "0.3730251853198646\n"
     ]
    }
   ],
   "source": [
    "rouge1_recall_c = [r1c[i].recall for i in range(30)]\n",
    "average_recall = np.mean(rouge1_recall_c)\n",
    "rouge1_recall_c.append(average_recall)\n",
    "print(average_recall)"
   ]
  },
  {
   "cell_type": "code",
   "execution_count": 492,
   "id": "9b1a8e17",
   "metadata": {},
   "outputs": [
    {
     "name": "stdout",
     "output_type": "stream",
     "text": [
      "0.4141218549548041\n"
     ]
    }
   ],
   "source": [
    "#F1 score\n",
    "rouge1_f1_c = [r1c[i].fmeasure for i in range(30)]\n",
    "average_f1 = np.mean(rouge1_f1_c)\n",
    "rouge1_f1_c.append(average_f1)\n",
    "print(average_f1)"
   ]
  },
  {
   "cell_type": "code",
   "execution_count": 493,
   "id": "e9824da4",
   "metadata": {},
   "outputs": [
    {
     "name": "stdout",
     "output_type": "stream",
     "text": [
      "0.16433011845240741\n"
     ]
    }
   ],
   "source": [
    "rouge2_precision_c = [r2c[i].precision for i in range(30)]\n",
    "average_precision = np.mean(rouge2_precision_c)\n",
    "rouge2_precision_c.append(average_precision)\n",
    "print(average_precision)"
   ]
  },
  {
   "cell_type": "code",
   "execution_count": 494,
   "id": "55918d50",
   "metadata": {},
   "outputs": [
    {
     "name": "stdout",
     "output_type": "stream",
     "text": [
      "0.129503039178836\n"
     ]
    }
   ],
   "source": [
    "rouge2_recall_c = [r2c[i].recall for i in range(30)]\n",
    "average_recall = np.mean(rouge2_recall_c)\n",
    "rouge2_recall_c.append(average_recall)\n",
    "print(average_recall)"
   ]
  },
  {
   "cell_type": "code",
   "execution_count": 495,
   "id": "3981423e",
   "metadata": {},
   "outputs": [
    {
     "name": "stdout",
     "output_type": "stream",
     "text": [
      "0.14290863982387017\n"
     ]
    }
   ],
   "source": [
    "#F1 score\n",
    "rouge2_f1_c = [r2c[i].fmeasure for i in range(30)]\n",
    "average_f1 = np.mean(rouge2_f1_c)\n",
    "rouge2_f1_c.append(average_f1)\n",
    "print(average_f1)"
   ]
  },
  {
   "cell_type": "code",
   "execution_count": 496,
   "id": "ac82598a",
   "metadata": {},
   "outputs": [
    {
     "name": "stdout",
     "output_type": "stream",
     "text": [
      "0.2834844069249305\n"
     ]
    }
   ],
   "source": [
    "rougel_precision_c = [rlc[i].precision for i in range(30)]\n",
    "average_precision = np.mean(rougel_precision_c)\n",
    "rougel_precision_c.append(average_precision)\n",
    "print(average_precision)"
   ]
  },
  {
   "cell_type": "code",
   "execution_count": 497,
   "id": "f3a3f85f",
   "metadata": {},
   "outputs": [
    {
     "name": "stdout",
     "output_type": "stream",
     "text": [
      "0.22309888063827898\n"
     ]
    }
   ],
   "source": [
    "rougel_recall_c = [rlc[i].recall for i in range(30)]\n",
    "average_recall = np.mean(rougel_recall_c)\n",
    "rougel_recall_c.append(average_recall)\n",
    "print(average_recall)"
   ]
  },
  {
   "cell_type": "code",
   "execution_count": 498,
   "id": "72e28900",
   "metadata": {},
   "outputs": [
    {
     "name": "stdout",
     "output_type": "stream",
     "text": [
      "0.24686534861642906\n"
     ]
    }
   ],
   "source": [
    "#F1 score\n",
    "rougel_f1_c = [rlc[i].fmeasure for i in range(30)]\n",
    "average_f1 = np.mean(rougel_f1_c)\n",
    "rougel_f1_c.append(average_f1)\n",
    "print(average_f1)"
   ]
  },
  {
   "cell_type": "code",
   "execution_count": 363,
   "id": "733b2d86",
   "metadata": {},
   "outputs": [],
   "source": [
    "#Create table with results from Pegasus Large transformer\n",
    "table_c = {\n",
    "    \"Model\": [\"Article 1\", \"Article 2\", \"Article 3\", \"Article 4\", \"Article 5\",\n",
    "              \"Article 6\", \"Article 7\", \"Article 8\", \"Article 9\", \"Article 10\",\n",
    "              \"Article 11\", \"Article 12\", \"Article 13\", \"Article 14\", \"Article 15\",\n",
    "             \"Article 16\", \"Article 17\", \"Article 18\", \"Article 19\", \"Article 20\",\n",
    "              \"Article 21\", \"Article 22\", \"Article 23\", \"Article 24\", \"Article 25\",\n",
    "              \"Article 26\", \"Article 27\", \"Article 28\", \"Article 29\", \"Article 30\",\"Average\"],\n",
    "    \"Rouge1 Precision\": rouge1_precision_c,\n",
    "    \"Rouge1 Recall\": rouge1_recall_c,\n",
    "    \"Rouge1 F1\": rouge1_f1_c,\n",
    "    \"Rouge2 Precision\":rouge2_precision_c,\n",
    "    \"Rouge2 Recall\": rouge2_recall_c,\n",
    "    \"Rouge2 F1\": rouge2_f1_c,\n",
    "    \"RougeL Precision\": rougel_precision_c,\n",
    "    \"RougeL Recall\": rougel_recall_c,\n",
    "    \"RougeL F1\": rougel_f1_c\n",
    "}\n"
   ]
  },
  {
   "cell_type": "code",
   "execution_count": 364,
   "id": "56e613b0",
   "metadata": {},
   "outputs": [
    {
     "name": "stdout",
     "output_type": "stream",
     "text": [
      "         Model  Rouge1 Precision  Rouge1 Recall  Rouge2 Precision  \\\n",
      "0    Article 1          0.581818       0.410256          0.148148   \n",
      "1    Article 2          0.479452       0.372340          0.125000   \n",
      "2    Article 3          0.500000       0.367816          0.142857   \n",
      "3    Article 4          0.441176       0.319149          0.089552   \n",
      "4    Article 5          0.394366       0.345679          0.071429   \n",
      "5    Article 6          0.405797       0.333333          0.161765   \n",
      "6    Article 7          0.439560       0.481928          0.188889   \n",
      "7    Article 8          0.428571       0.300000          0.145161   \n",
      "8    Article 9          0.363636       0.301075          0.078947   \n",
      "9   Article 10          0.528571       0.359223          0.144928   \n",
      "10  Article 11          0.627119       0.330357          0.362069   \n",
      "11  Article 12          0.482759       0.565657          0.252174   \n",
      "12  Article 13          0.444444       0.351648          0.169014   \n",
      "13  Article 14          0.451613       0.318182          0.098361   \n",
      "14  Article 15          0.482759       0.552632          0.244186   \n",
      "15  Article 16          0.313433       0.230769          0.075758   \n",
      "16  Article 17          0.611765       0.541667          0.416667   \n",
      "17  Article 18          0.500000       0.348315          0.131148   \n",
      "18  Article 19          0.542857       0.408602          0.217391   \n",
      "19  Article 20          0.449275       0.382716          0.161765   \n",
      "20  Article 21          0.555556       0.321101          0.096774   \n",
      "21  Article 22          0.544444       0.521277          0.191011   \n",
      "22  Article 23          0.581818       0.347826          0.203704   \n",
      "23  Article 24          0.655172       0.333333          0.263158   \n",
      "24  Article 25          0.461538       0.319149          0.156250   \n",
      "25  Article 26          0.434211       0.333333          0.106667   \n",
      "26  Article 27          0.530864       0.405660          0.300000   \n",
      "27  Article 28          0.462687       0.295238          0.151515   \n",
      "28  Article 29          0.463158       0.473118          0.170213   \n",
      "29  Article 30          0.400000       0.285714          0.093750   \n",
      "30     Average          0.485281       0.375236          0.171942   \n",
      "\n",
      "    Rouge2 Recall  RougeL Precision  RougeL Recall  \n",
      "0        0.103896          0.363636       0.256410  \n",
      "1        0.096774          0.246575       0.191489  \n",
      "2        0.104651          0.312500       0.229885  \n",
      "3        0.064516          0.250000       0.180851  \n",
      "4        0.062500          0.239437       0.209877  \n",
      "5        0.132530          0.246377       0.202381  \n",
      "6        0.207317          0.263736       0.289157  \n",
      "7        0.101124          0.238095       0.166667  \n",
      "8        0.065217          0.155844       0.129032  \n",
      "9        0.098039          0.328571       0.223301  \n",
      "10       0.189189          0.372881       0.196429  \n",
      "11       0.295918          0.310345       0.363636  \n",
      "12       0.133333          0.305556       0.241758  \n",
      "13       0.068966          0.241935       0.170455  \n",
      "14       0.280000          0.367816       0.421053  \n",
      "15       0.055556          0.208955       0.153846  \n",
      "16       0.368421          0.541176       0.479167  \n",
      "17       0.090909          0.306452       0.213483  \n",
      "18       0.163043          0.400000       0.301075  \n",
      "19       0.137500          0.275362       0.234568  \n",
      "20       0.055556          0.269841       0.155963  \n",
      "21       0.182796          0.300000       0.287234  \n",
      "22       0.120879          0.363636       0.217391  \n",
      "23       0.132743          0.344828       0.175439  \n",
      "24       0.107527          0.276923       0.191489  \n",
      "25       0.081633          0.263158       0.202020  \n",
      "26       0.228571          0.358025       0.273585  \n",
      "27       0.096154          0.268657       0.171429  \n",
      "28       0.173913          0.263158       0.268817  \n",
      "29       0.066667          0.276923       0.197802  \n",
      "30       0.135528          0.298680       0.233190  \n"
     ]
    }
   ],
   "source": [
    "df_c = pd.DataFrame(table_c)\n",
    "\n",
    "# Display the DataFrame\n",
    "print(df_c)"
   ]
  },
  {
   "cell_type": "code",
   "execution_count": 365,
   "id": "255ef761",
   "metadata": {},
   "outputs": [
    {
     "data": {
      "text/html": [
       "<table border=\"1\" class=\"dataframe table table-striped table-bordered\">\n",
       "  <thead>\n",
       "    <tr style=\"text-align: center;\">\n",
       "      <th style=\"min-width: 100px;\">Model</th>\n",
       "      <th style=\"min-width: 100px;\">Rouge1 Precision</th>\n",
       "      <th style=\"min-width: 100px;\">Rouge1 Recall</th>\n",
       "      <th style=\"min-width: 100px;\">Rouge2 Precision</th>\n",
       "      <th style=\"min-width: 100px;\">Rouge2 Recall</th>\n",
       "      <th style=\"min-width: 100px;\">RougeL Precision</th>\n",
       "      <th style=\"min-width: 100px;\">RougeL Recall</th>\n",
       "    </tr>\n",
       "  </thead>\n",
       "  <tbody>\n",
       "    <tr>\n",
       "      <td style=\"font-size: 10px;\">Article 1</td>\n",
       "      <td style=\"font-size: 10px;\">0.581818</td>\n",
       "      <td style=\"font-size: 10px;\">0.410256</td>\n",
       "      <td style=\"font-size: 10px;\">0.148148</td>\n",
       "      <td style=\"font-size: 10px;\">0.103896</td>\n",
       "      <td style=\"font-size: 10px;\">0.363636</td>\n",
       "      <td style=\"font-size: 10px;\">0.256410</td>\n",
       "    </tr>\n",
       "    <tr>\n",
       "      <td style=\"font-size: 10px;\">Article 2</td>\n",
       "      <td style=\"font-size: 10px;\">0.479452</td>\n",
       "      <td style=\"font-size: 10px;\">0.372340</td>\n",
       "      <td style=\"font-size: 10px;\">0.125000</td>\n",
       "      <td style=\"font-size: 10px;\">0.096774</td>\n",
       "      <td style=\"font-size: 10px;\">0.246575</td>\n",
       "      <td style=\"font-size: 10px;\">0.191489</td>\n",
       "    </tr>\n",
       "    <tr>\n",
       "      <td style=\"font-size: 10px;\">Article 3</td>\n",
       "      <td style=\"font-size: 10px;\">0.500000</td>\n",
       "      <td style=\"font-size: 10px;\">0.367816</td>\n",
       "      <td style=\"font-size: 10px;\">0.142857</td>\n",
       "      <td style=\"font-size: 10px;\">0.104651</td>\n",
       "      <td style=\"font-size: 10px;\">0.312500</td>\n",
       "      <td style=\"font-size: 10px;\">0.229885</td>\n",
       "    </tr>\n",
       "    <tr>\n",
       "      <td style=\"font-size: 10px;\">Article 4</td>\n",
       "      <td style=\"font-size: 10px;\">0.441176</td>\n",
       "      <td style=\"font-size: 10px;\">0.319149</td>\n",
       "      <td style=\"font-size: 10px;\">0.089552</td>\n",
       "      <td style=\"font-size: 10px;\">0.064516</td>\n",
       "      <td style=\"font-size: 10px;\">0.250000</td>\n",
       "      <td style=\"font-size: 10px;\">0.180851</td>\n",
       "    </tr>\n",
       "    <tr>\n",
       "      <td style=\"font-size: 10px;\">Article 5</td>\n",
       "      <td style=\"font-size: 10px;\">0.394366</td>\n",
       "      <td style=\"font-size: 10px;\">0.345679</td>\n",
       "      <td style=\"font-size: 10px;\">0.071429</td>\n",
       "      <td style=\"font-size: 10px;\">0.062500</td>\n",
       "      <td style=\"font-size: 10px;\">0.239437</td>\n",
       "      <td style=\"font-size: 10px;\">0.209877</td>\n",
       "    </tr>\n",
       "    <tr>\n",
       "      <td style=\"font-size: 10px;\">Article 6</td>\n",
       "      <td style=\"font-size: 10px;\">0.405797</td>\n",
       "      <td style=\"font-size: 10px;\">0.333333</td>\n",
       "      <td style=\"font-size: 10px;\">0.161765</td>\n",
       "      <td style=\"font-size: 10px;\">0.132530</td>\n",
       "      <td style=\"font-size: 10px;\">0.246377</td>\n",
       "      <td style=\"font-size: 10px;\">0.202381</td>\n",
       "    </tr>\n",
       "    <tr>\n",
       "      <td style=\"font-size: 10px;\">Article 7</td>\n",
       "      <td style=\"font-size: 10px;\">0.439560</td>\n",
       "      <td style=\"font-size: 10px;\">0.481928</td>\n",
       "      <td style=\"font-size: 10px;\">0.188889</td>\n",
       "      <td style=\"font-size: 10px;\">0.207317</td>\n",
       "      <td style=\"font-size: 10px;\">0.263736</td>\n",
       "      <td style=\"font-size: 10px;\">0.289157</td>\n",
       "    </tr>\n",
       "    <tr>\n",
       "      <td style=\"font-size: 10px;\">Article 8</td>\n",
       "      <td style=\"font-size: 10px;\">0.428571</td>\n",
       "      <td style=\"font-size: 10px;\">0.300000</td>\n",
       "      <td style=\"font-size: 10px;\">0.145161</td>\n",
       "      <td style=\"font-size: 10px;\">0.101124</td>\n",
       "      <td style=\"font-size: 10px;\">0.238095</td>\n",
       "      <td style=\"font-size: 10px;\">0.166667</td>\n",
       "    </tr>\n",
       "    <tr>\n",
       "      <td style=\"font-size: 10px;\">Article 9</td>\n",
       "      <td style=\"font-size: 10px;\">0.363636</td>\n",
       "      <td style=\"font-size: 10px;\">0.301075</td>\n",
       "      <td style=\"font-size: 10px;\">0.078947</td>\n",
       "      <td style=\"font-size: 10px;\">0.065217</td>\n",
       "      <td style=\"font-size: 10px;\">0.155844</td>\n",
       "      <td style=\"font-size: 10px;\">0.129032</td>\n",
       "    </tr>\n",
       "    <tr>\n",
       "      <td style=\"font-size: 10px;\">Article 10</td>\n",
       "      <td style=\"font-size: 10px;\">0.528571</td>\n",
       "      <td style=\"font-size: 10px;\">0.359223</td>\n",
       "      <td style=\"font-size: 10px;\">0.144928</td>\n",
       "      <td style=\"font-size: 10px;\">0.098039</td>\n",
       "      <td style=\"font-size: 10px;\">0.328571</td>\n",
       "      <td style=\"font-size: 10px;\">0.223301</td>\n",
       "    </tr>\n",
       "    <tr>\n",
       "      <td style=\"font-size: 10px;\">Article 11</td>\n",
       "      <td style=\"font-size: 10px;\">0.627119</td>\n",
       "      <td style=\"font-size: 10px;\">0.330357</td>\n",
       "      <td style=\"font-size: 10px;\">0.362069</td>\n",
       "      <td style=\"font-size: 10px;\">0.189189</td>\n",
       "      <td style=\"font-size: 10px;\">0.372881</td>\n",
       "      <td style=\"font-size: 10px;\">0.196429</td>\n",
       "    </tr>\n",
       "    <tr>\n",
       "      <td style=\"font-size: 10px;\">Article 12</td>\n",
       "      <td style=\"font-size: 10px;\">0.482759</td>\n",
       "      <td style=\"font-size: 10px;\">0.565657</td>\n",
       "      <td style=\"font-size: 10px;\">0.252174</td>\n",
       "      <td style=\"font-size: 10px;\">0.295918</td>\n",
       "      <td style=\"font-size: 10px;\">0.310345</td>\n",
       "      <td style=\"font-size: 10px;\">0.363636</td>\n",
       "    </tr>\n",
       "    <tr>\n",
       "      <td style=\"font-size: 10px;\">Article 13</td>\n",
       "      <td style=\"font-size: 10px;\">0.444444</td>\n",
       "      <td style=\"font-size: 10px;\">0.351648</td>\n",
       "      <td style=\"font-size: 10px;\">0.169014</td>\n",
       "      <td style=\"font-size: 10px;\">0.133333</td>\n",
       "      <td style=\"font-size: 10px;\">0.305556</td>\n",
       "      <td style=\"font-size: 10px;\">0.241758</td>\n",
       "    </tr>\n",
       "    <tr>\n",
       "      <td style=\"font-size: 10px;\">Article 14</td>\n",
       "      <td style=\"font-size: 10px;\">0.451613</td>\n",
       "      <td style=\"font-size: 10px;\">0.318182</td>\n",
       "      <td style=\"font-size: 10px;\">0.098361</td>\n",
       "      <td style=\"font-size: 10px;\">0.068966</td>\n",
       "      <td style=\"font-size: 10px;\">0.241935</td>\n",
       "      <td style=\"font-size: 10px;\">0.170455</td>\n",
       "    </tr>\n",
       "    <tr>\n",
       "      <td style=\"font-size: 10px;\">Article 15</td>\n",
       "      <td style=\"font-size: 10px;\">0.482759</td>\n",
       "      <td style=\"font-size: 10px;\">0.552632</td>\n",
       "      <td style=\"font-size: 10px;\">0.244186</td>\n",
       "      <td style=\"font-size: 10px;\">0.280000</td>\n",
       "      <td style=\"font-size: 10px;\">0.367816</td>\n",
       "      <td style=\"font-size: 10px;\">0.421053</td>\n",
       "    </tr>\n",
       "    <tr>\n",
       "      <td style=\"font-size: 10px;\">Article 16</td>\n",
       "      <td style=\"font-size: 10px;\">0.313433</td>\n",
       "      <td style=\"font-size: 10px;\">0.230769</td>\n",
       "      <td style=\"font-size: 10px;\">0.075758</td>\n",
       "      <td style=\"font-size: 10px;\">0.055556</td>\n",
       "      <td style=\"font-size: 10px;\">0.208955</td>\n",
       "      <td style=\"font-size: 10px;\">0.153846</td>\n",
       "    </tr>\n",
       "    <tr>\n",
       "      <td style=\"font-size: 10px;\">Article 17</td>\n",
       "      <td style=\"font-size: 10px;\">0.611765</td>\n",
       "      <td style=\"font-size: 10px;\">0.541667</td>\n",
       "      <td style=\"font-size: 10px;\">0.416667</td>\n",
       "      <td style=\"font-size: 10px;\">0.368421</td>\n",
       "      <td style=\"font-size: 10px;\">0.541176</td>\n",
       "      <td style=\"font-size: 10px;\">0.479167</td>\n",
       "    </tr>\n",
       "    <tr>\n",
       "      <td style=\"font-size: 10px;\">Article 18</td>\n",
       "      <td style=\"font-size: 10px;\">0.500000</td>\n",
       "      <td style=\"font-size: 10px;\">0.348315</td>\n",
       "      <td style=\"font-size: 10px;\">0.131148</td>\n",
       "      <td style=\"font-size: 10px;\">0.090909</td>\n",
       "      <td style=\"font-size: 10px;\">0.306452</td>\n",
       "      <td style=\"font-size: 10px;\">0.213483</td>\n",
       "    </tr>\n",
       "    <tr>\n",
       "      <td style=\"font-size: 10px;\">Article 19</td>\n",
       "      <td style=\"font-size: 10px;\">0.542857</td>\n",
       "      <td style=\"font-size: 10px;\">0.408602</td>\n",
       "      <td style=\"font-size: 10px;\">0.217391</td>\n",
       "      <td style=\"font-size: 10px;\">0.163043</td>\n",
       "      <td style=\"font-size: 10px;\">0.400000</td>\n",
       "      <td style=\"font-size: 10px;\">0.301075</td>\n",
       "    </tr>\n",
       "    <tr>\n",
       "      <td style=\"font-size: 10px;\">Article 20</td>\n",
       "      <td style=\"font-size: 10px;\">0.449275</td>\n",
       "      <td style=\"font-size: 10px;\">0.382716</td>\n",
       "      <td style=\"font-size: 10px;\">0.161765</td>\n",
       "      <td style=\"font-size: 10px;\">0.137500</td>\n",
       "      <td style=\"font-size: 10px;\">0.275362</td>\n",
       "      <td style=\"font-size: 10px;\">0.234568</td>\n",
       "    </tr>\n",
       "    <tr>\n",
       "      <td style=\"font-size: 10px;\">Article 21</td>\n",
       "      <td style=\"font-size: 10px;\">0.555556</td>\n",
       "      <td style=\"font-size: 10px;\">0.321101</td>\n",
       "      <td style=\"font-size: 10px;\">0.096774</td>\n",
       "      <td style=\"font-size: 10px;\">0.055556</td>\n",
       "      <td style=\"font-size: 10px;\">0.269841</td>\n",
       "      <td style=\"font-size: 10px;\">0.155963</td>\n",
       "    </tr>\n",
       "    <tr>\n",
       "      <td style=\"font-size: 10px;\">Article 22</td>\n",
       "      <td style=\"font-size: 10px;\">0.544444</td>\n",
       "      <td style=\"font-size: 10px;\">0.521277</td>\n",
       "      <td style=\"font-size: 10px;\">0.191011</td>\n",
       "      <td style=\"font-size: 10px;\">0.182796</td>\n",
       "      <td style=\"font-size: 10px;\">0.300000</td>\n",
       "      <td style=\"font-size: 10px;\">0.287234</td>\n",
       "    </tr>\n",
       "    <tr>\n",
       "      <td style=\"font-size: 10px;\">Article 23</td>\n",
       "      <td style=\"font-size: 10px;\">0.581818</td>\n",
       "      <td style=\"font-size: 10px;\">0.347826</td>\n",
       "      <td style=\"font-size: 10px;\">0.203704</td>\n",
       "      <td style=\"font-size: 10px;\">0.120879</td>\n",
       "      <td style=\"font-size: 10px;\">0.363636</td>\n",
       "      <td style=\"font-size: 10px;\">0.217391</td>\n",
       "    </tr>\n",
       "    <tr>\n",
       "      <td style=\"font-size: 10px;\">Article 24</td>\n",
       "      <td style=\"font-size: 10px;\">0.655172</td>\n",
       "      <td style=\"font-size: 10px;\">0.333333</td>\n",
       "      <td style=\"font-size: 10px;\">0.263158</td>\n",
       "      <td style=\"font-size: 10px;\">0.132743</td>\n",
       "      <td style=\"font-size: 10px;\">0.344828</td>\n",
       "      <td style=\"font-size: 10px;\">0.175439</td>\n",
       "    </tr>\n",
       "    <tr>\n",
       "      <td style=\"font-size: 10px;\">Article 25</td>\n",
       "      <td style=\"font-size: 10px;\">0.461538</td>\n",
       "      <td style=\"font-size: 10px;\">0.319149</td>\n",
       "      <td style=\"font-size: 10px;\">0.156250</td>\n",
       "      <td style=\"font-size: 10px;\">0.107527</td>\n",
       "      <td style=\"font-size: 10px;\">0.276923</td>\n",
       "      <td style=\"font-size: 10px;\">0.191489</td>\n",
       "    </tr>\n",
       "    <tr>\n",
       "      <td style=\"font-size: 10px;\">Article 26</td>\n",
       "      <td style=\"font-size: 10px;\">0.434211</td>\n",
       "      <td style=\"font-size: 10px;\">0.333333</td>\n",
       "      <td style=\"font-size: 10px;\">0.106667</td>\n",
       "      <td style=\"font-size: 10px;\">0.081633</td>\n",
       "      <td style=\"font-size: 10px;\">0.263158</td>\n",
       "      <td style=\"font-size: 10px;\">0.202020</td>\n",
       "    </tr>\n",
       "    <tr>\n",
       "      <td style=\"font-size: 10px;\">Article 27</td>\n",
       "      <td style=\"font-size: 10px;\">0.530864</td>\n",
       "      <td style=\"font-size: 10px;\">0.405660</td>\n",
       "      <td style=\"font-size: 10px;\">0.300000</td>\n",
       "      <td style=\"font-size: 10px;\">0.228571</td>\n",
       "      <td style=\"font-size: 10px;\">0.358025</td>\n",
       "      <td style=\"font-size: 10px;\">0.273585</td>\n",
       "    </tr>\n",
       "    <tr>\n",
       "      <td style=\"font-size: 10px;\">Article 28</td>\n",
       "      <td style=\"font-size: 10px;\">0.462687</td>\n",
       "      <td style=\"font-size: 10px;\">0.295238</td>\n",
       "      <td style=\"font-size: 10px;\">0.151515</td>\n",
       "      <td style=\"font-size: 10px;\">0.096154</td>\n",
       "      <td style=\"font-size: 10px;\">0.268657</td>\n",
       "      <td style=\"font-size: 10px;\">0.171429</td>\n",
       "    </tr>\n",
       "    <tr>\n",
       "      <td style=\"font-size: 10px;\">Article 29</td>\n",
       "      <td style=\"font-size: 10px;\">0.463158</td>\n",
       "      <td style=\"font-size: 10px;\">0.473118</td>\n",
       "      <td style=\"font-size: 10px;\">0.170213</td>\n",
       "      <td style=\"font-size: 10px;\">0.173913</td>\n",
       "      <td style=\"font-size: 10px;\">0.263158</td>\n",
       "      <td style=\"font-size: 10px;\">0.268817</td>\n",
       "    </tr>\n",
       "    <tr>\n",
       "      <td style=\"font-size: 10px;\">Article 30</td>\n",
       "      <td style=\"font-size: 10px;\">0.400000</td>\n",
       "      <td style=\"font-size: 10px;\">0.285714</td>\n",
       "      <td style=\"font-size: 10px;\">0.093750</td>\n",
       "      <td style=\"font-size: 10px;\">0.066667</td>\n",
       "      <td style=\"font-size: 10px;\">0.276923</td>\n",
       "      <td style=\"font-size: 10px;\">0.197802</td>\n",
       "    </tr>\n",
       "    <tr>\n",
       "      <td style=\"font-size: 10px;\">Average</td>\n",
       "      <td style=\"font-size: 10px;\">0.485281</td>\n",
       "      <td style=\"font-size: 10px;\">0.375236</td>\n",
       "      <td style=\"font-size: 10px;\">0.171942</td>\n",
       "      <td style=\"font-size: 10px;\">0.135528</td>\n",
       "      <td style=\"font-size: 10px;\">0.298680</td>\n",
       "      <td style=\"font-size: 10px;\">0.233190</td>\n",
       "    </tr>\n",
       "  </tbody>\n",
       "</table>"
      ],
      "text/plain": [
       "<IPython.core.display.HTML object>"
      ]
     },
     "execution_count": 365,
     "metadata": {},
     "output_type": "execute_result"
    }
   ],
   "source": [
    "# Convert DataFrame to HTML with smaller font size\n",
    "html_table_c = df_c.to_html(index=False, classes='table table-striped table-bordered', col_space=100, justify='center')\n",
    "\n",
    "# Apply CSS to the HTML table to set font size\n",
    "html_table_c = html_table_c.replace('<th>', '<th style=\"font-size: 10px;\">')\n",
    "html_table_c = html_table_c.replace('<td>', '<td style=\"font-size: 10px;\">')\n",
    "\n",
    "# Display the HTML table\n",
    "HTML(html_table_c)"
   ]
  },
  {
   "cell_type": "markdown",
   "id": "8bd33313",
   "metadata": {},
   "source": [
    "BART model"
   ]
  },
  {
   "cell_type": "code",
   "execution_count": 187,
   "id": "e3f07f16",
   "metadata": {},
   "outputs": [
    {
     "data": {
      "application/vnd.jupyter.widget-view+json": {
       "model_id": "0520d9bd49b2486187199f6f9123e67e",
       "version_major": 2,
       "version_minor": 0
      },
      "text/plain": [
       "vocab.json:   0%|          | 0.00/899k [00:00<?, ?B/s]"
      ]
     },
     "metadata": {},
     "output_type": "display_data"
    },
    {
     "name": "stderr",
     "output_type": "stream",
     "text": [
      "C:\\Users\\ianre\\anaconda3\\Lib\\site-packages\\huggingface_hub\\file_download.py:159: UserWarning: `huggingface_hub` cache-system uses symlinks by default to efficiently store duplicated files but your machine does not support them in C:\\Users\\ianre\\.cache\\huggingface\\hub\\models--facebook--bart-large-cnn. Caching files will still work but in a degraded version that might require more space on your disk. This warning can be disabled by setting the `HF_HUB_DISABLE_SYMLINKS_WARNING` environment variable. For more details, see https://huggingface.co/docs/huggingface_hub/how-to-cache#limitations.\n",
      "To support symlinks on Windows, you either need to activate Developer Mode or to run Python as an administrator. In order to see activate developer mode, see this article: https://docs.microsoft.com/en-us/windows/apps/get-started/enable-your-device-for-development\n",
      "  warnings.warn(message)\n"
     ]
    },
    {
     "data": {
      "application/vnd.jupyter.widget-view+json": {
       "model_id": "4f78a0d3071e490da69b1b906a9fcd61",
       "version_major": 2,
       "version_minor": 0
      },
      "text/plain": [
       "merges.txt:   0%|          | 0.00/456k [00:00<?, ?B/s]"
      ]
     },
     "metadata": {},
     "output_type": "display_data"
    },
    {
     "data": {
      "application/vnd.jupyter.widget-view+json": {
       "model_id": "be0dcbaf29fd474f9d714185b2d338c1",
       "version_major": 2,
       "version_minor": 0
      },
      "text/plain": [
       "tokenizer.json:   0%|          | 0.00/1.36M [00:00<?, ?B/s]"
      ]
     },
     "metadata": {},
     "output_type": "display_data"
    },
    {
     "data": {
      "application/vnd.jupyter.widget-view+json": {
       "model_id": "3632e5641d07483cb6099f08228f69ac",
       "version_major": 2,
       "version_minor": 0
      },
      "text/plain": [
       "config.json:   0%|          | 0.00/1.58k [00:00<?, ?B/s]"
      ]
     },
     "metadata": {},
     "output_type": "display_data"
    },
    {
     "data": {
      "application/vnd.jupyter.widget-view+json": {
       "model_id": "a9ba762fe5534a94ba3f1e2826b18439",
       "version_major": 2,
       "version_minor": 0
      },
      "text/plain": [
       "model.safetensors:   0%|          | 0.00/1.63G [00:00<?, ?B/s]"
      ]
     },
     "metadata": {},
     "output_type": "display_data"
    },
    {
     "data": {
      "application/vnd.jupyter.widget-view+json": {
       "model_id": "db206153951e4c4d80e3181a0b49fe86",
       "version_major": 2,
       "version_minor": 0
      },
      "text/plain": [
       "generation_config.json:   0%|          | 0.00/363 [00:00<?, ?B/s]"
      ]
     },
     "metadata": {},
     "output_type": "display_data"
    }
   ],
   "source": [
    "from transformers import BartTokenizer, BartForConditionalGeneration\n",
    "\n",
    "# Load pre-trained BART model and tokenizer\n",
    "tokenizer_bart = BartTokenizer.from_pretrained(\"facebook/bart-large-cnn\")\n",
    "model_bart = BartForConditionalGeneration.from_pretrained(\"facebook/bart-large-cnn\")"
   ]
  },
  {
   "cell_type": "code",
   "execution_count": 464,
   "id": "118cb1bd",
   "metadata": {},
   "outputs": [],
   "source": [
    "summaries_bart=[]\n",
    "for i in range(len(articles)):\n",
    "    inputs = tokenizer_bart(articles.iloc[i,1], return_tensors=\"pt\", max_length=512, truncation=True)\n",
    "    summary_ids = model_bart.generate(inputs[\"input_ids\"], max_length=150, min_length=80, num_beams=10, length_penalty=2.0)\n",
    "    summary = tokenizer_bart.decode(summary_ids[0], skip_special_tokens=True)\n",
    "    summaries_bart.append(summary)"
   ]
  },
  {
   "cell_type": "code",
   "execution_count": 465,
   "id": "41f6fdcb",
   "metadata": {},
   "outputs": [
    {
     "data": {
      "text/plain": [
       "\"People with an Alzheimer's-affected mother may be at special risk. The study was based on data from a clinical trial focused on Alzheimer's prevention. Having a father who developed Alzheimer's symptoms relatively late in life did not seem to be related to levels of amyloid in people's brains. However, there was a correlation between the accumulation of brain plaques and having a mother whose symptoms began at any age.\""
      ]
     },
     "execution_count": 465,
     "metadata": {},
     "output_type": "execute_result"
    }
   ],
   "source": [
    "summaries_bart[8]"
   ]
  },
  {
   "cell_type": "code",
   "execution_count": 466,
   "id": "7ba6f12d",
   "metadata": {},
   "outputs": [
    {
     "name": "stdout",
     "output_type": "stream",
     "text": [
      "ROUGE-1: Score(precision=0.36619718309859156, recall=0.2765957446808511, fmeasure=0.3151515151515152)\n",
      "ROUGE-2: Score(precision=0.08571428571428572, recall=0.06451612903225806, fmeasure=0.0736196319018405)\n",
      "ROUGE-L: Score(precision=0.23943661971830985, recall=0.18085106382978725, fmeasure=0.20606060606060608)\n"
     ]
    }
   ],
   "source": [
    "r1b, r2b, rlb = rougescore(ground_truth, summaries_bart)\n",
    "# Print the ROUGE scores\n",
    "print(\"ROUGE-1:\", r1b[1])\n",
    "print(\"ROUGE-2:\", r2b[1])\n",
    "print(\"ROUGE-L:\", rlb[1])"
   ]
  },
  {
   "cell_type": "code",
   "execution_count": 467,
   "id": "0b9efebe",
   "metadata": {},
   "outputs": [
    {
     "name": "stdout",
     "output_type": "stream",
     "text": [
      "0.5084727583997057\n"
     ]
    }
   ],
   "source": [
    "rouge1_precision_b = [r1b[i].precision for i in range(30)]\n",
    "average_precision = np.mean(rouge1_precision_b)\n",
    "rouge1_precision_b.append(average_precision)\n",
    "print(average_precision)"
   ]
  },
  {
   "cell_type": "code",
   "execution_count": 468,
   "id": "1c791178",
   "metadata": {},
   "outputs": [
    {
     "name": "stdout",
     "output_type": "stream",
     "text": [
      "0.36464732291558033\n"
     ]
    }
   ],
   "source": [
    "rouge1_recall_b = [r1b[i].recall for i in range(30)]\n",
    "average_recall = np.mean(rouge1_recall_b)\n",
    "rouge1_recall_b.append(average_recall)\n",
    "print(average_recall)"
   ]
  },
  {
   "cell_type": "code",
   "execution_count": 469,
   "id": "b8fa7c6c",
   "metadata": {},
   "outputs": [
    {
     "name": "stdout",
     "output_type": "stream",
     "text": [
      "0.42275766808010234\n"
     ]
    }
   ],
   "source": [
    "#F1 score\n",
    "rouge1_f1_b = [r1b[i].fmeasure for i in range(30)]\n",
    "average_f1 = np.mean(rouge1_f1_b)\n",
    "rouge1_f1_b.append(average_f1)\n",
    "print(average_f1)"
   ]
  },
  {
   "cell_type": "code",
   "execution_count": 470,
   "id": "2393908e",
   "metadata": {},
   "outputs": [
    {
     "name": "stdout",
     "output_type": "stream",
     "text": [
      "0.1844985418296521\n"
     ]
    }
   ],
   "source": [
    "rouge2_precision_b = [r2b[i].precision for i in range(30)]\n",
    "average_precision = np.mean(rouge2_precision_b)\n",
    "rouge2_precision_b.append(average_precision)\n",
    "print(average_precision)"
   ]
  },
  {
   "cell_type": "code",
   "execution_count": 471,
   "id": "516ce955",
   "metadata": {},
   "outputs": [
    {
     "name": "stdout",
     "output_type": "stream",
     "text": [
      "0.13088780020674148\n"
     ]
    }
   ],
   "source": [
    "rouge2_recall_b = [r2b[i].recall for i in range(30)]\n",
    "average_recall = np.mean(rouge2_recall_b)\n",
    "rouge2_recall_b.append(average_recall)\n",
    "print(average_recall)"
   ]
  },
  {
   "cell_type": "code",
   "execution_count": 472,
   "id": "f10fdce5",
   "metadata": {},
   "outputs": [
    {
     "name": "stdout",
     "output_type": "stream",
     "text": [
      "0.15234522066044184\n"
     ]
    }
   ],
   "source": [
    "#F1 score\n",
    "rouge2_f1_b = [r2b[i].fmeasure for i in range(30)]\n",
    "average_f1 = np.mean(rouge2_f1_b)\n",
    "rouge2_f1_b.append(average_f1)\n",
    "print(average_f1)"
   ]
  },
  {
   "cell_type": "code",
   "execution_count": 473,
   "id": "e9bb80c4",
   "metadata": {},
   "outputs": [
    {
     "name": "stdout",
     "output_type": "stream",
     "text": [
      "0.29971986697684083\n"
     ]
    }
   ],
   "source": [
    "rougel_precision_b = [rlb[i].precision for i in range(30)]\n",
    "average_precision = np.mean(rougel_precision_b)\n",
    "rougel_precision_b.append(average_precision)\n",
    "print(average_precision)"
   ]
  },
  {
   "cell_type": "code",
   "execution_count": 474,
   "id": "0e6012df",
   "metadata": {},
   "outputs": [
    {
     "name": "stdout",
     "output_type": "stream",
     "text": [
      "0.21668536576747754\n"
     ]
    }
   ],
   "source": [
    "rougel_recall_b = [rlb[i].recall for i in range(30)]\n",
    "average_recall = np.mean(rougel_recall_b)\n",
    "rougel_recall_b.append(average_recall)\n",
    "print(average_recall)"
   ]
  },
  {
   "cell_type": "code",
   "execution_count": 475,
   "id": "45d0356c",
   "metadata": {},
   "outputs": [
    {
     "name": "stdout",
     "output_type": "stream",
     "text": [
      "0.2503680781848329\n"
     ]
    }
   ],
   "source": [
    "#F1 score\n",
    "rougel_f1_b = [rlb[i].fmeasure for i in range(30)]\n",
    "average_f1 = np.mean(rougel_f1_b)\n",
    "rougel_f1_b.append(average_f1)\n",
    "print(average_f1)"
   ]
  },
  {
   "cell_type": "code",
   "execution_count": 476,
   "id": "386a7972",
   "metadata": {},
   "outputs": [],
   "source": [
    "#Create table with results from the BART transformer\n",
    "table_b = {\n",
    "    \"Model\": [\"Article 1\", \"Article 2\", \"Article 3\", \"Article 4\", \"Article 5\",\n",
    "              \"Article 6\", \"Article 7\", \"Article 8\", \"Article 9\", \"Article 10\",\n",
    "              \"Article 11\", \"Article 12\", \"Article 13\", \"Article 14\", \"Article 15\",\n",
    "             \"Article 16\", \"Article 17\", \"Article 18\", \"Article 19\", \"Article 20\",\n",
    "              \"Article 21\", \"Article 22\", \"Article 23\", \"Article 24\", \"Article 25\",\n",
    "              \"Article 26\", \"Article 27\", \"Article 28\", \"Article 29\", \"Article 30\",\"Average\"],\n",
    "    \"Rouge1 Precision\": rouge1_precision_b,\n",
    "    \"Rouge1 Recall\": rouge1_recall_b,\n",
    "    \"Rouge1 F1\": rouge1_f1_b,\n",
    "    \"Rouge2 Precision\":rouge2_precision_b,\n",
    "    \"Rouge2 Recall\": rouge2_recall_b,\n",
    "    \"Rouge2 F1\": rouge2_f1_b,\n",
    "    \"RougeL Precision\": rougel_precision_b,\n",
    "    \"RougeL Recall\": rougel_recall_b,\n",
    "    \"RougeL F1\": rougel_f1_b  \n",
    "}\n"
   ]
  },
  {
   "cell_type": "code",
   "execution_count": 477,
   "id": "07000fb8",
   "metadata": {},
   "outputs": [
    {
     "name": "stdout",
     "output_type": "stream",
     "text": [
      "         Model  Rouge1 Precision  Rouge1 Recall  Rouge1 F1  Rouge2 Precision  \\\n",
      "0    Article 1          0.515625       0.423077   0.464789          0.142857   \n",
      "1    Article 2          0.366197       0.276596   0.315152          0.085714   \n",
      "2    Article 3          0.461538       0.344828   0.394737          0.125000   \n",
      "3    Article 4          0.343284       0.244681   0.285714          0.045455   \n",
      "4    Article 5          0.373333       0.345679   0.358974          0.081081   \n",
      "5    Article 6          0.416667       0.357143   0.384615          0.112676   \n",
      "6    Article 7          0.531250       0.409639   0.462585          0.222222   \n",
      "7    Article 8          0.573770       0.388889   0.463576          0.216667   \n",
      "8    Article 9          0.405405       0.322581   0.359281          0.109589   \n",
      "9   Article 10          0.536232       0.359223   0.430233          0.147059   \n",
      "10  Article 11          0.745763       0.392857   0.514620          0.448276   \n",
      "11  Article 12          0.468354       0.373737   0.415730          0.192308   \n",
      "12  Article 13          0.457143       0.351648   0.397516          0.159420   \n",
      "13  Article 14          0.387097       0.272727   0.320000          0.098361   \n",
      "14  Article 15          0.571429       0.473684   0.517986          0.274194   \n",
      "15  Article 16          0.550000       0.362637   0.437086          0.203390   \n",
      "16  Article 17          0.662338       0.531250   0.589595          0.394737   \n",
      "17  Article 18          0.525424       0.348315   0.418919          0.137931   \n",
      "18  Article 19          0.462500       0.397849   0.427746          0.164557   \n",
      "19  Article 20          0.603175       0.469136   0.527778          0.209677   \n",
      "20  Article 21          0.578125       0.339450   0.427746          0.142857   \n",
      "21  Article 22          0.553846       0.382979   0.452830          0.203125   \n",
      "22  Article 23          0.508197       0.336957   0.405229          0.150000   \n",
      "23  Article 24          0.661290       0.359649   0.465909          0.262295   \n",
      "24  Article 25          0.409836       0.265957   0.322581          0.100000   \n",
      "25  Article 26          0.451613       0.282828   0.347826          0.180328   \n",
      "26  Article 27          0.600000       0.396226   0.477273          0.304348   \n",
      "27  Article 28          0.523077       0.323810   0.400000          0.187500   \n",
      "28  Article 29          0.434211       0.354839   0.390533          0.133333   \n",
      "29  Article 30          0.577465       0.450549   0.506173          0.300000   \n",
      "30     Average          0.508473       0.364647   0.422758          0.184499   \n",
      "\n",
      "    Rouge2 Recall  Rouge2 F1  RougeL Precision  RougeL Recall  RougeL F1  \n",
      "0        0.116883   0.128571          0.312500       0.256410   0.281690  \n",
      "1        0.064516   0.073620          0.239437       0.180851   0.206061  \n",
      "2        0.093023   0.106667          0.246154       0.183908   0.210526  \n",
      "3        0.032258   0.037736          0.179104       0.127660   0.149068  \n",
      "4        0.075000   0.077922          0.226667       0.209877   0.217949  \n",
      "5        0.096386   0.103896          0.222222       0.190476   0.205128  \n",
      "6        0.170732   0.193103          0.343750       0.265060   0.299320  \n",
      "7        0.146067   0.174497          0.196721       0.133333   0.158940  \n",
      "8        0.086957   0.096970          0.202703       0.161290   0.179641  \n",
      "9        0.098039   0.117647          0.347826       0.233010   0.279070  \n",
      "10       0.234234   0.307692          0.491525       0.258929   0.339181  \n",
      "11       0.153061   0.170455          0.278481       0.222222   0.247191  \n",
      "12       0.122222   0.138365          0.300000       0.230769   0.260870  \n",
      "13       0.068966   0.081081          0.225806       0.159091   0.186667  \n",
      "14       0.226667   0.248175          0.380952       0.315789   0.345324  \n",
      "15       0.133333   0.161074          0.366667       0.241758   0.291391  \n",
      "16       0.315789   0.350877          0.506494       0.406250   0.450867  \n",
      "17       0.090909   0.109589          0.271186       0.179775   0.216216  \n",
      "18       0.141304   0.152047          0.312500       0.268817   0.289017  \n",
      "19       0.162500   0.183099          0.428571       0.333333   0.375000  \n",
      "20       0.083333   0.105263          0.281250       0.165138   0.208092  \n",
      "21       0.139785   0.165605          0.323077       0.223404   0.264151  \n",
      "22       0.098901   0.119205          0.262295       0.173913   0.209150  \n",
      "23       0.141593   0.183908          0.354839       0.192982   0.250000  \n",
      "24       0.064516   0.078431          0.229508       0.148936   0.180645  \n",
      "25       0.112245   0.138365          0.225806       0.141414   0.173913  \n",
      "26       0.200000   0.241379          0.300000       0.198113   0.238636  \n",
      "27       0.115385   0.142857          0.246154       0.152381   0.188235  \n",
      "28       0.108696   0.119760          0.210526       0.172043   0.189349  \n",
      "29       0.233333   0.262500          0.478873       0.373626   0.419753  \n",
      "30       0.130888   0.152345          0.299720       0.216685   0.250368  \n"
     ]
    }
   ],
   "source": [
    "df_b = pd.DataFrame(table_b)\n",
    "\n",
    "# Display the DataFrame\n",
    "print(df_b)"
   ]
  },
  {
   "cell_type": "code",
   "execution_count": 478,
   "id": "3d459b98",
   "metadata": {},
   "outputs": [
    {
     "data": {
      "text/html": [
       "<table border=\"1\" class=\"dataframe table table-striped table-bordered\">\n",
       "  <thead>\n",
       "    <tr style=\"text-align: center;\">\n",
       "      <th style=\"min-width: 100px;\">Model</th>\n",
       "      <th style=\"min-width: 100px;\">Rouge1 Precision</th>\n",
       "      <th style=\"min-width: 100px;\">Rouge1 Recall</th>\n",
       "      <th style=\"min-width: 100px;\">Rouge1 F1</th>\n",
       "      <th style=\"min-width: 100px;\">Rouge2 Precision</th>\n",
       "      <th style=\"min-width: 100px;\">Rouge2 Recall</th>\n",
       "      <th style=\"min-width: 100px;\">Rouge2 F1</th>\n",
       "      <th style=\"min-width: 100px;\">RougeL Precision</th>\n",
       "      <th style=\"min-width: 100px;\">RougeL Recall</th>\n",
       "      <th style=\"min-width: 100px;\">RougeL F1</th>\n",
       "    </tr>\n",
       "  </thead>\n",
       "  <tbody>\n",
       "    <tr>\n",
       "      <td style=\"font-size: 10px;\">Article 1</td>\n",
       "      <td style=\"font-size: 10px;\">0.515625</td>\n",
       "      <td style=\"font-size: 10px;\">0.423077</td>\n",
       "      <td style=\"font-size: 10px;\">0.464789</td>\n",
       "      <td style=\"font-size: 10px;\">0.142857</td>\n",
       "      <td style=\"font-size: 10px;\">0.116883</td>\n",
       "      <td style=\"font-size: 10px;\">0.128571</td>\n",
       "      <td style=\"font-size: 10px;\">0.312500</td>\n",
       "      <td style=\"font-size: 10px;\">0.256410</td>\n",
       "      <td style=\"font-size: 10px;\">0.281690</td>\n",
       "    </tr>\n",
       "    <tr>\n",
       "      <td style=\"font-size: 10px;\">Article 2</td>\n",
       "      <td style=\"font-size: 10px;\">0.366197</td>\n",
       "      <td style=\"font-size: 10px;\">0.276596</td>\n",
       "      <td style=\"font-size: 10px;\">0.315152</td>\n",
       "      <td style=\"font-size: 10px;\">0.085714</td>\n",
       "      <td style=\"font-size: 10px;\">0.064516</td>\n",
       "      <td style=\"font-size: 10px;\">0.073620</td>\n",
       "      <td style=\"font-size: 10px;\">0.239437</td>\n",
       "      <td style=\"font-size: 10px;\">0.180851</td>\n",
       "      <td style=\"font-size: 10px;\">0.206061</td>\n",
       "    </tr>\n",
       "    <tr>\n",
       "      <td style=\"font-size: 10px;\">Article 3</td>\n",
       "      <td style=\"font-size: 10px;\">0.461538</td>\n",
       "      <td style=\"font-size: 10px;\">0.344828</td>\n",
       "      <td style=\"font-size: 10px;\">0.394737</td>\n",
       "      <td style=\"font-size: 10px;\">0.125000</td>\n",
       "      <td style=\"font-size: 10px;\">0.093023</td>\n",
       "      <td style=\"font-size: 10px;\">0.106667</td>\n",
       "      <td style=\"font-size: 10px;\">0.246154</td>\n",
       "      <td style=\"font-size: 10px;\">0.183908</td>\n",
       "      <td style=\"font-size: 10px;\">0.210526</td>\n",
       "    </tr>\n",
       "    <tr>\n",
       "      <td style=\"font-size: 10px;\">Article 4</td>\n",
       "      <td style=\"font-size: 10px;\">0.343284</td>\n",
       "      <td style=\"font-size: 10px;\">0.244681</td>\n",
       "      <td style=\"font-size: 10px;\">0.285714</td>\n",
       "      <td style=\"font-size: 10px;\">0.045455</td>\n",
       "      <td style=\"font-size: 10px;\">0.032258</td>\n",
       "      <td style=\"font-size: 10px;\">0.037736</td>\n",
       "      <td style=\"font-size: 10px;\">0.179104</td>\n",
       "      <td style=\"font-size: 10px;\">0.127660</td>\n",
       "      <td style=\"font-size: 10px;\">0.149068</td>\n",
       "    </tr>\n",
       "    <tr>\n",
       "      <td style=\"font-size: 10px;\">Article 5</td>\n",
       "      <td style=\"font-size: 10px;\">0.373333</td>\n",
       "      <td style=\"font-size: 10px;\">0.345679</td>\n",
       "      <td style=\"font-size: 10px;\">0.358974</td>\n",
       "      <td style=\"font-size: 10px;\">0.081081</td>\n",
       "      <td style=\"font-size: 10px;\">0.075000</td>\n",
       "      <td style=\"font-size: 10px;\">0.077922</td>\n",
       "      <td style=\"font-size: 10px;\">0.226667</td>\n",
       "      <td style=\"font-size: 10px;\">0.209877</td>\n",
       "      <td style=\"font-size: 10px;\">0.217949</td>\n",
       "    </tr>\n",
       "    <tr>\n",
       "      <td style=\"font-size: 10px;\">Article 6</td>\n",
       "      <td style=\"font-size: 10px;\">0.416667</td>\n",
       "      <td style=\"font-size: 10px;\">0.357143</td>\n",
       "      <td style=\"font-size: 10px;\">0.384615</td>\n",
       "      <td style=\"font-size: 10px;\">0.112676</td>\n",
       "      <td style=\"font-size: 10px;\">0.096386</td>\n",
       "      <td style=\"font-size: 10px;\">0.103896</td>\n",
       "      <td style=\"font-size: 10px;\">0.222222</td>\n",
       "      <td style=\"font-size: 10px;\">0.190476</td>\n",
       "      <td style=\"font-size: 10px;\">0.205128</td>\n",
       "    </tr>\n",
       "    <tr>\n",
       "      <td style=\"font-size: 10px;\">Article 7</td>\n",
       "      <td style=\"font-size: 10px;\">0.531250</td>\n",
       "      <td style=\"font-size: 10px;\">0.409639</td>\n",
       "      <td style=\"font-size: 10px;\">0.462585</td>\n",
       "      <td style=\"font-size: 10px;\">0.222222</td>\n",
       "      <td style=\"font-size: 10px;\">0.170732</td>\n",
       "      <td style=\"font-size: 10px;\">0.193103</td>\n",
       "      <td style=\"font-size: 10px;\">0.343750</td>\n",
       "      <td style=\"font-size: 10px;\">0.265060</td>\n",
       "      <td style=\"font-size: 10px;\">0.299320</td>\n",
       "    </tr>\n",
       "    <tr>\n",
       "      <td style=\"font-size: 10px;\">Article 8</td>\n",
       "      <td style=\"font-size: 10px;\">0.573770</td>\n",
       "      <td style=\"font-size: 10px;\">0.388889</td>\n",
       "      <td style=\"font-size: 10px;\">0.463576</td>\n",
       "      <td style=\"font-size: 10px;\">0.216667</td>\n",
       "      <td style=\"font-size: 10px;\">0.146067</td>\n",
       "      <td style=\"font-size: 10px;\">0.174497</td>\n",
       "      <td style=\"font-size: 10px;\">0.196721</td>\n",
       "      <td style=\"font-size: 10px;\">0.133333</td>\n",
       "      <td style=\"font-size: 10px;\">0.158940</td>\n",
       "    </tr>\n",
       "    <tr>\n",
       "      <td style=\"font-size: 10px;\">Article 9</td>\n",
       "      <td style=\"font-size: 10px;\">0.405405</td>\n",
       "      <td style=\"font-size: 10px;\">0.322581</td>\n",
       "      <td style=\"font-size: 10px;\">0.359281</td>\n",
       "      <td style=\"font-size: 10px;\">0.109589</td>\n",
       "      <td style=\"font-size: 10px;\">0.086957</td>\n",
       "      <td style=\"font-size: 10px;\">0.096970</td>\n",
       "      <td style=\"font-size: 10px;\">0.202703</td>\n",
       "      <td style=\"font-size: 10px;\">0.161290</td>\n",
       "      <td style=\"font-size: 10px;\">0.179641</td>\n",
       "    </tr>\n",
       "    <tr>\n",
       "      <td style=\"font-size: 10px;\">Article 10</td>\n",
       "      <td style=\"font-size: 10px;\">0.536232</td>\n",
       "      <td style=\"font-size: 10px;\">0.359223</td>\n",
       "      <td style=\"font-size: 10px;\">0.430233</td>\n",
       "      <td style=\"font-size: 10px;\">0.147059</td>\n",
       "      <td style=\"font-size: 10px;\">0.098039</td>\n",
       "      <td style=\"font-size: 10px;\">0.117647</td>\n",
       "      <td style=\"font-size: 10px;\">0.347826</td>\n",
       "      <td style=\"font-size: 10px;\">0.233010</td>\n",
       "      <td style=\"font-size: 10px;\">0.279070</td>\n",
       "    </tr>\n",
       "    <tr>\n",
       "      <td style=\"font-size: 10px;\">Article 11</td>\n",
       "      <td style=\"font-size: 10px;\">0.745763</td>\n",
       "      <td style=\"font-size: 10px;\">0.392857</td>\n",
       "      <td style=\"font-size: 10px;\">0.514620</td>\n",
       "      <td style=\"font-size: 10px;\">0.448276</td>\n",
       "      <td style=\"font-size: 10px;\">0.234234</td>\n",
       "      <td style=\"font-size: 10px;\">0.307692</td>\n",
       "      <td style=\"font-size: 10px;\">0.491525</td>\n",
       "      <td style=\"font-size: 10px;\">0.258929</td>\n",
       "      <td style=\"font-size: 10px;\">0.339181</td>\n",
       "    </tr>\n",
       "    <tr>\n",
       "      <td style=\"font-size: 10px;\">Article 12</td>\n",
       "      <td style=\"font-size: 10px;\">0.468354</td>\n",
       "      <td style=\"font-size: 10px;\">0.373737</td>\n",
       "      <td style=\"font-size: 10px;\">0.415730</td>\n",
       "      <td style=\"font-size: 10px;\">0.192308</td>\n",
       "      <td style=\"font-size: 10px;\">0.153061</td>\n",
       "      <td style=\"font-size: 10px;\">0.170455</td>\n",
       "      <td style=\"font-size: 10px;\">0.278481</td>\n",
       "      <td style=\"font-size: 10px;\">0.222222</td>\n",
       "      <td style=\"font-size: 10px;\">0.247191</td>\n",
       "    </tr>\n",
       "    <tr>\n",
       "      <td style=\"font-size: 10px;\">Article 13</td>\n",
       "      <td style=\"font-size: 10px;\">0.457143</td>\n",
       "      <td style=\"font-size: 10px;\">0.351648</td>\n",
       "      <td style=\"font-size: 10px;\">0.397516</td>\n",
       "      <td style=\"font-size: 10px;\">0.159420</td>\n",
       "      <td style=\"font-size: 10px;\">0.122222</td>\n",
       "      <td style=\"font-size: 10px;\">0.138365</td>\n",
       "      <td style=\"font-size: 10px;\">0.300000</td>\n",
       "      <td style=\"font-size: 10px;\">0.230769</td>\n",
       "      <td style=\"font-size: 10px;\">0.260870</td>\n",
       "    </tr>\n",
       "    <tr>\n",
       "      <td style=\"font-size: 10px;\">Article 14</td>\n",
       "      <td style=\"font-size: 10px;\">0.387097</td>\n",
       "      <td style=\"font-size: 10px;\">0.272727</td>\n",
       "      <td style=\"font-size: 10px;\">0.320000</td>\n",
       "      <td style=\"font-size: 10px;\">0.098361</td>\n",
       "      <td style=\"font-size: 10px;\">0.068966</td>\n",
       "      <td style=\"font-size: 10px;\">0.081081</td>\n",
       "      <td style=\"font-size: 10px;\">0.225806</td>\n",
       "      <td style=\"font-size: 10px;\">0.159091</td>\n",
       "      <td style=\"font-size: 10px;\">0.186667</td>\n",
       "    </tr>\n",
       "    <tr>\n",
       "      <td style=\"font-size: 10px;\">Article 15</td>\n",
       "      <td style=\"font-size: 10px;\">0.571429</td>\n",
       "      <td style=\"font-size: 10px;\">0.473684</td>\n",
       "      <td style=\"font-size: 10px;\">0.517986</td>\n",
       "      <td style=\"font-size: 10px;\">0.274194</td>\n",
       "      <td style=\"font-size: 10px;\">0.226667</td>\n",
       "      <td style=\"font-size: 10px;\">0.248175</td>\n",
       "      <td style=\"font-size: 10px;\">0.380952</td>\n",
       "      <td style=\"font-size: 10px;\">0.315789</td>\n",
       "      <td style=\"font-size: 10px;\">0.345324</td>\n",
       "    </tr>\n",
       "    <tr>\n",
       "      <td style=\"font-size: 10px;\">Article 16</td>\n",
       "      <td style=\"font-size: 10px;\">0.550000</td>\n",
       "      <td style=\"font-size: 10px;\">0.362637</td>\n",
       "      <td style=\"font-size: 10px;\">0.437086</td>\n",
       "      <td style=\"font-size: 10px;\">0.203390</td>\n",
       "      <td style=\"font-size: 10px;\">0.133333</td>\n",
       "      <td style=\"font-size: 10px;\">0.161074</td>\n",
       "      <td style=\"font-size: 10px;\">0.366667</td>\n",
       "      <td style=\"font-size: 10px;\">0.241758</td>\n",
       "      <td style=\"font-size: 10px;\">0.291391</td>\n",
       "    </tr>\n",
       "    <tr>\n",
       "      <td style=\"font-size: 10px;\">Article 17</td>\n",
       "      <td style=\"font-size: 10px;\">0.662338</td>\n",
       "      <td style=\"font-size: 10px;\">0.531250</td>\n",
       "      <td style=\"font-size: 10px;\">0.589595</td>\n",
       "      <td style=\"font-size: 10px;\">0.394737</td>\n",
       "      <td style=\"font-size: 10px;\">0.315789</td>\n",
       "      <td style=\"font-size: 10px;\">0.350877</td>\n",
       "      <td style=\"font-size: 10px;\">0.506494</td>\n",
       "      <td style=\"font-size: 10px;\">0.406250</td>\n",
       "      <td style=\"font-size: 10px;\">0.450867</td>\n",
       "    </tr>\n",
       "    <tr>\n",
       "      <td style=\"font-size: 10px;\">Article 18</td>\n",
       "      <td style=\"font-size: 10px;\">0.525424</td>\n",
       "      <td style=\"font-size: 10px;\">0.348315</td>\n",
       "      <td style=\"font-size: 10px;\">0.418919</td>\n",
       "      <td style=\"font-size: 10px;\">0.137931</td>\n",
       "      <td style=\"font-size: 10px;\">0.090909</td>\n",
       "      <td style=\"font-size: 10px;\">0.109589</td>\n",
       "      <td style=\"font-size: 10px;\">0.271186</td>\n",
       "      <td style=\"font-size: 10px;\">0.179775</td>\n",
       "      <td style=\"font-size: 10px;\">0.216216</td>\n",
       "    </tr>\n",
       "    <tr>\n",
       "      <td style=\"font-size: 10px;\">Article 19</td>\n",
       "      <td style=\"font-size: 10px;\">0.462500</td>\n",
       "      <td style=\"font-size: 10px;\">0.397849</td>\n",
       "      <td style=\"font-size: 10px;\">0.427746</td>\n",
       "      <td style=\"font-size: 10px;\">0.164557</td>\n",
       "      <td style=\"font-size: 10px;\">0.141304</td>\n",
       "      <td style=\"font-size: 10px;\">0.152047</td>\n",
       "      <td style=\"font-size: 10px;\">0.312500</td>\n",
       "      <td style=\"font-size: 10px;\">0.268817</td>\n",
       "      <td style=\"font-size: 10px;\">0.289017</td>\n",
       "    </tr>\n",
       "    <tr>\n",
       "      <td style=\"font-size: 10px;\">Article 20</td>\n",
       "      <td style=\"font-size: 10px;\">0.603175</td>\n",
       "      <td style=\"font-size: 10px;\">0.469136</td>\n",
       "      <td style=\"font-size: 10px;\">0.527778</td>\n",
       "      <td style=\"font-size: 10px;\">0.209677</td>\n",
       "      <td style=\"font-size: 10px;\">0.162500</td>\n",
       "      <td style=\"font-size: 10px;\">0.183099</td>\n",
       "      <td style=\"font-size: 10px;\">0.428571</td>\n",
       "      <td style=\"font-size: 10px;\">0.333333</td>\n",
       "      <td style=\"font-size: 10px;\">0.375000</td>\n",
       "    </tr>\n",
       "    <tr>\n",
       "      <td style=\"font-size: 10px;\">Article 21</td>\n",
       "      <td style=\"font-size: 10px;\">0.578125</td>\n",
       "      <td style=\"font-size: 10px;\">0.339450</td>\n",
       "      <td style=\"font-size: 10px;\">0.427746</td>\n",
       "      <td style=\"font-size: 10px;\">0.142857</td>\n",
       "      <td style=\"font-size: 10px;\">0.083333</td>\n",
       "      <td style=\"font-size: 10px;\">0.105263</td>\n",
       "      <td style=\"font-size: 10px;\">0.281250</td>\n",
       "      <td style=\"font-size: 10px;\">0.165138</td>\n",
       "      <td style=\"font-size: 10px;\">0.208092</td>\n",
       "    </tr>\n",
       "    <tr>\n",
       "      <td style=\"font-size: 10px;\">Article 22</td>\n",
       "      <td style=\"font-size: 10px;\">0.553846</td>\n",
       "      <td style=\"font-size: 10px;\">0.382979</td>\n",
       "      <td style=\"font-size: 10px;\">0.452830</td>\n",
       "      <td style=\"font-size: 10px;\">0.203125</td>\n",
       "      <td style=\"font-size: 10px;\">0.139785</td>\n",
       "      <td style=\"font-size: 10px;\">0.165605</td>\n",
       "      <td style=\"font-size: 10px;\">0.323077</td>\n",
       "      <td style=\"font-size: 10px;\">0.223404</td>\n",
       "      <td style=\"font-size: 10px;\">0.264151</td>\n",
       "    </tr>\n",
       "    <tr>\n",
       "      <td style=\"font-size: 10px;\">Article 23</td>\n",
       "      <td style=\"font-size: 10px;\">0.508197</td>\n",
       "      <td style=\"font-size: 10px;\">0.336957</td>\n",
       "      <td style=\"font-size: 10px;\">0.405229</td>\n",
       "      <td style=\"font-size: 10px;\">0.150000</td>\n",
       "      <td style=\"font-size: 10px;\">0.098901</td>\n",
       "      <td style=\"font-size: 10px;\">0.119205</td>\n",
       "      <td style=\"font-size: 10px;\">0.262295</td>\n",
       "      <td style=\"font-size: 10px;\">0.173913</td>\n",
       "      <td style=\"font-size: 10px;\">0.209150</td>\n",
       "    </tr>\n",
       "    <tr>\n",
       "      <td style=\"font-size: 10px;\">Article 24</td>\n",
       "      <td style=\"font-size: 10px;\">0.661290</td>\n",
       "      <td style=\"font-size: 10px;\">0.359649</td>\n",
       "      <td style=\"font-size: 10px;\">0.465909</td>\n",
       "      <td style=\"font-size: 10px;\">0.262295</td>\n",
       "      <td style=\"font-size: 10px;\">0.141593</td>\n",
       "      <td style=\"font-size: 10px;\">0.183908</td>\n",
       "      <td style=\"font-size: 10px;\">0.354839</td>\n",
       "      <td style=\"font-size: 10px;\">0.192982</td>\n",
       "      <td style=\"font-size: 10px;\">0.250000</td>\n",
       "    </tr>\n",
       "    <tr>\n",
       "      <td style=\"font-size: 10px;\">Article 25</td>\n",
       "      <td style=\"font-size: 10px;\">0.409836</td>\n",
       "      <td style=\"font-size: 10px;\">0.265957</td>\n",
       "      <td style=\"font-size: 10px;\">0.322581</td>\n",
       "      <td style=\"font-size: 10px;\">0.100000</td>\n",
       "      <td style=\"font-size: 10px;\">0.064516</td>\n",
       "      <td style=\"font-size: 10px;\">0.078431</td>\n",
       "      <td style=\"font-size: 10px;\">0.229508</td>\n",
       "      <td style=\"font-size: 10px;\">0.148936</td>\n",
       "      <td style=\"font-size: 10px;\">0.180645</td>\n",
       "    </tr>\n",
       "    <tr>\n",
       "      <td style=\"font-size: 10px;\">Article 26</td>\n",
       "      <td style=\"font-size: 10px;\">0.451613</td>\n",
       "      <td style=\"font-size: 10px;\">0.282828</td>\n",
       "      <td style=\"font-size: 10px;\">0.347826</td>\n",
       "      <td style=\"font-size: 10px;\">0.180328</td>\n",
       "      <td style=\"font-size: 10px;\">0.112245</td>\n",
       "      <td style=\"font-size: 10px;\">0.138365</td>\n",
       "      <td style=\"font-size: 10px;\">0.225806</td>\n",
       "      <td style=\"font-size: 10px;\">0.141414</td>\n",
       "      <td style=\"font-size: 10px;\">0.173913</td>\n",
       "    </tr>\n",
       "    <tr>\n",
       "      <td style=\"font-size: 10px;\">Article 27</td>\n",
       "      <td style=\"font-size: 10px;\">0.600000</td>\n",
       "      <td style=\"font-size: 10px;\">0.396226</td>\n",
       "      <td style=\"font-size: 10px;\">0.477273</td>\n",
       "      <td style=\"font-size: 10px;\">0.304348</td>\n",
       "      <td style=\"font-size: 10px;\">0.200000</td>\n",
       "      <td style=\"font-size: 10px;\">0.241379</td>\n",
       "      <td style=\"font-size: 10px;\">0.300000</td>\n",
       "      <td style=\"font-size: 10px;\">0.198113</td>\n",
       "      <td style=\"font-size: 10px;\">0.238636</td>\n",
       "    </tr>\n",
       "    <tr>\n",
       "      <td style=\"font-size: 10px;\">Article 28</td>\n",
       "      <td style=\"font-size: 10px;\">0.523077</td>\n",
       "      <td style=\"font-size: 10px;\">0.323810</td>\n",
       "      <td style=\"font-size: 10px;\">0.400000</td>\n",
       "      <td style=\"font-size: 10px;\">0.187500</td>\n",
       "      <td style=\"font-size: 10px;\">0.115385</td>\n",
       "      <td style=\"font-size: 10px;\">0.142857</td>\n",
       "      <td style=\"font-size: 10px;\">0.246154</td>\n",
       "      <td style=\"font-size: 10px;\">0.152381</td>\n",
       "      <td style=\"font-size: 10px;\">0.188235</td>\n",
       "    </tr>\n",
       "    <tr>\n",
       "      <td style=\"font-size: 10px;\">Article 29</td>\n",
       "      <td style=\"font-size: 10px;\">0.434211</td>\n",
       "      <td style=\"font-size: 10px;\">0.354839</td>\n",
       "      <td style=\"font-size: 10px;\">0.390533</td>\n",
       "      <td style=\"font-size: 10px;\">0.133333</td>\n",
       "      <td style=\"font-size: 10px;\">0.108696</td>\n",
       "      <td style=\"font-size: 10px;\">0.119760</td>\n",
       "      <td style=\"font-size: 10px;\">0.210526</td>\n",
       "      <td style=\"font-size: 10px;\">0.172043</td>\n",
       "      <td style=\"font-size: 10px;\">0.189349</td>\n",
       "    </tr>\n",
       "    <tr>\n",
       "      <td style=\"font-size: 10px;\">Article 30</td>\n",
       "      <td style=\"font-size: 10px;\">0.577465</td>\n",
       "      <td style=\"font-size: 10px;\">0.450549</td>\n",
       "      <td style=\"font-size: 10px;\">0.506173</td>\n",
       "      <td style=\"font-size: 10px;\">0.300000</td>\n",
       "      <td style=\"font-size: 10px;\">0.233333</td>\n",
       "      <td style=\"font-size: 10px;\">0.262500</td>\n",
       "      <td style=\"font-size: 10px;\">0.478873</td>\n",
       "      <td style=\"font-size: 10px;\">0.373626</td>\n",
       "      <td style=\"font-size: 10px;\">0.419753</td>\n",
       "    </tr>\n",
       "    <tr>\n",
       "      <td style=\"font-size: 10px;\">Average</td>\n",
       "      <td style=\"font-size: 10px;\">0.508473</td>\n",
       "      <td style=\"font-size: 10px;\">0.364647</td>\n",
       "      <td style=\"font-size: 10px;\">0.422758</td>\n",
       "      <td style=\"font-size: 10px;\">0.184499</td>\n",
       "      <td style=\"font-size: 10px;\">0.130888</td>\n",
       "      <td style=\"font-size: 10px;\">0.152345</td>\n",
       "      <td style=\"font-size: 10px;\">0.299720</td>\n",
       "      <td style=\"font-size: 10px;\">0.216685</td>\n",
       "      <td style=\"font-size: 10px;\">0.250368</td>\n",
       "    </tr>\n",
       "  </tbody>\n",
       "</table>"
      ],
      "text/plain": [
       "<IPython.core.display.HTML object>"
      ]
     },
     "execution_count": 478,
     "metadata": {},
     "output_type": "execute_result"
    }
   ],
   "source": [
    "# Convert DataFrame to HTML with smaller font size\n",
    "html_table_b = df_b.to_html(index=False, classes='table table-striped table-bordered', col_space=100, justify='center')\n",
    "\n",
    "# Apply CSS to the HTML table to set font size\n",
    "html_table_b = html_table_b.replace('<th>', '<th style=\"font-size: 10px;\">')\n",
    "html_table_b = html_table_b.replace('<td>', '<td style=\"font-size: 10px;\">')\n",
    "\n",
    "# Display the HTML table\n",
    "HTML(html_table_b)"
   ]
  },
  {
   "cell_type": "markdown",
   "id": "6cdea889",
   "metadata": {},
   "source": [
    "Word Length of Summaries"
   ]
  },
  {
   "cell_type": "code",
   "execution_count": 479,
   "id": "8f79ce25",
   "metadata": {},
   "outputs": [
    {
     "name": "stdout",
     "output_type": "stream",
     "text": [
      "Average number of words for Pegasus/Peg Large/Peg CNN: 45/62/57, Average number of words for t5: 66, Average number of words for BART: 66, Average number of words for ground truth: 90\n"
     ]
    }
   ],
   "source": [
    "#Average length comparison\n",
    "num_words = len(ground_truth.iloc[0,1].split())\n",
    "avg_pegasus=0\n",
    "avg_pegasus_large=0\n",
    "avg_pegasus_cnn=0\n",
    "avg_t5=0\n",
    "avg_bart=0\n",
    "avg_ground=0\n",
    "for i in range(30):\n",
    "    avg_pegasus = len(summaries_peg[i].split())\n",
    "    avg_pegasus_large = len(summaries_large[i].split())\n",
    "    avg_pegasus_cnn = len(summaries_cnn[i].split())\n",
    "    avg_t5 = len(summaries_t5[i].split())\n",
    "    avg_bart = len(summaries_bart[i].split())\n",
    "    avg_ground = len(ground_truth.iloc[i,1].split())\n",
    "print(f'Average number of words for Pegasus/Peg Large/Peg CNN: {avg_pegasus}/{avg_pegasus_large}/{avg_pegasus_cnn}, Average number of words for t5: {avg_t5}, Average number of words for BART: {avg_bart}, Average number of words for ground truth: {avg_ground}')"
   ]
  },
  {
   "cell_type": "markdown",
   "id": "1213ba83",
   "metadata": {},
   "source": [
    "Final Table"
   ]
  },
  {
   "cell_type": "code",
   "execution_count": 480,
   "id": "89edcfa0",
   "metadata": {},
   "outputs": [],
   "source": [
    "#Create table with results from the BART transformer\n",
    "table_final = {\n",
    "    \"Model\": [\"T5-Small\", \"Pegasus Xsum\", \"Pegasus Large\", \"Pegasus CNN/Daily-Mail\", \"BART\"],\n",
    "    \"Rouge1 Precision\": [rouge1_precision[30], rouge1_precision_p[30], rouge1_precision_l[30], rouge1_precision_c[30], rouge1_precision_b[30]],\n",
    "    \"Rouge1 Recall\": [rouge1_recall[30], rouge1_recall_p[30], rouge1_recall_l[30], rouge1_recall_c[30], rouge1_recall_b[30]],\n",
    "    \"Rouge1 F1\": [rouge1_f1[30], rouge1_f1_p[30], rouge1_f1_l[30], rouge1_f1_c[30], rouge1_f1_b[30]],\n",
    "    \"Rouge2 Precision\": [rouge2_precision[30], rouge2_precision_p[30], rouge2_precision_l[30], rouge2_precision_c[30], rouge2_precision_b[30]],\n",
    "    \"Rouge2 Recall\": [rouge2_recall[30], rouge2_recall_p[30], rouge2_recall_l[30], rouge2_recall_c[30], rouge2_recall_b[30]],\n",
    "    \"Rouge2 F1\": [rouge2_f1[30], rouge2_f1_p[30], rouge2_f1_l[30], rouge2_f1_c[30], rouge2_f1_b[30]],\n",
    "    \"RougeL Precision\": [rougel_precision[30], rougel_precision_p[30], rougel_precision_l[30], rougel_precision_c[30], rougel_precision_b[30]],\n",
    "    \"RougeL Recall\": [rougel_recall[30], rougel_recall_p[30], rougel_recall_l[30], rougel_recall_c[30], rougel_recall_b[30]],\n",
    "    \"RougeL F1\": [rougel_f1[30], rougel_f1_p[30], rougel_f1_l[30], rougel_f1_c[30], rougel_f1_b[30]],\n",
    "    \"Average Word Count\": [avg_t5,avg_pegasus,avg_pegasus_large,avg_pegasus_cnn,avg_bart]\n",
    "}\n"
   ]
  },
  {
   "cell_type": "code",
   "execution_count": 481,
   "id": "756a645f",
   "metadata": {},
   "outputs": [
    {
     "name": "stdout",
     "output_type": "stream",
     "text": [
      "                    Model  Rouge1 Precision  Rouge1 Recall  Rouge1 F1  \\\n",
      "0                T5-Small          0.482756       0.382077   0.417532   \n",
      "1            Pegasus Xsum          0.465938       0.254434   0.325349   \n",
      "2           Pegasus Large          0.441724       0.378863   0.403427   \n",
      "3  Pegasus CNN/Daily-Mail          0.485281       0.375236   0.418585   \n",
      "4                    BART          0.508473       0.364647   0.422758   \n",
      "\n",
      "   Rouge2 Precision  Rouge2 Recall  Rouge2 F1  RougeL Precision  \\\n",
      "0          0.161505       0.131786   0.144517          0.271674   \n",
      "1          0.132124       0.072244   0.092080          0.257330   \n",
      "2          0.147540       0.121799   0.131881          0.248392   \n",
      "3          0.171942       0.135528   0.149553          0.298680   \n",
      "4          0.184499       0.130888   0.152345          0.299720   \n",
      "\n",
      "   RougeL Recall  RougeL F1  Average Word Count  \n",
      "0       0.224757   0.245026                  66  \n",
      "1       0.141315   0.180166                  45  \n",
      "2       0.210484   0.225330                  62  \n",
      "3       0.233190   0.259061                  57  \n",
      "4       0.216685   0.250368                  66  \n"
     ]
    }
   ],
   "source": [
    "df_final = pd.DataFrame(table_final)\n",
    "\n",
    "# Display the DataFrame\n",
    "print(df_final)"
   ]
  },
  {
   "cell_type": "code",
   "execution_count": 482,
   "id": "f8c6424c",
   "metadata": {},
   "outputs": [
    {
     "data": {
      "text/html": [
       "<table border=\"1\" class=\"dataframe table table-striped table-bordered\">\n",
       "  <thead>\n",
       "    <tr style=\"text-align: center;\">\n",
       "      <th style=\"min-width: 100px;\">Model</th>\n",
       "      <th style=\"min-width: 100px;\">Rouge1 Precision</th>\n",
       "      <th style=\"min-width: 100px;\">Rouge1 Recall</th>\n",
       "      <th style=\"min-width: 100px;\">Rouge1 F1</th>\n",
       "      <th style=\"min-width: 100px;\">Rouge2 Precision</th>\n",
       "      <th style=\"min-width: 100px;\">Rouge2 Recall</th>\n",
       "      <th style=\"min-width: 100px;\">Rouge2 F1</th>\n",
       "      <th style=\"min-width: 100px;\">RougeL Precision</th>\n",
       "      <th style=\"min-width: 100px;\">RougeL Recall</th>\n",
       "      <th style=\"min-width: 100px;\">RougeL F1</th>\n",
       "      <th style=\"min-width: 100px;\">Average Word Count</th>\n",
       "    </tr>\n",
       "  </thead>\n",
       "  <tbody>\n",
       "    <tr>\n",
       "      <td style=\"font-size: 10px;\">T5-Small</td>\n",
       "      <td style=\"font-size: 10px;\">0.482756</td>\n",
       "      <td style=\"font-size: 10px;\">0.382077</td>\n",
       "      <td style=\"font-size: 10px;\">0.417532</td>\n",
       "      <td style=\"font-size: 10px;\">0.161505</td>\n",
       "      <td style=\"font-size: 10px;\">0.131786</td>\n",
       "      <td style=\"font-size: 10px;\">0.144517</td>\n",
       "      <td style=\"font-size: 10px;\">0.271674</td>\n",
       "      <td style=\"font-size: 10px;\">0.224757</td>\n",
       "      <td style=\"font-size: 10px;\">0.245026</td>\n",
       "      <td style=\"font-size: 10px;\">66</td>\n",
       "    </tr>\n",
       "    <tr>\n",
       "      <td style=\"font-size: 10px;\">Pegasus Xsum</td>\n",
       "      <td style=\"font-size: 10px;\">0.465938</td>\n",
       "      <td style=\"font-size: 10px;\">0.254434</td>\n",
       "      <td style=\"font-size: 10px;\">0.325349</td>\n",
       "      <td style=\"font-size: 10px;\">0.132124</td>\n",
       "      <td style=\"font-size: 10px;\">0.072244</td>\n",
       "      <td style=\"font-size: 10px;\">0.092080</td>\n",
       "      <td style=\"font-size: 10px;\">0.257330</td>\n",
       "      <td style=\"font-size: 10px;\">0.141315</td>\n",
       "      <td style=\"font-size: 10px;\">0.180166</td>\n",
       "      <td style=\"font-size: 10px;\">45</td>\n",
       "    </tr>\n",
       "    <tr>\n",
       "      <td style=\"font-size: 10px;\">Pegasus Large</td>\n",
       "      <td style=\"font-size: 10px;\">0.441724</td>\n",
       "      <td style=\"font-size: 10px;\">0.378863</td>\n",
       "      <td style=\"font-size: 10px;\">0.403427</td>\n",
       "      <td style=\"font-size: 10px;\">0.147540</td>\n",
       "      <td style=\"font-size: 10px;\">0.121799</td>\n",
       "      <td style=\"font-size: 10px;\">0.131881</td>\n",
       "      <td style=\"font-size: 10px;\">0.248392</td>\n",
       "      <td style=\"font-size: 10px;\">0.210484</td>\n",
       "      <td style=\"font-size: 10px;\">0.225330</td>\n",
       "      <td style=\"font-size: 10px;\">62</td>\n",
       "    </tr>\n",
       "    <tr>\n",
       "      <td style=\"font-size: 10px;\">Pegasus CNN/Daily-Mail</td>\n",
       "      <td style=\"font-size: 10px;\">0.485281</td>\n",
       "      <td style=\"font-size: 10px;\">0.375236</td>\n",
       "      <td style=\"font-size: 10px;\">0.418585</td>\n",
       "      <td style=\"font-size: 10px;\">0.171942</td>\n",
       "      <td style=\"font-size: 10px;\">0.135528</td>\n",
       "      <td style=\"font-size: 10px;\">0.149553</td>\n",
       "      <td style=\"font-size: 10px;\">0.298680</td>\n",
       "      <td style=\"font-size: 10px;\">0.233190</td>\n",
       "      <td style=\"font-size: 10px;\">0.259061</td>\n",
       "      <td style=\"font-size: 10px;\">57</td>\n",
       "    </tr>\n",
       "    <tr>\n",
       "      <td style=\"font-size: 10px;\">BART</td>\n",
       "      <td style=\"font-size: 10px;\">0.508473</td>\n",
       "      <td style=\"font-size: 10px;\">0.364647</td>\n",
       "      <td style=\"font-size: 10px;\">0.422758</td>\n",
       "      <td style=\"font-size: 10px;\">0.184499</td>\n",
       "      <td style=\"font-size: 10px;\">0.130888</td>\n",
       "      <td style=\"font-size: 10px;\">0.152345</td>\n",
       "      <td style=\"font-size: 10px;\">0.299720</td>\n",
       "      <td style=\"font-size: 10px;\">0.216685</td>\n",
       "      <td style=\"font-size: 10px;\">0.250368</td>\n",
       "      <td style=\"font-size: 10px;\">66</td>\n",
       "    </tr>\n",
       "  </tbody>\n",
       "</table>"
      ],
      "text/plain": [
       "<IPython.core.display.HTML object>"
      ]
     },
     "execution_count": 482,
     "metadata": {},
     "output_type": "execute_result"
    }
   ],
   "source": [
    "# Convert DataFrame to HTML with smaller font size\n",
    "html_table_final = df_final.to_html(index=False, classes='table table-striped table-bordered', col_space=100, justify='center')\n",
    "\n",
    "# Apply CSS to the HTML table to set font size\n",
    "html_table_final = html_table_final.replace('<th>', '<th style=\"font-size: 10px;\">')\n",
    "html_table_final = html_table_final.replace('<td>', '<td style=\"font-size: 10px;\">')\n",
    "\n",
    "# Display the HTML table\n",
    "HTML(html_table_final)"
   ]
  },
  {
   "cell_type": "code",
   "execution_count": 499,
   "id": "59c76858",
   "metadata": {},
   "outputs": [],
   "source": [
    "# Write summaries to .csv\n",
    "t5 = {\n",
    "    \"titles\":title,\n",
    "    \"summaries\":summaries_t5\n",
    "}\n",
    "df_t5 = pd.DataFrame(t5)\n",
    "\n",
    "peg = {\n",
    "    \"titles\":title,\n",
    "    \"summaries\":summaries_peg\n",
    "}\n",
    "df_peg = pd.DataFrame(peg)\n",
    "\n",
    "large = {\n",
    "    \"titles\":title,\n",
    "    \"summaries\":summaries_large\n",
    "}\n",
    "df_large = pd.DataFrame(large)\n",
    "\n",
    "cnn = {\n",
    "    \"titles\":title,\n",
    "    \"summaries\":summaries_cnn\n",
    "}\n",
    "df_cnn = pd.DataFrame(cnn)\n",
    "\n",
    "bart = {\n",
    "    \"titles\":title,\n",
    "    \"summaries\":summaries_bart\n",
    "}\n",
    "df_bart = pd.DataFrame(bart)\n",
    "\n",
    "# Write DataFrame to CSV\n",
    "df_t5.to_csv('C:/Users/ianre/OneDrive/Documents/Article Summarizer/summaries/t5_summaries.csv', index=False)\n",
    "df_peg.to_csv('C:/Users/ianre/OneDrive/Documents/Article Summarizer/summaries/peg_summaries.csv', index=False)\n",
    "df_large.to_csv('C:/Users/ianre/OneDrive/Documents/Article Summarizer/summaries/large_summaries.csv', index=False)\n",
    "df_cnn.to_csv('C:/Users/ianre/OneDrive/Documents/Article Summarizer/summaries/cnn_summaries.csv', index=False)\n",
    "df_bart.to_csv('C:/Users/ianre/OneDrive/Documents/Article Summarizer/summaries/bart_summaries.csv', index=False)"
   ]
  },
  {
   "cell_type": "code",
   "execution_count": 461,
   "id": "e16c80ca",
   "metadata": {},
   "outputs": [
    {
     "name": "stdout",
     "output_type": "stream",
     "text": [
      "                                              titles  \\\n",
      "0  Predicting Myriad Diseases From a Single Drop ...   \n",
      "1  Scientists May Have Stopped a Form of Inherite...   \n",
      "2  Too Many Breast Cancer Survivors Miss Out on G...   \n",
      "3  Current Gene Screens Miss Many at High Cancer ...   \n",
      "4  Thinking of a Switch Away from Meat? Your Gene...   \n",
      "5   Some Genes Might Send Girls Into Puberty Earlier   \n",
      "6  Colombian Family's Genes Could Hold Key to Del...   \n",
      "7  Another Study Finds CRISPR Gene Therapy Fights...   \n",
      "8  Inherited Alzheimer's: Whether It's From Mom o...   \n",
      "9  Gene Therapy in Both Ears Restores Hearing to ...   \n",
      "\n",
      "                                           summaries  \n",
      "0  the protein “signatures” in a droplet of blood...  \n",
      "1  MONDAY, July 22, 2024 (HealthDay News) -- In h...  \n",
      "2  that many women aren’t getting genetic counsel...  \n",
      "3  550 of them -- about 1.24% -- did carry a here...  \n",
      "4  , a new study says. Your heart might be in it,...  \n",
      "5  : 45% of the gene variants that affect puberty...  \n",
      "6  a Colombian family’s genetics are shining a sp...  \n",
      "7  TUESDAY, June 18, 2024 (HealthDay News) -- The...  \n",
      "8  the sex of the study participant did not seem ...  \n",
      "9  deaf have had their hearing restored in both e...  \n"
     ]
    }
   ],
   "source": [
    "print(df_t5.head(10))"
   ]
  },
  {
   "cell_type": "code",
   "execution_count": null,
   "id": "027d3b76",
   "metadata": {},
   "outputs": [],
   "source": []
  }
 ],
 "metadata": {
  "kernelspec": {
   "display_name": "Python 3 (ipykernel)",
   "language": "python",
   "name": "python3"
  },
  "language_info": {
   "codemirror_mode": {
    "name": "ipython",
    "version": 3
   },
   "file_extension": ".py",
   "mimetype": "text/x-python",
   "name": "python",
   "nbconvert_exporter": "python",
   "pygments_lexer": "ipython3",
   "version": "3.11.4"
  }
 },
 "nbformat": 4,
 "nbformat_minor": 5
}
