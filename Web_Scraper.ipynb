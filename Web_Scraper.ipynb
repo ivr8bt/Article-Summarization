{
 "cells": [
  {
   "cell_type": "code",
   "execution_count": 1,
   "id": "9afec7ca",
   "metadata": {},
   "outputs": [
    {
     "name": "stdout",
     "output_type": "stream",
     "text": [
      "Collecting newspaper3k\n",
      "  Obtaining dependency information for newspaper3k from https://files.pythonhosted.org/packages/d7/b9/51afecb35bb61b188a4b44868001de348a0e8134b4dfa00ffc191567c4b9/newspaper3k-0.2.8-py3-none-any.whl.metadata\n",
      "  Downloading newspaper3k-0.2.8-py3-none-any.whl.metadata (11 kB)\n",
      "Requirement already satisfied: beautifulsoup4>=4.4.1 in c:\\users\\ianre\\anaconda3\\lib\\site-packages (from newspaper3k) (4.12.2)\n",
      "Requirement already satisfied: Pillow>=3.3.0 in c:\\users\\ianre\\anaconda3\\lib\\site-packages (from newspaper3k) (10.4.0)\n",
      "Requirement already satisfied: PyYAML>=3.11 in c:\\users\\ianre\\anaconda3\\lib\\site-packages (from newspaper3k) (6.0)\n",
      "Requirement already satisfied: cssselect>=0.9.2 in c:\\users\\ianre\\anaconda3\\lib\\site-packages (from newspaper3k) (1.2.0)\n",
      "Requirement already satisfied: lxml>=3.6.0 in c:\\users\\ianre\\anaconda3\\lib\\site-packages (from newspaper3k) (4.9.2)\n",
      "Requirement already satisfied: nltk>=3.2.1 in c:\\users\\ianre\\anaconda3\\lib\\site-packages (from newspaper3k) (3.8.1)\n",
      "Requirement already satisfied: requests>=2.10.0 in c:\\users\\ianre\\anaconda3\\lib\\site-packages (from newspaper3k) (2.31.0)\n",
      "Collecting feedparser>=5.2.1 (from newspaper3k)\n",
      "  Obtaining dependency information for feedparser>=5.2.1 from https://files.pythonhosted.org/packages/7c/d4/8c31aad9cc18f451c49f7f9cfb5799dadffc88177f7917bc90a66459b1d7/feedparser-6.0.11-py3-none-any.whl.metadata\n",
      "  Downloading feedparser-6.0.11-py3-none-any.whl.metadata (2.4 kB)\n",
      "Requirement already satisfied: tldextract>=2.0.1 in c:\\users\\ianre\\anaconda3\\lib\\site-packages (from newspaper3k) (3.2.0)\n",
      "Collecting feedfinder2>=0.0.4 (from newspaper3k)\n",
      "  Downloading feedfinder2-0.0.4.tar.gz (3.3 kB)\n",
      "  Preparing metadata (setup.py): started\n",
      "  Preparing metadata (setup.py): finished with status 'done'\n",
      "Collecting jieba3k>=0.35.1 (from newspaper3k)\n",
      "  Downloading jieba3k-0.35.1.zip (7.4 MB)\n",
      "     ---------------------------------------- 0.0/7.4 MB ? eta -:--:--\n",
      "      --------------------------------------- 0.2/7.4 MB 5.3 MB/s eta 0:00:02\n",
      "     - -------------------------------------- 0.3/7.4 MB 3.5 MB/s eta 0:00:03\n",
      "     -- ------------------------------------- 0.5/7.4 MB 3.3 MB/s eta 0:00:03\n",
      "     -- ------------------------------------- 0.5/7.4 MB 3.3 MB/s eta 0:00:03\n",
      "     --- ------------------------------------ 0.6/7.4 MB 2.6 MB/s eta 0:00:03\n",
      "     ---- ----------------------------------- 0.8/7.4 MB 2.8 MB/s eta 0:00:03\n",
      "     ----- ---------------------------------- 1.0/7.4 MB 3.0 MB/s eta 0:00:03\n",
      "     ------ --------------------------------- 1.1/7.4 MB 3.0 MB/s eta 0:00:03\n",
      "     ------- -------------------------------- 1.3/7.4 MB 3.1 MB/s eta 0:00:03\n",
      "     ------- -------------------------------- 1.5/7.4 MB 3.2 MB/s eta 0:00:02\n",
      "     -------- ------------------------------- 1.6/7.4 MB 3.2 MB/s eta 0:00:02\n",
      "     --------- ------------------------------ 1.8/7.4 MB 3.2 MB/s eta 0:00:02\n",
      "     --------- ------------------------------ 1.8/7.4 MB 3.1 MB/s eta 0:00:02\n",
      "     ----------- ---------------------------- 2.1/7.4 MB 3.3 MB/s eta 0:00:02\n",
      "     ------------ --------------------------- 2.3/7.4 MB 3.3 MB/s eta 0:00:02\n",
      "     ------------ --------------------------- 2.4/7.4 MB 3.3 MB/s eta 0:00:02\n",
      "     ------------- -------------------------- 2.5/7.4 MB 3.3 MB/s eta 0:00:02\n",
      "     -------------- ------------------------- 2.8/7.4 MB 3.4 MB/s eta 0:00:02\n",
      "     --------------- ------------------------ 2.9/7.4 MB 3.4 MB/s eta 0:00:02\n",
      "     ---------------- ----------------------- 3.1/7.4 MB 3.5 MB/s eta 0:00:02\n",
      "     ------------------ --------------------- 3.3/7.4 MB 3.5 MB/s eta 0:00:02\n",
      "     ------------------ --------------------- 3.5/7.4 MB 3.5 MB/s eta 0:00:02\n",
      "     ------------------- -------------------- 3.7/7.4 MB 3.6 MB/s eta 0:00:02\n",
      "     -------------------- ------------------- 3.8/7.4 MB 3.6 MB/s eta 0:00:02\n",
      "     --------------------- ------------------ 4.0/7.4 MB 3.5 MB/s eta 0:00:01\n",
      "     ---------------------- ----------------- 4.2/7.4 MB 3.6 MB/s eta 0:00:01\n",
      "     ----------------------- ---------------- 4.3/7.4 MB 3.6 MB/s eta 0:00:01\n",
      "     ------------------------ --------------- 4.5/7.4 MB 3.6 MB/s eta 0:00:01\n",
      "     ------------------------- -------------- 4.7/7.4 MB 3.6 MB/s eta 0:00:01\n",
      "     ------------------------- -------------- 4.8/7.4 MB 3.6 MB/s eta 0:00:01\n",
      "     -------------------------- ------------- 4.9/7.4 MB 3.5 MB/s eta 0:00:01\n",
      "     --------------------------- ------------ 5.1/7.4 MB 3.5 MB/s eta 0:00:01\n",
      "     ---------------------------- ----------- 5.2/7.4 MB 3.5 MB/s eta 0:00:01\n",
      "     ---------------------------- ----------- 5.4/7.4 MB 3.5 MB/s eta 0:00:01\n",
      "     ----------------------------- ---------- 5.5/7.4 MB 3.5 MB/s eta 0:00:01\n",
      "     ------------------------------ --------- 5.7/7.4 MB 3.5 MB/s eta 0:00:01\n",
      "     ------------------------------- -------- 5.8/7.4 MB 3.5 MB/s eta 0:00:01\n",
      "     -------------------------------- ------- 6.0/7.4 MB 3.5 MB/s eta 0:00:01\n",
      "     --------------------------------- ------ 6.2/7.4 MB 3.5 MB/s eta 0:00:01\n",
      "     --------------------------------- ------ 6.3/7.4 MB 3.5 MB/s eta 0:00:01\n",
      "     ---------------------------------- ----- 6.5/7.4 MB 3.5 MB/s eta 0:00:01\n",
      "     ----------------------------------- ---- 6.6/7.4 MB 3.6 MB/s eta 0:00:01\n",
      "     ----------------------------------- ---- 6.7/7.4 MB 3.5 MB/s eta 0:00:01\n",
      "     ------------------------------------ --- 6.8/7.4 MB 3.5 MB/s eta 0:00:01\n",
      "     ------------------------------------- -- 7.0/7.4 MB 3.5 MB/s eta 0:00:01\n",
      "     -------------------------------------- - 7.2/7.4 MB 3.5 MB/s eta 0:00:01\n",
      "     ---------------------------------------  7.4/7.4 MB 3.5 MB/s eta 0:00:01\n",
      "     ---------------------------------------  7.4/7.4 MB 3.5 MB/s eta 0:00:01\n",
      "     ---------------------------------------- 7.4/7.4 MB 3.4 MB/s eta 0:00:00\n",
      "  Preparing metadata (setup.py): started\n",
      "  Preparing metadata (setup.py): finished with status 'done'\n",
      "Requirement already satisfied: python-dateutil>=2.5.3 in c:\\users\\ianre\\anaconda3\\lib\\site-packages (from newspaper3k) (2.8.2)\n",
      "Collecting tinysegmenter==0.3 (from newspaper3k)\n",
      "  Downloading tinysegmenter-0.3.tar.gz (16 kB)\n",
      "  Preparing metadata (setup.py): started\n",
      "  Preparing metadata (setup.py): finished with status 'done'\n",
      "Requirement already satisfied: soupsieve>1.2 in c:\\users\\ianre\\anaconda3\\lib\\site-packages (from beautifulsoup4>=4.4.1->newspaper3k) (2.4)\n",
      "Requirement already satisfied: six in c:\\users\\ianre\\anaconda3\\lib\\site-packages (from feedfinder2>=0.0.4->newspaper3k) (1.16.0)\n",
      "Collecting sgmllib3k (from feedparser>=5.2.1->newspaper3k)\n",
      "  Downloading sgmllib3k-1.0.0.tar.gz (5.8 kB)\n",
      "  Preparing metadata (setup.py): started\n",
      "  Preparing metadata (setup.py): finished with status 'done'\n",
      "Requirement already satisfied: click in c:\\users\\ianre\\anaconda3\\lib\\site-packages (from nltk>=3.2.1->newspaper3k) (8.0.4)\n",
      "Requirement already satisfied: joblib in c:\\users\\ianre\\anaconda3\\lib\\site-packages (from nltk>=3.2.1->newspaper3k) (1.2.0)\n",
      "Requirement already satisfied: regex>=2021.8.3 in c:\\users\\ianre\\anaconda3\\lib\\site-packages (from nltk>=3.2.1->newspaper3k) (2022.7.9)\n",
      "Requirement already satisfied: tqdm in c:\\users\\ianre\\anaconda3\\lib\\site-packages (from nltk>=3.2.1->newspaper3k) (4.65.0)\n",
      "Requirement already satisfied: charset-normalizer<4,>=2 in c:\\users\\ianre\\anaconda3\\lib\\site-packages (from requests>=2.10.0->newspaper3k) (2.0.4)\n",
      "Requirement already satisfied: idna<4,>=2.5 in c:\\users\\ianre\\anaconda3\\lib\\site-packages (from requests>=2.10.0->newspaper3k) (3.4)\n",
      "Requirement already satisfied: urllib3<3,>=1.21.1 in c:\\users\\ianre\\anaconda3\\lib\\site-packages (from requests>=2.10.0->newspaper3k) (1.26.16)\n",
      "Requirement already satisfied: certifi>=2017.4.17 in c:\\users\\ianre\\anaconda3\\lib\\site-packages (from requests>=2.10.0->newspaper3k) (2024.7.4)\n",
      "Requirement already satisfied: requests-file>=1.4 in c:\\users\\ianre\\anaconda3\\lib\\site-packages (from tldextract>=2.0.1->newspaper3k) (1.5.1)\n",
      "Requirement already satisfied: filelock>=3.0.8 in c:\\users\\ianre\\anaconda3\\lib\\site-packages (from tldextract>=2.0.1->newspaper3k) (3.9.0)\n",
      "Requirement already satisfied: colorama in c:\\users\\ianre\\anaconda3\\lib\\site-packages (from click->nltk>=3.2.1->newspaper3k) (0.4.6)\n",
      "Downloading newspaper3k-0.2.8-py3-none-any.whl (211 kB)\n",
      "   ---------------------------------------- 0.0/211.1 kB ? eta -:--:--\n",
      "   -------------------------------------- - 204.8/211.1 kB 6.3 MB/s eta 0:00:01\n",
      "   ---------------------------------------- 211.1/211.1 kB 4.3 MB/s eta 0:00:00\n",
      "Downloading feedparser-6.0.11-py3-none-any.whl (81 kB)\n",
      "   ---------------------------------------- 0.0/81.3 kB ? eta -:--:--\n",
      "   ---------------------------------------- 81.3/81.3 kB 4.4 MB/s eta 0:00:00\n",
      "Building wheels for collected packages: tinysegmenter, feedfinder2, jieba3k, sgmllib3k\n",
      "  Building wheel for tinysegmenter (setup.py): started\n",
      "  Building wheel for tinysegmenter (setup.py): finished with status 'done'\n",
      "  Created wheel for tinysegmenter: filename=tinysegmenter-0.3-py3-none-any.whl size=13566 sha256=f485d63cf0b90ef5a7a8beac59240c7113d1fb125404b2f6c0f7ce195683f5ad\n",
      "  Stored in directory: c:\\users\\ianre\\appdata\\local\\pip\\cache\\wheels\\fc\\ab\\f8\\cce3a9ae6d828bd346be695f7ff54612cd22b7cbd7208d68f3\n",
      "  Building wheel for feedfinder2 (setup.py): started\n",
      "  Building wheel for feedfinder2 (setup.py): finished with status 'done'\n",
      "  Created wheel for feedfinder2: filename=feedfinder2-0.0.4-py3-none-any.whl size=3358 sha256=11fb5ce60f24da3b91f8454fc765a40629ab0c645c0b61fed57b12f290c7b2bb\n",
      "  Stored in directory: c:\\users\\ianre\\appdata\\local\\pip\\cache\\wheels\\80\\d5\\72\\9cd9eccc819636436c6a6e59c22a0fb1ec167beef141f56491\n",
      "  Building wheel for jieba3k (setup.py): started\n",
      "  Building wheel for jieba3k (setup.py): finished with status 'done'\n",
      "  Created wheel for jieba3k: filename=jieba3k-0.35.1-py3-none-any.whl size=7398388 sha256=4f30721e2b07246a99156529b9d1318b271b0e05f37c63eb51782a59c09e7fd7\n",
      "  Stored in directory: c:\\users\\ianre\\appdata\\local\\pip\\cache\\wheels\\3a\\a1\\46\\8e68055c1713f9c4598774c15ad0541f26d5425ee7423b6493\n",
      "  Building wheel for sgmllib3k (setup.py): started\n",
      "  Building wheel for sgmllib3k (setup.py): finished with status 'done'\n",
      "  Created wheel for sgmllib3k: filename=sgmllib3k-1.0.0-py3-none-any.whl size=6061 sha256=353659d33e7b8d47a4abd7cf09824244067bc104e213a7b0b2ad4eb3bbe0af4a\n",
      "  Stored in directory: c:\\users\\ianre\\appdata\\local\\pip\\cache\\wheels\\3b\\25\\2a\\105d6a15df6914f4d15047691c6c28f9052cc1173e40285d03\n",
      "Successfully built tinysegmenter feedfinder2 jieba3k sgmllib3k\n",
      "Installing collected packages: tinysegmenter, sgmllib3k, jieba3k, feedparser, feedfinder2, newspaper3k\n",
      "Successfully installed feedfinder2-0.0.4 feedparser-6.0.11 jieba3k-0.35.1 newspaper3k-0.2.8 sgmllib3k-1.0.0 tinysegmenter-0.3\n"
     ]
    }
   ],
   "source": [
    "! pip install newspaper3k"
   ]
  },
  {
   "cell_type": "code",
   "execution_count": 81,
   "id": "56b7b635",
   "metadata": {},
   "outputs": [],
   "source": [
    "urls = [\"https://www.usnews.com/news/health-news/articles/2024-07-23/predicting-myriad-diseases-from-a-single-drop-of-blood\", \n",
    "        \"https://www.usnews.com/news/health-news/articles/2024-07-22/scientists-may-have-stopped-a-form-of-inherited-blindness-in-dogs\",\n",
    "       \"https://www.usnews.com/news/health-news/articles/2024-07-19/too-many-breast-cancer-survivors-miss-out-on-genetic-screening\",\n",
    "       \"https://www.usnews.com/news/health-news/articles/2024-07-19/current-gene-screens-miss-many-at-high-cancer-risk-study\",\n",
    "       \"https://www.usnews.com/news/health-news/articles/2024-07-15/thinking-of-a-switch-away-from-meat-your-genes-may-be-key\",\n",
    "       \"https://www.usnews.com/news/health-news/articles/2024-07-02/some-genes-might-send-girls-into-puberty-earlier\",\n",
    "       \"https://www.usnews.com/news/health-news/articles/2024-06-20/colombian-familys-genes-could-hold-key-to-delaying-alzheimers\",\n",
    "       \"https://www.usnews.com/news/health-news/articles/2024-06-18/another-study-finds-crispr-gene-therapy-fights-sickle-cell\",\n",
    "       \"https://www.usnews.com/news/health-news/articles/2024-06-17/inherited-alzheimers-whether-its-from-mom-or-dad-could-matter\",\n",
    "       \"https://www.usnews.com/news/health-news/articles/2024-06-05/gene-therapy-in-both-ears-restores-hearing-to-babies-born-deaf\",\n",
    "       \"https://www.usnews.com/news/health-news/articles/2024-06-03/gene-targeted-immunotherapy-boosts-survival-for-some-colon-cancer-patients\",\n",
    "       \"https://www.usnews.com/news/health-news/articles/2024-06-03/scientists-spot-gene-behind-form-of-intellectual-disability-affecting-thousands-worldwide\",\n",
    "       \"https://www.usnews.com/news/health-news/articles/2024-05-15/early-hints-at-a-gene-therapy-cure-for-herpes\",\n",
    "       \"https://www.usnews.com/news/health-news/articles/2024-05-10/baby-girl-born-deaf-gains-hearing-after-gene-therapy\",\n",
    "       \"https://www.usnews.com/news/health-news/articles/2024-05-07/gene-discovery-points-to-a-new-form-of-alzheimers\",\n",
    "       \"https://www.usnews.com/news/health-news/articles/2024-05-06/gene-therapy-improves-vision-in-people-with-inherited-blindness\",\n",
    "       \"https://www.usnews.com/news/health-news/articles/2024-04-30/living-healthy-counters-effects-of-life-shortening-genes\",\n",
    "       \"https://www.usnews.com/news/health-news/articles/2024-04-29/scientists-discover-cause-of-rare-movement-disorder\",\n",
    "       \"https://www.usnews.com/news/health-news/articles/2024-04-24/patient-gets-first-ever-pig-kidney-transplant-plus-heart-pump\",\n",
    "       \"https://www.usnews.com/news/health-news/articles/2024-04-04/rare-genes-can-raise-odds-for-obesity-6-fold\",\n",
    "       \"https://www.usnews.com/news/health-news/articles/2024-03-29/mutation-helps-even-carriers-of-alzheimers-gene-avoid-alzheimers\",\n",
    "       \"https://www.usnews.com/news/health-news/articles/2024-03-28/stressed-some-genes-could-raise-your-heart-attack-risk\",\n",
    "       \"https://www.usnews.com/news/health-news/articles/2024-03-21/surgeons-implant-pig-kidney-into-first-living-human-patient\",\n",
    "       \"https://www.usnews.com/news/health-news/articles/2024-03-14/researchers-find-gene-that-may-shield-men-from-severe-covid-19\",\n",
    "       \"https://www.usnews.com/news/health-news/articles/2024-02-02/why-some-folks-get-covid-and-others-never-do\",\n",
    "       \"https://www.usnews.com/news/health-news/articles/2024-03-07/many-labradors-become-obese-and-research-shows-why\",\n",
    "       \"https://www.usnews.com/news/health-news/articles/2024-02-21/remains-show-prehistoric-peoples-cared-for-those-with-down-syndrome\",\n",
    "       \"https://www.usnews.com/news/health-news/articles/2024-02-20/preventive-mastectomies-may-save-lives-of-women-with-breast-cancer-genes\",\n",
    "       \"https://www.usnews.com/news/health-news/articles/2024-02-20/gene-based-tests-could-predict-your-odds-for-common-illnesses\",\n",
    "       \"https://www.usnews.com/news/health-news/articles/2024-01-25/gene-therapy-brings-hearing-to-kids-with-congenital-deafness\"]"
   ]
  },
  {
   "cell_type": "code",
   "execution_count": 82,
   "id": "592d4183",
   "metadata": {},
   "outputs": [
    {
     "name": "stdout",
     "output_type": "stream",
     "text": [
      "Empty DataFrame\n",
      "Columns: [title, content]\n",
      "Index: []\n"
     ]
    }
   ],
   "source": [
    "df = pd.DataFrame(columns=['title','content'])\n",
    "print(df)"
   ]
  },
  {
   "cell_type": "code",
   "execution_count": 83,
   "id": "84a1ab59",
   "metadata": {},
   "outputs": [],
   "source": [
    "for i in range(len(urls)):\n",
    "    article=Article(urls[i])\n",
    "    article.download()\n",
    "    article.parse()\n",
    "    article.nlp()\n",
    "    new_row = {'title': article.title, 'content': article.text}\n",
    "    df = pd.concat([df, pd.DataFrame([new_row])], ignore_index=True)"
   ]
  },
  {
   "cell_type": "code",
   "execution_count": 84,
   "id": "11da64a3",
   "metadata": {},
   "outputs": [
    {
     "name": "stdout",
     "output_type": "stream",
     "text": [
      "                                                title  \\\n",
      "0   Predicting Myriad Diseases From a Single Drop ...   \n",
      "1   Scientists May Have Stopped a Form of Inherite...   \n",
      "2   Too Many Breast Cancer Survivors Miss Out on G...   \n",
      "3   Current Gene Screens Miss Many at High Cancer ...   \n",
      "4   Thinking of a Switch Away from Meat? Your Gene...   \n",
      "5    Some Genes Might Send Girls Into Puberty Earlier   \n",
      "6   Colombian Family's Genes Could Hold Key to Del...   \n",
      "7   Another Study Finds CRISPR Gene Therapy Fights...   \n",
      "8   Inherited Alzheimer's: Whether It's From Mom o...   \n",
      "9   Gene Therapy in Both Ears Restores Hearing to ...   \n",
      "10  Gene-Targeted Immunotherapy Boosts Survival fo...   \n",
      "11  Scientists Spot Gene Behind Form of Intellectu...   \n",
      "12      Early Hints at a Gene Therapy Cure for Herpes   \n",
      "13  Baby Girl Born Deaf Gains Hearing After Gene T...   \n",
      "14  Gene Discovery Points to a New Form of Alzheim...   \n",
      "15  Gene Therapy Improves Vision in People With In...   \n",
      "16  Living Healthy Counters Effects of 'Life-Short...   \n",
      "17  Scientists Discover Cause of Rare Movement Dis...   \n",
      "18  Patient Gets First-Ever Pig Kidney Transplant ...   \n",
      "19       Rare Genes Can Raise Odds for Obesity 6-Fold   \n",
      "20  Mutation Helps Even Carriers of 'Alzheimer's G...   \n",
      "21  Stressed? Some Genes Could Raise Your Heart At...   \n",
      "22  Surgeons Implant Pig Kidney Into First Living ...   \n",
      "23  Researchers Find Gene That May Shield Men From...   \n",
      "24       Why Some Folks Get COVID and Others Never Do   \n",
      "25  Many Labradors Become Obese and Research Shows...   \n",
      "26  Remains Show Prehistoric Peoples Cared for Tho...   \n",
      "27  Preventive Mastectomies May Save Lives of Wome...   \n",
      "28  Gene-Based Tests Could Predict Your Odds for C...   \n",
      "29  Gene Therapy Brings Hearing to Kids With Conge...   \n",
      "\n",
      "                                              content  \n",
      "0   By Dennis Thompson HealthDay Reporter\\n\\nHealt...  \n",
      "1   By Ernie Mundell HealthDay Reporter\\n\\nHealthD...  \n",
      "2   By Dennis Thompson HealthDay Reporter\\n\\nHealt...  \n",
      "3   By Ernie Mundell HealthDay Reporter\\n\\nHealthD...  \n",
      "4   By Dennis Thompson HealthDay Reporter\\n\\nHealt...  \n",
      "5   By Dennis Thompson HealthDay Reporter\\n\\nHealt...  \n",
      "6   By Dennis Thompson HealthDay Reporter\\n\\nHealt...  \n",
      "7   By Ernie Mundell HealthDay Reporter\\n\\nHealthD...  \n",
      "8   By Ernie Mundell HealthDay Reporter\\n\\nHealthD...  \n",
      "9   By Dennis Thompson HealthDay Reporter\\n\\nHealt...  \n",
      "10  By Ernie Mundell HealthDay Reporter\\n\\nHealthD...  \n",
      "11  By Dennis Thompson HealthDay Reporter\\n\\nHealt...  \n",
      "12  By Dennis Thompson HealthDay Reporter\\n\\nHealt...  \n",
      "13  By Ernie Mundell HealthDay Reporter\\n\\nHealthD...  \n",
      "14  By Dennis Thompson HealthDay Reporter\\n\\nHealt...  \n",
      "15  By Dennis Thompson HealthDay Reporter\\n\\nHealt...  \n",
      "16  By Dennis Thompson HealthDay Reporter\\n\\nHealt...  \n",
      "17  By Dennis Thompson HealthDay Reporter\\n\\nHealt...  \n",
      "18  By Dennis Thompson HealthDay Reporter\\n\\nHealt...  \n",
      "19  By Dennis Thompson HealthDay Reporter\\n\\nHealt...  \n",
      "20  By Dennis Thompson HealthDay Reporter\\n\\nHealt...  \n",
      "21  By Dennis Thompson HealthDay Reporter\\n\\nHealt...  \n",
      "22  By Dennis Thompson HealthDay Reporter\\n\\nHealt...  \n",
      "23  By Carole Tanzer Miller HealthDay Reporter\\n\\n...  \n",
      "24  By Ernie Mundell HealthDay Reporter\\n\\nHealthD...  \n",
      "25  By Dennis Thompson HealthDay Reporter\\n\\nHealt...  \n",
      "26  By Dennis Thompson HealthDay Reporter\\n\\nHealt...  \n",
      "27  By Ernie Mundell HealthDay Reporter\\n\\nHealthD...  \n",
      "28  By Dennis Thompson HealthDay Reporter\\n\\nHealt...  \n",
      "29  By Dennis Thompson HealthDay Reporter\\n\\nHealt...  \n"
     ]
    }
   ],
   "source": [
    "print(df)"
   ]
  },
  {
   "cell_type": "code",
   "execution_count": 85,
   "id": "8f14f913",
   "metadata": {},
   "outputs": [
    {
     "data": {
      "text/plain": [
       "'By Dennis Thompson HealthDay Reporter\\n\\nHealthDay\\n\\nTUESDAY, July 23, 2024 (HealthDay News) -- A single drop of blood might be able to predict the onset of dozens of diseases, a new study claims.\\n\\nAnalysis of the protein “signatures” in a droplet of blood can predict 67 diseases, including blood cancers, degenerative nerve diseases, lung disease and heart failure, researchers reported July 22 in the journal Nature Medicine.\\n\\nFor the study, researchers analyzed the blood proteins of more than 40,000 randomly selected participants in the ongoing UK Biobank study.\\n\\nLooking at the participants’ electronic health records, researchers pinpointed 5 to 20 proteins most closely associated with each disease.\\n\\nThese protein “signatures” outperformed other standard tests that used measures like blood cell counts, cholesterol levels, kidney function and blood sugar levels to predict the 67 diseases, researchers report.\\n\\n“Several of our protein signatures performed similar or even better than proteins already trialled for their potential as screening tests, such as prostate specific antigen for prostate cancer,” said lead researcher Julia Carrasco Zanini Sanchez, a postdoctoral researcher with the Precision Healthcare University Research Institute at Queen Mary University of London.\\n\\n“We are therefore extremely excited about the opportunities that our protein signatures may have for earlier detection and ultimately improved prognosis for many diseases,” Sanchez added in a university news release.\\n\\nSuch a simple blood test could not only improve early detection of diseases, but might also help in the search for new medicines, said senior researcher Robert Scott, vice president and head of human genetics and genomics at the pharmaceutical company GSK.\\n\\n“A key challenge in drug development is the identification of patients most likely to benefit from new medicines,” Scott said.\\n\\nProtein blood tests could be used “to identify individuals at high risk across a wide range of diseases, and aligns with our approach to use tech to deepen our understanding of human biology and disease,” Scott added.\\n\\nHowever, the researchers said their findings need to be validated in different groups of people, including folks from different ethnic groups and with varying levels of symptoms for different diseases.\\n\\nMore information\\n\\nThe Cleveland Clinic has more on blood tests for disease.\\n\\nSOURCE: Queen Mary University of London, news release, July 22, 2024'"
      ]
     },
     "execution_count": 85,
     "metadata": {},
     "output_type": "execute_result"
    }
   ],
   "source": [
    "df['content'][0]"
   ]
  },
  {
   "cell_type": "code",
   "execution_count": 87,
   "id": "2661e42f",
   "metadata": {},
   "outputs": [
    {
     "name": "stdout",
     "output_type": "stream",
     "text": [
      "Average number of words: 518.3666666666667\n",
      "Average number of characters: 3283.366666666667\n"
     ]
    }
   ],
   "source": [
    "df['word_count'] = df['content'].apply(lambda x: len(x.split()))\n",
    "df['char_count'] = df['content'].apply(lambda x: len(x))\n",
    "\n",
    "# Compute the average number of words and characters\n",
    "average_words = df['word_count'].mean()\n",
    "average_chars = df['char_count'].mean()\n",
    "\n",
    "print(f\"Average number of words: {average_words}\")\n",
    "print(f\"Average number of characters: {average_chars}\")"
   ]
  },
  {
   "cell_type": "code",
   "execution_count": 86,
   "id": "c492e330",
   "metadata": {},
   "outputs": [],
   "source": [
    "df.to_csv(\"genetic_articles.csv\",index=False)"
   ]
  },
  {
   "cell_type": "code",
   "execution_count": 68,
   "id": "94cced26",
   "metadata": {},
   "outputs": [
    {
     "name": "stdout",
     "output_type": "stream",
     "text": [
      "By Dennis Thompson HealthDay Reporter\n",
      "\n",
      "HealthDay\n",
      "\n",
      "TUESDAY, July 23, 2024 (HealthDay News) -- A single drop of blood might be able to predict the onset of dozens of diseases, a new study claims.\n",
      "\n",
      "Analysis of the protein “signatures” in a droplet of blood can predict 67 diseases, including blood cancers, degenerative nerve diseases, lung disease and heart failure, researchers reported July 22 in the journal Nature Medicine.\n",
      "\n",
      "For the study, researchers analyzed the blood proteins of more than 40,000 randomly selected participants in the ongoing UK Biobank study.\n",
      "\n",
      "Looking at the participants’ electronic health records, researchers pinpointed 5 to 20 proteins most closely associated with each disease.\n",
      "\n",
      "These protein “signatures” outperformed other standard tests that used measures like blood cell counts, cholesterol levels, kidney function and blood sugar levels to predict the 67 diseases, researchers report.\n",
      "\n",
      "“Several of our protein signatures performed similar or even better than proteins already trialled for their potential as screening tests, such as prostate specific antigen for prostate cancer,” said lead researcher Julia Carrasco Zanini Sanchez, a postdoctoral researcher with the Precision Healthcare University Research Institute at Queen Mary University of London.\n",
      "\n",
      "“We are therefore extremely excited about the opportunities that our protein signatures may have for earlier detection and ultimately improved prognosis for many diseases,” Sanchez added in a university news release.\n",
      "\n",
      "Such a simple blood test could not only improve early detection of diseases, but might also help in the search for new medicines, said senior researcher Robert Scott, vice president and head of human genetics and genomics at the pharmaceutical company GSK.\n",
      "\n",
      "“A key challenge in drug development is the identification of patients most likely to benefit from new medicines,” Scott said.\n",
      "\n",
      "Protein blood tests could be used “to identify individuals at high risk across a wide range of diseases, and aligns with our approach to use tech to deepen our understanding of human biology and disease,” Scott added.\n",
      "\n",
      "However, the researchers said their findings need to be validated in different groups of people, including folks from different ethnic groups and with varying levels of symptoms for different diseases.\n",
      "\n",
      "More information\n",
      "\n",
      "The Cleveland Clinic has more on blood tests for disease.\n",
      "\n",
      "SOURCE: Queen Mary University of London, news release, July 22, 2024\n"
     ]
    }
   ],
   "source": [
    "import newspaper\n",
    "from newspaper import Article\n",
    "\n",
    "#The Basics of downloading the article to memory\n",
    "article = Article(\"https://www.usnews.com/news/health-news/articles/2024-07-23/predicting-myriad-diseases-from-a-single-drop-of-blood\")\n",
    "article.download()\n",
    "article.parse()\n",
    "article.nlp()\n",
    "\n",
    "# To print out the full text\n",
    "print(article.text)\n",
    "\n",
    "#Other functions to gather the other useful bits of meta data in an article\n",
    "#article.title # Gives the title\n",
    "\n"
   ]
  },
  {
   "cell_type": "code",
   "execution_count": null,
   "id": "fa014242",
   "metadata": {},
   "outputs": [],
   "source": [
    "#News API, did not use"
   ]
  },
  {
   "cell_type": "code",
   "execution_count": 7,
   "id": "cca22487",
   "metadata": {},
   "outputs": [
    {
     "name": "stdout",
     "output_type": "stream",
     "text": [
      "Collecting newsapi-python\n",
      "  Obtaining dependency information for newsapi-python from https://files.pythonhosted.org/packages/74/47/e3b099102f0c826d37841d2266e19f1568dcf58ba86e4c6948e2a124f91d/newsapi_python-0.2.7-py2.py3-none-any.whl.metadata\n",
      "  Downloading newsapi_python-0.2.7-py2.py3-none-any.whl.metadata (1.2 kB)\n",
      "Requirement already satisfied: requests<3.0.0 in c:\\users\\ianre\\anaconda3\\lib\\site-packages (from newsapi-python) (2.31.0)\n",
      "Requirement already satisfied: charset-normalizer<4,>=2 in c:\\users\\ianre\\anaconda3\\lib\\site-packages (from requests<3.0.0->newsapi-python) (2.0.4)\n",
      "Requirement already satisfied: idna<4,>=2.5 in c:\\users\\ianre\\anaconda3\\lib\\site-packages (from requests<3.0.0->newsapi-python) (3.4)\n",
      "Requirement already satisfied: urllib3<3,>=1.21.1 in c:\\users\\ianre\\anaconda3\\lib\\site-packages (from requests<3.0.0->newsapi-python) (1.26.16)\n",
      "Requirement already satisfied: certifi>=2017.4.17 in c:\\users\\ianre\\anaconda3\\lib\\site-packages (from requests<3.0.0->newsapi-python) (2024.7.4)\n",
      "Downloading newsapi_python-0.2.7-py2.py3-none-any.whl (7.9 kB)\n",
      "Installing collected packages: newsapi-python\n",
      "Successfully installed newsapi-python-0.2.7\n"
     ]
    }
   ],
   "source": [
    "! pip install newsapi-python"
   ]
  },
  {
   "cell_type": "code",
   "execution_count": 8,
   "id": "d2aec833",
   "metadata": {},
   "outputs": [],
   "source": [
    "from newsapi import NewsApiClient\n",
    "import datetime as dt\n"
   ]
  },
  {
   "cell_type": "code",
   "execution_count": 38,
   "id": "215d5fb4",
   "metadata": {},
   "outputs": [],
   "source": [
    "newsapi = NewsApiClient(api_key='7823737d843f4723867cdbbbea6606bf')"
   ]
  },
  {
   "cell_type": "code",
   "execution_count": 43,
   "id": "df69f19d",
   "metadata": {},
   "outputs": [],
   "source": [
    "data = newsapi.get_everything(q='developments in genetics', language='en', page_size=100)"
   ]
  },
  {
   "cell_type": "code",
   "execution_count": 44,
   "id": "3c77322d",
   "metadata": {},
   "outputs": [
    {
     "data": {
      "text/plain": [
       "dict"
      ]
     },
     "execution_count": 44,
     "metadata": {},
     "output_type": "execute_result"
    }
   ],
   "source": [
    "type(data)"
   ]
  },
  {
   "cell_type": "code",
   "execution_count": 45,
   "id": "d7d75342",
   "metadata": {},
   "outputs": [
    {
     "data": {
      "text/plain": [
       "dict_keys(['status', 'totalResults', 'articles'])"
      ]
     },
     "execution_count": 45,
     "metadata": {},
     "output_type": "execute_result"
    }
   ],
   "source": [
    "data.keys()"
   ]
  },
  {
   "cell_type": "code",
   "execution_count": 49,
   "id": "4502644a",
   "metadata": {},
   "outputs": [
    {
     "data": {
      "text/plain": [
       "62"
      ]
     },
     "execution_count": 49,
     "metadata": {},
     "output_type": "execute_result"
    }
   ],
   "source": [
    "len(data['articles'])"
   ]
  },
  {
   "cell_type": "code",
   "execution_count": 51,
   "id": "57bb79e6",
   "metadata": {},
   "outputs": [
    {
     "name": "stdout",
     "output_type": "stream",
     "text": [
      "0  Exploring pathological link between antimicrobial and amyloid peptides\n",
      "1  AI Personalizes Healthcare, Transforming Delivery And Saving Lives\n",
      "2  AI Applications In Farming: How Technology Can Help Solve Hunger\n",
      "3  General Theory of Neural Networks\n",
      "4  The Bleak Genius of Michel Foucault\n",
      "5  How public universities hooked America on meat\n",
      "6  Twenty Lung Cancer Advocacy Organizations and 23andMe Come Together to Launch Lung Cancer Genetics Study to Help Advance Research\n",
      "7  Myriad Genetics secures new patent for MRD assay technology\n",
      "8  Sleep: The dreamiest new industry\n",
      "9  BioHacking Market Is Expected To Reach A Revenue Of USD 159.1 Bn By 2033, at 20.2% CAGR: Dimension Market Research\n",
      "10  [Removed]\n",
      "11  Global Cell Freezing Media Market Size To Worth USD 387.5 Million By 2033 l CAGR Of 9.66%\n",
      "12  Global Genotyping Assay Market Research and Forecasts to 2029\n",
      "13  23andMe to Report Q1 FY2025 Financial Results\n",
      "14  Global PCOS Diagnostic Market Size To Exceed USD 6.1 Billion By 2033 | CAGR Of 5.18%\n",
      "15  Infectious Disease Molecular Diagnostics Market for 100 Tests 2024-2029: Supplier Shares, Competitive Strategies, Technologies, Instrumentation for 7MM - France, Germany, Italy, Japan, Spain, UK, USA\n",
      "16  Single-fly genome assemblies fill major phylogenomic gaps across the Drosophilidae Tree of Life\n",
      "17  Hobby Thread Redux - July 20, 2024 [TRex]\n",
      "18  Genomics Personalized Health Market Valuation Set to Skyrocket at a CAGR of 14.6% and Reach USD 57.9 Billion By 2032 | Astute Analytica\n",
      "19  2024-2029 France Infectious Disease Molecular Diagnostics Market for 100 Tests: Supplier Shares, Competitive Strategies, Innovative Technologies, Instrumentation Review\n",
      "20  23andMe And Nightingale Health Announce Strategic Collaboration To Pilot Blood Biomarker Panel\n",
      "21  Infertility Drugs & Devices market is projected to grow at a CAGR of 6.2% by 2034: Visiongain\n",
      "22  23andMe And Nightingale Health Announce Strategic Collaboration To Pilot Blood Biomarker Panel\n",
      "23  Endophytic and epiphytic metabarcoding reveals fungal communities on cashew phyllosphere in Kenya\n",
      "24  Mainz Biomed reports progress in colorectal cancer diagnostics\n",
      "25  Global Genetically Modified Seeds Market Report 2024-2028, with Focus on Corn, Soybean, Cotton and Canola\n",
      "26  Single Nucleotide Polymorphism (SNP) Genotyping: Technologies and Global Markets to 2029 Featuring Profiles of Agilent Technologies, Roche, Illumina, Qiagen, and Thermo Fisher Scientific\n",
      "27  Mainz Biomed Launches Enhanced ColoAlert with Cutting-Edge Features to Optimize Screening Efficiency and User Convenience\n",
      "28  Merck acquires EyeBio to boost retinal disease treatment\n",
      "29  Tilray Receives First New Cannabis Cultivation License in Germany Under New Regulations\n",
      "30  Global Biomarker Discovery Outsourcing Services Market Size To Worth USD 34.2 Billion By 2033 | CAGR of 10.41%\n",
      "31  Global Renal Biomarkers Market Size To Exceed USD 3,081.6 Million By 2033 | CAGR of 7.53%\n",
      "32  Ethical preparedness in genomic medicine: how NHS clinical scientists navigate ethical issues\n",
      "33  Mainz Biomed Provides Half Year 2024 Corporate Update\n",
      "34  Mainz Biomed Announces Submission for FDA Breakthrough Device Designation for its Next Generation CRC Screening Test\n",
      "35  Assisted Reproductive Technology Market Report 2024-2033: Vitrolife Leads the Competition with 9.8% Share, Followed by Ferring, and Progyny\n",
      "36  Mainz Biomed Announces Submission for FDA Breakthrough Device Designation for its Next Generation CRC Screening Test\n",
      "37  Plant Genotyping Equipment Market Size to Hit 1662.43 Million by 2032, Owing to Technological Advancements and Rising Demand for High-Yield Crops | Research by SNS Insider\n",
      "38  Genotyping Assay Market Poised for 22.5% CAGR Growth to USD 285.3 Billion by 2034, Fueled by Advances in Regenerative Medicine and Stem Cell Research | TMR\n",
      "39  Medication Management Market Size Worth US$ 6.29 Billion by 2032, Boosted by Worldwide Deployment of IT In the Healthcare Sector | Report by SNS Insider\n",
      "40  Orchard Therapeutics Celebrates Global Progress toward Advancing Newborn Screening for MLD on International Neonatal Screening Day\n",
      "41  Personalized Medicine Biomarker Market Size to Reach USD 72.7 Billion By 2033, at 17.5 CAGR: Insights by Dimension Market Research\n",
      "42  Molecular Farming Market Size Projected to Reach USD 1415.8 Million by 2034, at 11.0% CAGR Rise: Prophecy Market Insights\n",
      "43  Worldwide Clinical Laboratory Services Research Report 2023-2024 & 2028: Essential and Routine Testing, Immunology and Microbiology, Cytology and Histology, Genetic, Toxicology, COVID-19\n",
      "44  AI in Medical Diagnostics Market Insights and Forecast, 2024-2033 - Top Ten Competitors Account for 56.02% of the Total Revenue, Led by Siemens Healthineers, Followed Closely by Merative L.P.\n",
      "45  Press Release: Dupixent approved in the EU as the first-ever targeted therapy for patients with COPD\n",
      "46  Press Release: Dupixent approved in the EU as the first-ever targeted therapy for patients with COPD\n",
      "47  Above Food Provides Business Update\n",
      "48  Share Market Highlights July 9, 2024: Sensex, Nifty hit new all-time closing high levels; Maruti top gainer\n",
      "49  Eurofins provides further refutations to another set of baseless allegations and misleading information spread by Muddy Waters\n",
      "50  Above Food and Bite Acquisition Corp. Announce Completion of Business Combination\n",
      "51  Above Food and Bite Acquisition Corp. Announce Completion of Business Combination\n",
      "52  Dupixent® (dupilumab) Approved in the European Union as the First-ever Targeted Therapy for Patients with COPD\n",
      "53  Dupixent ® (dupilumab) Approved in the European Union as the First-ever Targeted Therapy for Patients with COPD\n",
      "54  Pancreatic Cancer Market to Grow Rapidly by 2034, Predicts DelveInsight | Key Companies - FibroGen, OSE Immunotherapeutics, Panbela Therapeutics, Lokon Pharma, Helix Biopharma, Tvardi Therapeutics, BioNTech, XBiotech, Lumicell, CARsgen Ther\n",
      "55  Rebroadcast: Why are cancer rates rising among young people?\n",
      "56  NIMH Research Education Mentoring Program for HIV Researchers (R25 Clinical Trial Not Allowed)\n",
      "57  Dynamic interplay of developing internalising and externalising mental health from early childhood to mid-adolescence: Teasing apart trait, state, and cross-cohort effects\n",
      "58  New era of personalised nutrition shown in Clare Collins lecture\n",
      "59  Clinician’s perspectives on gene therapy for Alzheimer’s disease: A qualitative study\n",
      "60  A Family Mystery, a Cancer Breakthrough, and a Sea of Uncertainty\n",
      "61  Share Market Highlights 4 July 2024: Sensex and Nifty close flat; pharma and auto stocks shine\n"
     ]
    }
   ],
   "source": [
    "articles = data['articles']\n",
    "for x,y in enumerate(articles):\n",
    "    print(f'{x}  {y[\"title\"]}')"
   ]
  },
  {
   "cell_type": "code",
   "execution_count": null,
   "id": "42b505f4",
   "metadata": {},
   "outputs": [],
   "source": []
  }
 ],
 "metadata": {
  "kernelspec": {
   "display_name": "Python 3 (ipykernel)",
   "language": "python",
   "name": "python3"
  },
  "language_info": {
   "codemirror_mode": {
    "name": "ipython",
    "version": 3
   },
   "file_extension": ".py",
   "mimetype": "text/x-python",
   "name": "python",
   "nbconvert_exporter": "python",
   "pygments_lexer": "ipython3",
   "version": "3.11.4"
  }
 },
 "nbformat": 4,
 "nbformat_minor": 5
}
